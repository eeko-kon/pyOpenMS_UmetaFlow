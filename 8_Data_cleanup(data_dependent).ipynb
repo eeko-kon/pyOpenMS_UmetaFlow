{
 "cells": [
  {
   "cell_type": "code",
   "execution_count": null,
   "metadata": {},
   "outputs": [],
   "source": [
    "import numpy as np\n",
    "import pandas as pd\n",
    "import glob\n",
    "import os"
   ]
  },
  {
   "cell_type": "code",
   "execution_count": null,
   "metadata": {},
   "outputs": [],
   "source": [
    "FeatureMatrix= os.path.join(\"results\", \"features\", \"FeatureMatrix.tsv\")\n",
    "DF_features= pd.read_csv(FeatureMatrix, sep=\"\\t\")\n",
    "DF_features=DF_features.set_index([\"mz\", \"RT\"])\n",
    "DF_features= DF_features.drop(columns=[\"charge\", \"quality\", \"id\"])\n",
    "DF_features= DF_features.fillna(0)\n",
    "DF_features[\"feature_ids\"]= [ids[1:-1].split(\",\") for ids in DF_features[\"feature_ids\"]]\n",
    "DF_features"
   ]
  },
  {
   "attachments": {},
   "cell_type": "markdown",
   "metadata": {},
   "source": [
    "` Filter the feature matrix (optional)`"
   ]
  },
  {
   "cell_type": "code",
   "execution_count": null,
   "metadata": {},
   "outputs": [],
   "source": [
    "path= os.path.join(\"results\", \"interim\", \"analysis\")\n",
    "isExist= os.path.exists(path)\n",
    "if not isExist:\n",
    "    os.mkdir(path)"
   ]
  },
  {
   "attachments": {},
   "cell_type": "markdown",
   "metadata": {},
   "source": [
    " Replace the presence of a feature with NaN if the feature is present in only 1 out of 3 replicates"
   ]
  },
  {
   "cell_type": "code",
   "execution_count": null,
   "metadata": {},
   "outputs": [],
   "source": [
    "def rep_filter(csvfile):\n",
    "    Features= pd.read_csv(csvfile, sep=\"\\t\", index_col=\"Unnamed: 0\")\n",
    "    Features= Features.set_index([\"mz\", \"RT\"])\n",
    "    Features= Features.sort_index(axis=1)\n",
    "    cols= Features.columns\n",
    "    Features= Features.fillna(0)\n",
    "    Features= Features.transpose()\n",
    "    Features= Features.reset_index()\n",
    "    Features['genomeID']=Features['index'].str.extract(r'(NBC_?\\d*)')\n",
    "    Features['genomeID_MDNA']=Features['index'].str.extract(r'(MDNAWGS?\\d*|MDNA_WGS_?\\d*)')\n",
    "    Features['genomeID']=Features['genomeID'].fillna(Features['genomeID_MDNA'])\n",
    "    Features= Features.drop(columns=[\"genomeID_MDNA\"])\n",
    "    Features=Features.set_index([\"index\"])\n",
    "    Grouped= Features.groupby(\"genomeID\")\n",
    "    DF= Grouped.transform(lambda x: np.nan if np.count_nonzero(x)<2 else x)\n",
    "    DF=DF.transpose()\n",
    "    DF=DF.reset_index()\n",
    "    file_path = os.path.join(os.path.dirname(csvfile), os.path.basename(csvfile)[10:])\n",
    "    DF.to_csv(file_path, sep=\"\\t\", index=None)"
   ]
  },
  {
   "cell_type": "code",
   "execution_count": null,
   "metadata": {},
   "outputs": [],
   "source": [
    "csvfiles= glob.glob(os.path.join(path, \"noise_thr_*.csv\"))\n",
    "for csvfile in csvfiles:\n",
    "    rep_filter(csvfile)"
   ]
  }
 ],
 "metadata": {
  "kernelspec": {
   "display_name": "Python 3.10.4 ('pyopenms')",
   "language": "python",
   "name": "python3"
  },
  "language_info": {
   "codemirror_mode": {
    "name": "ipython",
    "version": 3
   },
   "file_extension": ".py",
   "mimetype": "text/x-python",
   "name": "python",
   "nbconvert_exporter": "python",
   "pygments_lexer": "ipython3",
   "version": "3.10.4"
  },
  "orig_nbformat": 4,
  "vscode": {
   "interpreter": {
    "hash": "edde62aa2661007f0756e9790e7a328c288a583bf6ce768a355147dac67c8db8"
   }
  }
 },
 "nbformat": 4,
 "nbformat_minor": 2
}
