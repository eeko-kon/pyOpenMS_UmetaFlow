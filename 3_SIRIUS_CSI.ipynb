{
 "cells": [
  {
   "cell_type": "markdown",
   "id": "5e2e6859",
   "metadata": {},
   "source": [
    "## `Formula and structural predictions of the preprocessed data`"
   ]
  },
  {
   "cell_type": "markdown",
   "metadata": {},
   "source": [
    "Import libraries:"
   ]
  },
  {
   "cell_type": "code",
   "execution_count": null,
   "metadata": {},
   "outputs": [],
   "source": [
    "import os\n",
    "import glob\n",
    "import sys\n",
    "sys.path.insert(0, '/Users/eeko/openms-develop/openms_build/pyOpenMS')\n",
    "from pyopenms import *\n",
    "import shutil"
   ]
  },
  {
   "cell_type": "markdown",
   "id": "14b8a4ae",
   "metadata": {},
   "source": [
    "#### `1) SIRIUS Adapter`\n",
    "The SIRIUS function is optional and includes the SIRIUS Adapter Algorithm from the Boecher lab. \n",
    "\n",
    "\n",
    "The algorithm generates formula predictions from scores calculated from 1) MS2 fragmentation scores (ppm error + intensity) and 2) MS1 isotopic pattern scores.\n",
    "\n",
    "\n",
    "It can only compute feautures that are singly charged. There is also a compound timeout so that it doesn\"t compute for longer than 100 seconds per feature, which normally happens with larger molecules.\n",
    "        \n",
    ">-sirius:compound_timeout <number>                    \n",
    "\n",
    ">Maximal computation time in seconds for a single compound. 0 for an infinite amount of time. (default: \"100\" min: \"0\")\n",
    "\n",
    "#### `2) CSI:FingerID`\n",
    "\n",
    "The CSI_fingerID function is another algorithm from the Boecher lab, just like SIRIUS adapter and is using the formula predictions from SIRIUS, to search in structural libraries and predict the structure of each formula\n",
    "\n",
    "If you replace: \n",
    "    \n",
    ">out_csifingerid = os.path.join(\"results\", \"\", \"interim\", \"\", \"CSI\", \"\", \"structures_\" + os.path.basename(filename) +\".mzTab\")\n",
    "\n",
    "with an empty string:\n",
    "\n",
    ">out_csifingerid = \"\"\n",
    "        \n",
    "CSI:FingerID will be ignored and will not be computed.\n",
    "\n",
    "###### Documentation: https:\"\"boecker-lab.github.io\"docs.sirius.github.io\"\n",
    "\n",
    "###### Citation: Kai Dührkop, Huibin Shen, Marvin Meusel, Juho Rousu, and Sebastian Böcker, Searching molecular structure databases with tandem mass spectra using CSI:FingerID, PNAS October 13, 2015 112 (41) 12580-12585, https:\"\"doi.org\"10.1073\"pnas.1509788112"
   ]
  },
  {
   "cell_type": "code",
   "execution_count": null,
   "id": "7e793c80",
   "metadata": {},
   "outputs": [],
   "source": [
    "path = os.path.join(\"results\", \"interim\", \"Sirius\")\n",
    "if not os.path.exists(path): # if it doesn't exist\n",
    "    os.mkdir(path) # create a path directory\n",
    "\n",
    "feature_files = sorted(glob.glob(os.path.join(\"results\", \"interim\", \"Requantification\", \"MFD_*.featureXML\")))\n",
    "input_mzml_files = sorted(glob.glob(os.path.join(\"results\", \"interim\", \"Requantification\", \"MapAligned_*.mzML\")))\n",
    "\n",
    "feature_maps = []\n",
    "for file in feature_files:\n",
    "    fmap = FeatureMap()\n",
    "    FeatureXMLFile().load(file, fmap)\n",
    "    feature_maps.append(fmap)\n",
    "\n",
    "for filename in input_mzml_files:\n",
    "    exp = MSExperiment()\n",
    "    MzMLFile().load(filename, exp)\n",
    "    exp.sortSpectra(True)\n",
    "    print(exp.getNrSpectra())\n",
    "    \n",
    "    for fmap in feature_maps:\n",
    "        if os.path.basename(fmap.getMetaValue(\"spectra_data\")[0].decode())[7:] == os.path.basename(filename)[11:]:\n",
    "            fm_no_sub = FeatureMap(fmap)\n",
    "            fm_no_sub.clear(False)\n",
    "            for f in fmap:\n",
    "                f.setConvexHulls([])\n",
    "                f.setSubordinates([])\n",
    "                fm_no_sub.push_back(f)\n",
    "            \n",
    "            featureinfo = os.path.join(path, 'MFD_ncv_' + os.path.basename(filename)[11:-5] + \".featureXML\")\n",
    "            FeatureXMLFile().store(featureinfo, fm_no_sub)\n",
    "        \n",
    "            sirius_algo = SiriusAdapterAlgorithm()\n",
    "            sirius_algo_par = sirius_algo.getDefaults()\n",
    "            sirius_algo_par.setValue(\"preprocessing:filter_by_num_masstraces\", 2) #Number of mass traces each feature has to have to be included\n",
    "            sirius_algo_par.setValue(\"preprocessing:feature_only\", \"true\") #Uses the feature information from in_fm_no_sub to reduce the search space to MS2\n",
    "            sirius_algo_par.setValue(\"sirius:profile\", \"orbitrap\")\n",
    "            sirius_algo_par.setValue(\"sirius:db\", \"none\")\n",
    "            sirius_algo_par.setValue(\"sirius:ions_considered\", \"[M+H]+, [M-H2O+H]+, [M+Na]+, [M+NH4]+\")\n",
    "            sirius_algo_par.setValue(\"sirius:elements_enforced\", \"CHN[15]OS[4]Cl[2]P[2]\") \n",
    "            sirius_algo_par.setValue(\"project:processors\", 2)\n",
    "            sirius_algo_par.setValue(\"fingerid:db\", \"BIO\")\n",
    "            sirius_algo.setParameters(sirius_algo_par)\n",
    "                \n",
    "            fm_info = FeatureMapping_FeatureMappingInfo()\n",
    "            feature_mapping = FeatureMapping_FeatureToMs2Indices() \n",
    "            sirius_algo.preprocessingSirius(featureinfo,\n",
    "                                            exp,\n",
    "                                            fm_info,\n",
    "                                            feature_mapping)\n",
    "            sirius_algo.logFeatureSpectraNumber(featureinfo, \n",
    "                                                feature_mapping,\n",
    "                                                exp)\n",
    "            msfile = SiriusMSFile()\n",
    "            debug_level = 3\n",
    "            sirius_tmp = SiriusTemporaryFileSystemObjects(debug_level)\n",
    "            siriusstring= String(sirius_tmp.getTmpMsFile())\n",
    "            feature_only = sirius_algo.isFeatureOnly()\n",
    "            isotope_pattern_iterations = sirius_algo.getIsotopePatternIterations()\n",
    "            no_mt_info = sirius_algo.isNoMasstraceInfoIsotopePattern()\n",
    "            compound_info = []\n",
    "            msfile.store(exp,\n",
    "                        String(sirius_tmp.getTmpMsFile()),\n",
    "                        feature_mapping, \n",
    "                        feature_only,\n",
    "                        isotope_pattern_iterations, \n",
    "                        no_mt_info, \n",
    "                        compound_info)\n",
    "\n",
    "            out_csifingerid = os.path.join(path, \"structures_\" + os.path.basename(filename)[11:-5] +\".mzTab\")\n",
    "            executable = shutil.which(\"sirius\")\n",
    "            subdirs = sirius_algo.callSiriusQProcess(String(sirius_tmp.getTmpMsFile()),\n",
    "                                                    String(sirius_tmp.getTmpOutDir()),\n",
    "                                                    String(executable),\n",
    "                                                    String(out_csifingerid),\n",
    "                                                    False)\n",
    "            candidates = sirius_algo.getNumberOfSiriusCandidates()\n",
    "            sirius_result = MzTab()\n",
    "            siriusfile = MzTabFile()\n",
    "            SiriusMzTabWriter.read(subdirs,\n",
    "                                filename,\n",
    "                                candidates,\n",
    "                                sirius_result)\n",
    "\n",
    "            sirius_file= os.path.join(path,\"formulas_\" + os.path.basename(filename)[11:-5] +\".mzTab\")\n",
    "            siriusfile.store(sirius_file, sirius_result)"
   ]
  },
  {
   "cell_type": "markdown",
   "id": "b7346b63-175d-4ff8-9642-ec7b0b50d8e7",
   "metadata": {},
   "source": [
    "##### Convert mzTab files to dataframes for visualisation"
   ]
  },
  {
   "cell_type": "code",
   "execution_count": null,
   "id": "9f98622f",
   "metadata": {},
   "outputs": [],
   "source": [
    "import pyteomics\n",
    "from pyteomics import mztab"
   ]
  },
  {
   "cell_type": "markdown",
   "id": "ffc3e70d",
   "metadata": {},
   "source": [
    "##### Explanation of columns for SIRIUS\n",
    "###### - mz= mass-to-charge ratio (m\"z)\n",
    "###### - RT= retention time (sec)\n",
    "###### - intensity = intensity of the feature (AU-arbitrary units)\n",
    "###### - FWHM= Full Width of the peak at Half its Maximum height\n",
    "###### - num_of_masstraces\t= number of mass traces detected (single mass traces are excluded). This is relevant to the isotopic pattern\n",
    "###### - isotope_distances = distance in mz between the isotopes (jumps of app. 1 is important to confirm that this is a real feature) "
   ]
  },
  {
   "cell_type": "code",
   "execution_count": null,
   "id": "8d863b60",
   "metadata": {},
   "outputs": [],
   "source": [
    "path = os.path.join(\"results\", \"Sirius\")\n",
    "if not os.path.exists(path): # if it doesn't exist\n",
    "    os.mkdir(path) # create a path directory\n",
    "\n",
    "input_SIRIUS_files = glob.glob(os.path.join(\"results\", \"interim\", \"Sirius\", \"formulas_*.mzTab\"))\n",
    "for filename in input_SIRIUS_files:\n",
    "    sirius=  pyteomics.mztab.MzTab(filename, encoding=\"UTF8\", table_format=\"df\")\n",
    "    sirius.metadata\n",
    "    df= sirius.small_molecule_table\n",
    "    SIRIUS_DF= df.drop(columns= [\"identifier\", \"smiles\", \"inchi_key\", \"description\", \"calc_mass_to_charge\", \"charge\", \"taxid\", \"species\",\"database\", \"database_version\", \"spectra_ref\", \"search_engine\", \"modifications\"])\n",
    "    SIRIUS_DF=SIRIUS_DF[SIRIUS_DF[\"opt_global_explainedIntensity\"] >= 0.4] #opt_global_explainedIntensity should be higher than 0.8 or 0.9 even for reliable results\n",
    "    SIRIUS_DF= SIRIUS_DF.sort_values(by= \"exp_mass_to_charge\")\n",
    "    SIRIUS_DF= SIRIUS_DF.rename(columns= {\"best_search_engine_score[1]\":\t\"SiriusScore\"})\n",
    "    SIRIUS_DF= SIRIUS_DF.rename(columns= {\"best_search_engine_score[2]\":\t\"TreeScore\"})\n",
    "    SIRIUS_DF= SIRIUS_DF.rename(columns= {\"best_search_engine_score[3]\":\t\"IsotopeScore\"})\n",
    "    SIRIUS_DF=SIRIUS_DF[SIRIUS_DF[\"IsotopeScore\"] > 0.0] \n",
    "    sirius_DF_file= os.path.join(path, os.path.basename(filename)[:-6] + \".csv\")\n",
    "    SIRIUS_DF.to_csv(sirius_DF_file)\n",
    "display(filename, SIRIUS_DF) #example dataframe"
   ]
  },
  {
   "cell_type": "code",
   "execution_count": null,
   "id": "261217e8-39a3-4ae4-9e22-18b110645b13",
   "metadata": {},
   "outputs": [],
   "source": [
    "input_CSI_files = glob.glob(os.path.join(\"results\", \"interim\", \"Sirius\", \"structures_*.mzTab\"))\n",
    "for filename in input_CSI_files:\n",
    "    CSI=  pyteomics.mztab.MzTab(filename, encoding=\"UTF8\", table_format=\"df\")\n",
    "    CSI.metadata\n",
    "    DF= CSI.small_molecule_table\n",
    "    DF= DF.drop(columns= [\"calc_mass_to_charge\", \"charge\", \"taxid\", \"species\",\"database\", \"database_version\", \"spectra_ref\", \"search_engine\", \"modifications\"])\n",
    "    csifingerID_file= os.path.join(path + os.path.basename(filename)[:-6]+ \".csv\")\n",
    "    DF.to_csv(csifingerID_file)\n",
    "    display(DF)"
   ]
  }
 ],
 "metadata": {
  "interpreter": {
   "hash": "1d92193107b2c1fde5349325fa7e4180df63966062ebb6172612daf2925f9acf"
  },
  "kernelspec": {
   "display_name": "Python 3.9.12 ('base')",
   "language": "python",
   "name": "python3"
  },
  "language_info": {
   "codemirror_mode": {
    "name": "ipython",
    "version": 3
   },
   "file_extension": ".py",
   "mimetype": "text/x-python",
   "name": "python",
   "nbconvert_exporter": "python",
   "pygments_lexer": "ipython3",
   "version": "3.9.12"
  },
  "orig_nbformat": 4
 },
 "nbformat": 4,
 "nbformat_minor": 2
}
