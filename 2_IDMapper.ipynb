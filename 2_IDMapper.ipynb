{
 "cells": [
  {
   "cell_type": "code",
   "execution_count": 1,
   "metadata": {},
   "outputs": [
    {
     "name": "stderr",
     "output_type": "stream",
     "text": [
      "Determination of memory status is not supported on this \n",
      " platform, measuring for memoryleaks will never fail\n"
     ]
    },
    {
     "name": "stdout",
     "output_type": "stream",
     "text": [
      "/Users/eeko/Desktop/pyOpenMS_untargeted_metabolomics\n",
      "[]\n",
      "['results/interim/precursorcorrected_Epemicins.mzML', 'results/interim/precursorcorrected_GermicidinA.mzML', 'results/interim/precursorcorrected_GermicidinB.mzML']\n"
     ]
    }
   ],
   "source": [
    "from pyopenms import *\n",
    "import pyopenms as pms\n",
    "import pandas as pd\n",
    "import numpy as np\n",
    "import os\n",
    "import glob\n",
    "import os\n",
    "\n",
    "print(os.getcwd())\n",
    "    \n",
    "# here was a typo alinged vs aligner, strange extension xml instead of featureXML\n",
    "input_feature_files = sorted(glob.glob('results/consensus/interim/MapAligner*featureXML*'))\n",
    "print(input_feature_files)\n",
    "\n",
    "feature_maps = []\n",
    "for featurexml_file in input_feature_files:\n",
    "    fmap = FeatureMap()\n",
    "    FeatureXMLFile().load(featurexml_file, fmap)\n",
    "    feature_maps.append(fmap)\n",
    "\n",
    "use_centroid_rt= False\n",
    "use_centroid_mz= True\n",
    "protein_ids = []\n",
    "peptide_ids= []\n",
    "\n",
    "mapper = pms.IDMapper()\n",
    "\n",
    "input_mzml_files= sorted(glob.glob(\"results/interim/*.mzML\"))\n",
    "print(input_mzml_files)\n",
    "for filename in input_mzml_files:\n",
    "    exp = MSExperiment()\n",
    "    MzMLFile().load(filename, exp)\n",
    "\n",
    "    for fmap in feature_maps:\n",
    "        if os.path.basename(fmap.getMetaValue('spectra_data')[0].decode()) == os.path.basename(filename):\n",
    "            peptide_ids = []\n",
    "            protein_ids = []\n",
    "            \n",
    "            mapper.annotate(fmap, peptide_ids, protein_ids, use_centroid_rt, use_centroid_mz, exp)\n",
    "            print(fmap.getMetaValue('spectra_data')[0].decode())\n",
    "        featureidx_file = os.path.join(\"results\", \"\", \"consensus\", \"\", \"interim\", \"\", 'IDMapper_' + os.path.basename(fmap.getMetaValue('spectra_data')[0].decode())[19:-5] +\".featureXML\")\n",
    "        FeatureXMLFile().store(featureidx_file, fmap)"
   ]
  },
  {
   "cell_type": "code",
   "execution_count": null,
   "metadata": {},
   "outputs": [],
   "source": []
  }
 ],
 "metadata": {
  "interpreter": {
   "hash": "edde62aa2661007f0756e9790e7a328c288a583bf6ce768a355147dac67c8db8"
  },
  "kernelspec": {
   "display_name": "Python 3.9.4 64-bit (conda)",
   "name": "python3"
  },
  "language_info": {
   "codemirror_mode": {
    "name": "ipython",
    "version": 3
   },
   "file_extension": ".py",
   "mimetype": "text/x-python",
   "name": "python",
   "nbconvert_exporter": "python",
   "pygments_lexer": "ipython3",
   "version": "3.9.4"
  },
  "orig_nbformat": 4
 },
 "nbformat": 4,
 "nbformat_minor": 2
}
