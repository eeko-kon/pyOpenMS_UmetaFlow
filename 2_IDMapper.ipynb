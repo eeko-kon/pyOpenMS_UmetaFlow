{
 "cells": [
  {
   "cell_type": "markdown",
   "metadata": {},
   "source": [
    "Import aligned feature files and load them to a FeatureMap() file"
   ]
  },
  {
   "cell_type": "code",
   "execution_count": null,
   "metadata": {},
   "outputs": [],
   "source": [
    "from pyopenms import *\n",
    "import os\n",
    "import glob\n",
    "    \n",
    "input_feature_files = sorted(glob.glob(\"results/GNPSexport/interim/MapAligned*.featureXML\"))\n",
    "\n",
    "feature_maps = []\n",
    "for featurexml_file in input_feature_files:\n",
    "    fmap = FeatureMap()\n",
    "    FeatureXMLFile().load(featurexml_file, fmap)\n",
    "    feature_maps.append(fmap)"
   ]
  },
  {
   "cell_type": "markdown",
   "metadata": {},
   "source": [
    "2. IDMapper annotates MS2 fragmentations as peptide/protein identifications. This is the only way to currently annotate MS2 data for GNPS FBMN"
   ]
  },
  {
   "cell_type": "code",
   "execution_count": null,
   "metadata": {},
   "outputs": [],
   "source": [
    "use_centroid_rt= False\n",
    "use_centroid_mz= True\n",
    "protein_ids = []\n",
    "peptide_ids= []\n",
    "\n",
    "mapper = IDMapper()\n",
    "\n",
    "input_mzml_files= sorted(glob.glob(\"results/interim/PCpeak_*.mzML\"))\n",
    "\n",
    "for filename in input_mzml_files:\n",
    "    exp = MSExperiment()\n",
    "    MzMLFile().load(filename, exp)\n",
    "\n",
    "    for fmap in feature_maps:\n",
    "        if os.path.basename(fmap.getMetaValue('spectra_data')[0].decode()) == os.path.basename(filename):\n",
    "            peptide_ids = []\n",
    "            protein_ids = []\n",
    "            \n",
    "            mapper.annotate(fmap, peptide_ids, protein_ids, use_centroid_rt, use_centroid_mz, exp)\n",
    "        featureidx_file = os.path.join(\"results\", \"\", \"GNPSexport\", \"\", \"interim\", \"\", 'IDMapper_' + os.path.basename(fmap.getMetaValue('spectra_data')[0].decode())[7:-5] +\".featureXML\")\n",
    "        FeatureXMLFile().store(featureidx_file, fmap)"
   ]
  }
 ],
 "metadata": {
  "interpreter": {
   "hash": "edde62aa2661007f0756e9790e7a328c288a583bf6ce768a355147dac67c8db8"
  },
  "kernelspec": {
   "display_name": "Python 3.9.4 64-bit (conda)",
   "name": "python3"
  },
  "language_info": {
   "codemirror_mode": {
    "name": "ipython",
    "version": 3
   },
   "file_extension": ".py",
   "mimetype": "text/x-python",
   "name": "python",
   "nbconvert_exporter": "python",
   "pygments_lexer": "ipython3",
   "version": "3.9.7"
  },
  "orig_nbformat": 4
 },
 "nbformat": 4,
 "nbformat_minor": 2
}
