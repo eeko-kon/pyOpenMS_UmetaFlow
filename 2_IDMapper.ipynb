{
 "cells": [
  {
   "cell_type": "code",
   "execution_count": 1,
   "metadata": {},
   "outputs": [
    {
     "name": "stderr",
     "output_type": "stream",
     "text": [
      "Determination of memory status is not supported on this \n",
      " platform, measuring for memoryleaks will never fail\n"
     ]
    }
   ],
   "source": [
    "from pyopenms import *\n",
    "import pyopenms as pms\n",
    "import pandas as pd\n",
    "import numpy as np\n",
    "import os\n",
    "import glob\n",
    "\n",
    "input_feature_files = glob.glob('results/consensus/interim/MapAligner*.featureXML')\n",
    "\n",
    "feature_maps = []\n",
    "for featurexml_file in input_feature_files:\n",
    "    fmap = FeatureMap()\n",
    "    FeatureXMLFile().load(featurexml_file, fmap)\n",
    "    feature_maps.append(fmap)\n",
    "\n",
    "use_centroid_rt= False\n",
    "use_centroid_mz= True\n",
    "protein_ids = []\n",
    "peptide_ids= []\n",
    "\n",
    "\n",
    "\n",
    "mapper = pms.IDMapper()\n",
    "\n",
    "input_mzml_files= glob.glob(\"results/interim(*mzML\")\n",
    "\n",
    "for filename in input_mzml_files:\n",
    "    exp = MSExperiment()\n",
    "    MzMLFile().load(filename, exp)\n",
    "\n",
    "    for fmap in feature_maps: \n",
    "        if os.path.basename(fmap.getMetaValue('spectra_data')[0].decode()) == os.path.basename(filename):\n",
    "\n",
    "#            peptide_ids = []\n",
    "#            protein_ids = []\n",
    "#            protein_id = ProteinIdentification()\n",
    "#            protein_id.setIdentifier(fmap.getMetaValue('spectra_data')[0].decode())\n",
    "#            protein_ids.append(protein_id)\n",
    "#            peptide_id = PeptideIdentification()\n",
    "\n",
    "            mapper.annotate(fmap, peptide_ids, protein_ids, use_centroid_rt, use_centroid_mz, exp)\n",
    "            \n",
    "            proteins = fmap.getProteinIdentifications()\n",
    "\n",
    "            fmap.setProteinIdentifications(proteins)\n",
    "\n",
    "            for index_protein, protein in enumerate(proteins):\n",
    "                protein.setIdentifier(fmap.getMetaValue('spectra_data')[0])\n",
    "                print(protein.getIdentifier)\n",
    "            \n",
    "            for index_feature, feature in enumerate(fmap):\n",
    "                peptide_ids = feature.getPeptideIdentifications()\n",
    "                for index_pep, pep in enumerate(feature.getPeptideIdentifications()):\n",
    "                    pep.setIdentifier(fmap.getMetaValue('spectra_data')[0])\n",
    "            feature.setPeptideIdentifications(peptide_ids)\n",
    "                    #print(pep.getIdentifier())\n",
    "        featureidx_file = os.path.join(\"results\", \"\", \"consensus\", \"\", \"interim\", \"\", 'IDMapper_' + os.path.basename(fmap.getMetaValue('spectra_data')[0].decode())[19:-5] +\".featureXML\")\n",
    "        FeatureXMLFile().store(featureidx_file, fmap)"
   ]
  },
  {
   "cell_type": "code",
   "execution_count": null,
   "metadata": {},
   "outputs": [],
   "source": []
  }
 ],
 "metadata": {
  "interpreter": {
   "hash": "edde62aa2661007f0756e9790e7a328c288a583bf6ce768a355147dac67c8db8"
  },
  "kernelspec": {
   "display_name": "Python 3.9.4 64-bit (conda)",
   "name": "python3"
  },
  "language_info": {
   "codemirror_mode": {
    "name": "ipython",
    "version": 3
   },
   "file_extension": ".py",
   "mimetype": "text/x-python",
   "name": "python",
   "nbconvert_exporter": "python",
   "pygments_lexer": "ipython3",
   "version": "3.9.4"
  },
  "orig_nbformat": 4
 },
 "nbformat": 4,
 "nbformat_minor": 2
}
