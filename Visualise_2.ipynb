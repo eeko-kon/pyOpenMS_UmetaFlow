{
 "cells": [
  {
   "cell_type": "markdown",
   "metadata": {},
   "source": [
    "Visualise the features before and after re-quantification"
   ]
  },
  {
   "cell_type": "code",
   "execution_count": null,
   "metadata": {},
   "outputs": [],
   "source": [
    "!pip install datashader\n",
    "!pip install holoviews"
   ]
  },
  {
   "cell_type": "code",
   "execution_count": null,
   "metadata": {},
   "outputs": [],
   "source": [
    "import datashader as ds \n",
    "import holoviews as hv\n",
    "import panel as pn\n",
    "import holoviews.operation.datashader as hd\n",
    "from holoviews.plotting.util import process_cmap\n",
    "from holoviews import opts, dim\n",
    "hv.extension('bokeh', logo= False)\n",
    "import sys\n",
    "sys.path.insert(0, '/Users/eeko/openms-develop/openms_build/pyOpenMS')\n",
    "from pyopenms import *\n",
    "import pandas as pd"
   ]
  },
  {
   "cell_type": "code",
   "execution_count": null,
   "metadata": {},
   "outputs": [],
   "source": [
    "fmap = FeatureMap() \n",
    "loader = FeatureXMLFile()\n",
    "loadopts = loader.getOptions()  \n",
    "loadopts.setIntensityRange(DRange1(DPosition1(5000), DPosition1(sys.maxsize)))\n",
    "loader.setOptions(loadopts)\n",
    "loader.load('results/interim/Preprocessing/FFM_Pentamycin_std.featureXML', fmap)\n",
    "fmap.updateRanges()\n",
    "expandcols = [\"RT\", \"mz\", \"inty\"]\n",
    "spectraarrs2d = ([f.getRT() for f in fmap], [f.getMZ() for f in fmap], [f.getIntensity() for f in fmap]) \n",
    "spectradf = pd.DataFrame(dict(zip(expandcols, spectraarrs2d)))\n",
    "spectradf = spectradf.set_index([\"RT\",\"mz\"])\n",
    "\n",
    "maxrt = spectradf.index.get_level_values(0).max()\n",
    "minrt = spectradf.index.get_level_values(0).min()\n",
    "maxmz = spectradf.index.get_level_values(1).max()\n",
    "minmz = spectradf.index.get_level_values(1).min()\n",
    "\n",
    "def new_bounds_hook(plot, elem):\n",
    "    x_range = plot.state.x_range\n",
    "    y_range = plot.state.y_range\n",
    "    x_range.bounds = minrt, maxrt\n",
    "    y_range.bounds = minmz, maxmz\n",
    "\n",
    "points = hv.Points(spectradf, kdims=['RT', 'mz'], vdims=['inty'], label=\"MS1 scans_pre-processed\").opts(\n",
    "    fontsize={'title': 16, 'labels': 14, 'xticks': 6, 'yticks': 12},\n",
    "    color=np.log(dim('int')),\n",
    "    colorbar=True,\n",
    "    cmap='Magma',\n",
    "    width=1000,\n",
    "    height=1000,\n",
    "    tools=['hover'])\n",
    "\n",
    "raster = hd.rasterize(points, cmap=process_cmap(\"blues\", provider=\"bokeh\"), aggregator=ds.sum('inty'),\n",
    "                    cnorm='log', alpha=10, min_alpha=0\n",
    "        ).opts(\n",
    "            active_tools=['box_zoom'],\n",
    "            tools=['hover'],\n",
    "            hooks=[new_bounds_hook]\n",
    "        ).opts(  \n",
    "            plot=dict(\n",
    "                width=800,\n",
    "                height=800,\n",
    "                xlabel=\"Retention time (s)\",\n",
    "                ylabel=\"mass/charge (Da)\"\n",
    "            )\n",
    "        )\n",
    "\n",
    "hd.dynspread(raster, threshold=0.7, how=\"add\", shape=\"square\")\n",
    "hv_plot = hv.Points(points)\n",
    "hv_plot.opts(opts.Points(tools=['hover'], size=5))\n",
    "hv_plot.opts(frame_width= 500, frame_height= 500)"
   ]
  },
  {
   "cell_type": "code",
   "execution_count": null,
   "metadata": {},
   "outputs": [],
   "source": [
    "fmap = FeatureMap() \n",
    "loader = FeatureXMLFile()\n",
    "loadopts = loader.getOptions()  \n",
    "#loadopts.setMSLevels([1])\n",
    "#loadopts.setSkipXMLChecks(True)\n",
    "#loadopts.setIntensity32Bit(True)\n",
    "loadopts.setIntensityRange(DRange1(DPosition1(5000), DPosition1(sys.maxsize)))\n",
    "loader.setOptions(loadopts)\n",
    "loader.load('results/interim/Requantification/Merged_Pentamycin_std.featureXML', fmap)\n",
    "fmap.updateRanges()\n",
    "expandcols = [\"RT\", \"mz\", \"inty\"]\n",
    "spectraarrs2d= (np.fromiter((f.getRT() for f in fmap), dtype='f'), np.fromiter((f.getMZ() for f in fmap), dtype='f'), np.fromiter((f.getIntensity() for f in fmap), dtype='i'))\n",
    "spectradf = pd.DataFrame(dict(zip(expandcols, spectraarrs2d)))\n",
    "spectradf = spectradf.set_index([\"RT\",\"mz\"])\n",
    "\n",
    "maxrt = spectradf.index.get_level_values(0).max()\n",
    "minrt = spectradf.index.get_level_values(0).min()\n",
    "maxmz = spectradf.index.get_level_values(1).max()\n",
    "minmz = spectradf.index.get_level_values(1).min()\n",
    "\n",
    "def new_bounds_hook(plot, elem):\n",
    "    x_range = plot.state.x_range\n",
    "    y_range = plot.state.y_range\n",
    "    x_range.bounds = minrt, maxrt\n",
    "    y_range.bounds = minmz, maxmz\n",
    "\n",
    "points = hv.Points(spectradf, kdims=['RT', 'mz'], vdims=['inty'], label=\"MS1_re-quantified\").opts(\n",
    "    fontsize={'title': 16, 'labels': 14, 'xticks': 6, 'yticks': 12},\n",
    "    color=np.log(dim('int')),\n",
    "    colorbar=True,\n",
    "    cmap='Magma',\n",
    "    width=1000,\n",
    "    height=1000,\n",
    "    tools=['hover'])\n",
    "\n",
    "raster = hd.rasterize(points, cmap=process_cmap(\"blues\", provider=\"bokeh\"), aggregator=ds.sum('inty'),\n",
    "                    cnorm='log', alpha=10, min_alpha=0\n",
    "        ).opts(\n",
    "            active_tools=['box_zoom'],\n",
    "            tools=['hover'],\n",
    "            hooks=[new_bounds_hook]\n",
    "        ).opts(  # weird.. I have no idea why one has to do this. But with one opts you will get an error\n",
    "            plot=dict(\n",
    "                width=800,\n",
    "                height=800,\n",
    "                xlabel=\"Retention time (s)\",\n",
    "                ylabel=\"mass/charge (Da)\"\n",
    "            )\n",
    "        )\n",
    "\n",
    "hd.dynspread(raster, threshold=0.7, how=\"add\", shape=\"square\")\n",
    "hv_plot = hv.Points(points)\n",
    "hv_plot.opts(opts.Points(tools=['hover'], size=5))\n",
    "hv_plot.opts(frame_width= 500, frame_height= 500)"
   ]
  },
  {
   "cell_type": "code",
   "execution_count": null,
   "metadata": {},
   "outputs": [],
   "source": []
  }
 ],
 "metadata": {
  "kernelspec": {
   "display_name": "Python 3.9.13 ('base')",
   "language": "python",
   "name": "python3"
  },
  "language_info": {
   "codemirror_mode": {
    "name": "ipython",
    "version": 3
   },
   "file_extension": ".py",
   "mimetype": "text/x-python",
   "name": "python",
   "nbconvert_exporter": "python",
   "pygments_lexer": "ipython3",
   "version": "3.9.13"
  },
  "vscode": {
   "interpreter": {
    "hash": "5195814f19b3c5495ee8b750beb0560ee0827a7dd404bb814e050d6c0bc31d7a"
   }
  }
 },
 "nbformat": 4,
 "nbformat_minor": 4
}
