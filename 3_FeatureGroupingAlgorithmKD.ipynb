{
 "cells": [
  {
   "cell_type": "markdown",
   "metadata": {},
   "source": [
    "Import the annotated feature files and load them in a FeatureMap() file"
   ]
  },
  {
   "cell_type": "code",
   "execution_count": 1,
   "metadata": {},
   "outputs": [
    {
     "name": "stderr",
     "output_type": "stream",
     "text": [
      "Determination of memory status is not supported on this \n",
      " platform, measuring for memoryleaks will never fail\n"
     ]
    }
   ],
   "source": [
    "from pyopenms import *\n",
    "import pandas as pd\n",
    "import os\n",
    "import glob"
   ]
  },
  {
   "cell_type": "code",
   "execution_count": null,
   "metadata": {},
   "outputs": [],
   "source": [
    "input_feature_files = sorted(glob.glob('results/GNPSexport/interim/IDMapper*.featureXML'))\n",
    "\n",
    "feature_maps = []\n",
    "for featurexml_file in input_feature_files:\n",
    "    fmap = FeatureMap()\n",
    "    FeatureXMLFile().load(featurexml_file, fmap)\n",
    "    feature_maps.append(fmap)"
   ]
  },
  {
   "cell_type": "markdown",
   "metadata": {},
   "source": [
    "3. The Feature Grouping Algorithm is used to aggregate the feature information (from single files) into a ConsensusFeature, linking features from different files together, which have a smiliar m/z and rt (MS1 level).\n"
   ]
  },
  {
   "cell_type": "code",
   "execution_count": 8,
   "metadata": {},
   "outputs": [
    {
     "name": "stdout",
     "output_type": "stream",
     "text": [
      "Progress of 'computing RT transformations':\n",
      "Warning: Only 48 data points for LOWESS fit of map 0. Consider adjusting RT or m/z tolerance or max_pairwise_log_fc, decreasing min_rel_cc_size, or increasing max_nr_conflicts.\n",
      "Warning: Only 49 data points for LOWESS fit of map 2. Consider adjusting RT or m/z tolerance or max_pairwise_log_fc, decreasing min_rel_cc_size, or increasing max_nr_conflicts.\n",
      "Warning: Only 49 data points for LOWESS fit of map 3. Consider adjusting RT or m/z tolerance or max_pairwise_log_fc, decreasing min_rel_cc_size, or increasing max_nr_conflicts.\n",
      "Warning: Only 49 data points for LOWESS fit of map 4. Consider adjusting RT or m/z tolerance or max_pairwise_log_fc, decreasing min_rel_cc_size, or increasing max_nr_conflicts.\n",
      "Warning: Only 48 data points for LOWESS fit of map 5. Consider adjusting RT or m/z tolerance or max_pairwise_log_fc, decreasing min_rel_cc_size, or increasing max_nr_conflicts.\n",
      "Warning: Only 47 data points for LOWESS fit of map 6. Consider adjusting RT or m/z tolerance or max_pairwise_log_fc, decreasing min_rel_cc_size, or increasing max_nr_conflicts.\n",
      "Warning: Only 45 data points for LOWESS fit of map 7. Consider adjusting RT or m/z tolerance or max_pairwise_log_fc, decreasing min_rel_cc_size, or increasing max_nr_conflicts.\n",
      "Warning: Only 45 data points for LOWESS fit of map 9. Consider adjusting RT or m/z tolerance or max_pairwise_log_fc, decreasing min_rel_cc_size, or increasing max_nr_conflicts.\n",
      "Warning: Only 48 data points for LOWESS fit of map 10. Consider adjusting RT or m/z tolerance or max_pairwise_log_fc, decreasing min_rel_cc_size, or increasing max_nr_conflicts.\n",
      "Warning: Only 49 data points for LOWESS fit of map 11. Consider adjusting RT or m/z tolerance or max_pairwise_log_fc, decreasing min_rel_cc_size, or increasing max_nr_conflicts.\n",
      "Warning: Only 40 data points for LOWESS fit of map 12. Consider adjusting RT or m/z tolerance or max_pairwise_log_fc, decreasing min_rel_cc_size, or increasing max_nr_conflicts.\n",
      "Warning: Only 42 data points for LOWESS fit of map 13. Consider adjusting RT or m/z tolerance or max_pairwise_log_fc, decreasing min_rel_cc_size, or increasing max_nr_conflicts.\n",
      "Warning: Only 34 data points for LOWESS fit of map 14. Consider adjusting RT or m/z tolerance or max_pairwise_log_fc, decreasing min_rel_cc_size, or increasing max_nr_conflicts.\n",
      "Warning: Only 39 data points for LOWESS fit of map 15. Consider adjusting RT or m/z tolerance or max_pairwise_log_fc, decreasing min_rel_cc_size, or increasing max_nr_conflicts.\n",
      "Warning: Only 44 data points for LOWESS fit of map 16. Consider adjusting RT or m/z tolerance or max_pairwise_log_fc, decreasing min_rel_cc_size, or increasing max_nr_conflicts.\n",
      "Warning: Only 31 data points for LOWESS fit of map 17. Consider adjusting RT or m/z tolerance or max_pairwise_log_fc, decreasing min_rel_cc_size, or increasing max_nr_conflicts.\n",
      "Warning: Only 33 data points for LOWESS fit of map 18. Consider adjusting RT or m/z tolerance or max_pairwise_log_fc, decreasing min_rel_cc_size, or increasing max_nr_conflicts.\n",
      "Warning: Only 35 data points for LOWESS fit of map 19. Consider adjusting RT or m/z tolerance or max_pairwise_log_fc, decreasing min_rel_cc_size, or increasing max_nr_conflicts.\n",
      "Warning: Only 44 data points for LOWESS fit of map 21. Consider adjusting RT or m/z tolerance or max_pairwise_log_fc, decreasing min_rel_cc_size, or increasing max_nr_conflicts.\n",
      "Warning: Only 40 data points for LOWESS fit of map 22. Consider adjusting RT or m/z tolerance or max_pairwise_log_fc, decreasing min_rel_cc_size, or increasing max_nr_conflicts.\n",
      "Warning: Only 41 data points for LOWESS fit of map 23. Consider adjusting RT or m/z tolerance or max_pairwise_log_fc, decreasing min_rel_cc_size, or increasing max_nr_conflicts.\n",
      "Warning: Only 43 data points for LOWESS fit of map 24. Consider adjusting RT or m/z tolerance or max_pairwise_log_fc, decreasing min_rel_cc_size, or increasing max_nr_conflicts.\n",
      "Warning: Only 41 data points for LOWESS fit of map 25. Consider adjusting RT or m/z tolerance or max_pairwise_log_fc, decreasing min_rel_cc_size, or increasing max_nr_conflicts.\n",
      "Warning: Only 36 data points for LOWESS fit of map 26. Consider adjusting RT or m/z tolerance or max_pairwise_log_fc, decreasing min_rel_cc_size, or increasing max_nr_conflicts.\n",
      "Warning: Only 45 data points for LOWESS fit of map 27. Consider adjusting RT or m/z tolerance or max_pairwise_log_fc, decreasing min_rel_cc_size, or increasing max_nr_conflicts.\n",
      "Warning: Only 39 data points for LOWESS fit of map 28. Consider adjusting RT or m/z tolerance or max_pairwise_log_fc, decreasing min_rel_cc_size, or increasing max_nr_conflicts.\n",
      "Warning: Only 38 data points for LOWESS fit of map 29. Consider adjusting RT or m/z tolerance or max_pairwise_log_fc, decreasing min_rel_cc_size, or increasing max_nr_conflicts.\n",
      "Warning: Only 44 data points for LOWESS fit of map 30. Consider adjusting RT or m/z tolerance or max_pairwise_log_fc, decreasing min_rel_cc_size, or increasing max_nr_conflicts.\n",
      "Warning: Only 27 data points for LOWESS fit of map 31. Consider adjusting RT or m/z tolerance or max_pairwise_log_fc, decreasing min_rel_cc_size, or increasing max_nr_conflicts.\n",
      "Warning: Only 36 data points for LOWESS fit of map 32. Consider adjusting RT or m/z tolerance or max_pairwise_log_fc, decreasing min_rel_cc_size, or increasing max_nr_conflicts.\n",
      "Warning: Only 39 data points for LOWESS fit of map 33. Consider adjusting RT or m/z tolerance or max_pairwise_log_fc, decreasing min_rel_cc_size, or increasing max_nr_conflicts.\n",
      "Warning: Only 43 data points for LOWESS fit of map 34. Consider adjusting RT or m/z tolerance or max_pairwise_log_fc, decreasing min_rel_cc_size, or increasing max_nr_conflicts.\n",
      "Warning: Only 41 data points for LOWESS fit of map 35. Consider adjusting RT or m/z tolerance or max_pairwise_log_fc, decreasing min_rel_cc_size, or increasing max_nr_conflicts.\n",
      "-- done [took 0.42 s (CPU), 0.42 s (Wall)] -- \n",
      "Progress of 'linking features':\n",
      "-- done [took 0.89 s (CPU), 0.88 s (Wall)] -- \n"
     ]
    }
   ],
   "source": [
    "feature_grouper = FeatureGroupingAlgorithmKD()\n",
    "\n",
    "consensus_map = ConsensusMap()\n",
    "file_descriptions = consensus_map.getColumnHeaders()\n",
    "\n",
    "for i, feature_map in enumerate(feature_maps):\n",
    "    file_description = file_descriptions.get(i, ColumnHeader())\n",
    "    file_description.filename = feature_map.getMetaValue('spectra_data')[0].decode()\n",
    "    file_description.size = feature_map.size()\n",
    "    file_descriptions[i] = file_description\n",
    "\n",
    "feature_grouper.group(feature_maps, consensus_map)\n",
    "consensus_map.setColumnHeaders(file_descriptions)\n",
    "\n",
    "\n",
    "Consensus_file= os.path.join(\"results\", \"\", \"GNPSexport\", \"\",\"interim\", \"\", 'consensus' + \".consensusXML\")\n",
    "ConsensusXMLFile().store(Consensus_file, consensus_map)\n",
    "\n",
    "\n",
    "# get intensities as a DataFrame\n",
    "intensities = consensus_map.get_intensity_df()\n",
    "\n",
    "# get meta data as DataFrame\n",
    "meta_data = consensus_map.get_metadata_df()[['RT', 'mz', 'charge']]\n",
    "\n",
    "# you can concatenate these two for a \"result\" DataFrame\n",
    "result = pd.concat([meta_data, intensities], axis=1)\n",
    "\n",
    "# if you don't need labeled index, remove it (and/or save with index = False)\n",
    "result.reset_index(drop=True, inplace=True)\n",
    "\n",
    "# store as tsv file\n",
    "result.to_csv('results/GNPSexport/interim/consensus.tsv', sep = '\\t', index = False)"
   ]
  },
  {
   "cell_type": "code",
   "execution_count": null,
   "metadata": {},
   "outputs": [],
   "source": []
  }
 ],
 "metadata": {
  "interpreter": {
   "hash": "edde62aa2661007f0756e9790e7a328c288a583bf6ce768a355147dac67c8db8"
  },
  "kernelspec": {
   "display_name": "Python 3.9.4 64-bit (conda)",
   "name": "python3"
  },
  "language_info": {
   "codemirror_mode": {
    "name": "ipython",
    "version": 3
   },
   "file_extension": ".py",
   "mimetype": "text/x-python",
   "name": "python",
   "nbconvert_exporter": "python",
   "pygments_lexer": "ipython3",
   "version": "3.9.7"
  },
  "orig_nbformat": 4
 },
 "nbformat": 4,
 "nbformat_minor": 2
}
