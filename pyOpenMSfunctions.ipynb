{
 "cells": [
  {
   "cell_type": "markdown",
   "id": "132261f3",
   "metadata": {},
   "source": [
    "# Import pyOpenMS wrappers (cpp) for peak picking and metabolite deconvolution"
   ]
  },
  {
   "cell_type": "markdown",
   "id": "89aedc5c",
   "metadata": {},
   "source": [
    "## Libraries needed for workflow"
   ]
  },
  {
   "cell_type": "code",
   "execution_count": 1,
   "id": "bdb6dc20",
   "metadata": {},
   "outputs": [
    {
     "name": "stderr",
     "output_type": "stream",
     "text": [
      "Determination of memory status is not supported on this \n",
      " platform, measuring for memoryleaks will never fail\n"
     ]
    }
   ],
   "source": [
    "from pyopenms import *\n",
    "import glob\n",
    "import pandas as pd\n",
    "import os"
   ]
  },
  {
   "cell_type": "code",
   "execution_count": 2,
   "id": "77ce72db",
   "metadata": {},
   "outputs": [],
   "source": [
    "def prepare_output_directory(name: str, filename: str) -> None:\n",
    "    input_prefix = os.path.basename(filename(input_file, \"\", get_config()))\n",
    "    if not name:\n",
    "        name = os.path.abspath(input_prefix)\n",
    "        update_config({\"pyOpenMS_results\": name})\n",
    "\n",
    "    if os.path.exists(name):\n",
    "        if not os.path.isdir(name):\n",
    "            raise RuntimeError(\"Output directory %s exists and is not a directory\" % name)\n",
    "        # not empty (apart from a possible input dir), and not reusing its results\n",
    "        if not input_file.endswith(\".mzML\") and \\\n",
    "                list(filter(_ignore_patterns, glob.glob(os.path.join(name, \"*\")))):\n",
    "            raise RuntimeError(\"Output directory contains other files, aborting for safety\")"
   ]
  },
  {
   "cell_type": "code",
   "execution_count": 3,
   "id": "494ca34b",
   "metadata": {},
   "outputs": [
    {
     "data": {
      "text/plain": [
       "0"
      ]
     },
     "execution_count": 3,
     "metadata": {},
     "output_type": "execute_result"
    }
   ],
   "source": [
    "import signal, os\n",
    "\n",
    "def handler(signum, frame):\n",
    "    print('Signal handler called with signal', signum)\n",
    "    raise OSError(\"Function failed!\")\n",
    "\n",
    "# Set the signal handler and a 30-second alarm\n",
    "signal.signal(signal.SIGALRM, handler)\n",
    "signal.alarm(30)"
   ]
  },
  {
   "cell_type": "markdown",
   "id": "cb12eba2",
   "metadata": {},
   "source": [
    "### Mass trace detection\n",
    "\n",
    "A mass trace extraction method that gathers peaks similar in m/z and moving along retention time.\n",
    "\n",
    "Peaks of a MSExperiment are sorted by their intensity and stored in a list of potential chromatographic apex positions. Only peaks that are above the noise threshold (user-defined) are analyzed and only peaks that are n times above this minimal threshold are considered as apices. This saves computational resources and decreases the noise in the resulting output.\n",
    "\n",
    "Starting with these, mass traces are extended in- and decreasingly in retention time. During this extension phase, the centroid m/z is computed on-line as an intensity-weighted mean of peaks.\n",
    "\n",
    "The extension phase ends when either the frequency of gathered peaks drops below a threshold (min_sample_rate, see MassTraceDetection parameters) or when the number of missed scans exceeds a threshold (trace_termination_outliers, see MassTraceDetection parameters).\n",
    "\n",
    "Finally, only mass traces that pass a filter (a certain minimal and maximal length as well as having the minimal sample rate criterion fulfilled) get added to the result.\n",
    "\n",
    "### Elution peak detection\n",
    "\n",
    "Extracts chromatographic peaks from a mass trace.\n",
    "\n",
    "Mass traces may consist of several consecutively (partly overlapping) eluting peaks, e.g., stemming from (almost) isobaric compounds that are separated by retention time. Especially in metabolomics, isomeric compounds with exactly the same mass but different retentional behaviour may still be contained in the same mass trace.\n",
    "\n",
    "This method first applies smoothing on the mass trace's intensities, then detects local minima/maxima in order to separate the chromatographic peaks from each other. Detection of maxima is performed on the smoothed intensities and uses a fixed peak width (given as parameter chrom_fwhm) within which only a single maximum is expected. Currently smoothing is done using SavitzkyGolay smoothing with a second order polynomial and a frame length of the fixed peak width.\n",
    "\n",
    "Depending on the \"width_filtering\" parameters, mass traces are filtered by length in seconds (\"fixed\" filter) or by quantile.\n",
    "\n",
    "The output of the algorithm is a set of chromatographic peaks for each mass trace, i.e. a vector of split mass traces (see ElutionPeakDetection parameters).\n",
    "\n",
    "In general, a user would want to call the \"detectPeaks\" functions, potentially followed by the \"filterByPeakWidth\" function.\n",
    "\n",
    "### Feature detection\n",
    "\n",
    "FeatureFinderMetabo assembles metabolite features from singleton mass traces.\n",
    "\n",
    "Mass traces alone would allow for further analysis such as metabolite ID or statistical evaluation. However, in general, monoisotopic mass traces are accompanied by satellite C13 peaks and thus may render the analysis more difficult. FeatureFinderMetabo fulfills a further data reduction step by assembling compatible mass traces to metabolite features (that is, all mass traces originating from one metabolite). To this end, multiple metabolite hypotheses are formulated and scored according to how well differences in RT (optional), m/z or intensity ratios match to those of theoretical isotope patterns.\n",
    "\n",
    "If the raw data scans contain the scan polarity information, it is stored as meta value \"scan_polarity\" in the output file.\n",
    "\n",
    "Mass trace clustering can be done using either 13C distances or a linear model (Kenar et al) – see parameter 'ffm:mz_scoring_13C'. Generally, for lipidomics, use 13C, since lipids contain a lot of 13C. For general metabolites, the linear model is usually more appropriate. To decide what is better, the total number of features can be used as indirect measure.\n",
    "\n",
    "the lower(!) the better (since more mass traces are assembled into single features). Detailed information is stored in the featureXML output: it contains meta-values for each feature about the mass trace differences (inspectable via TOPPView). \n",
    "\n",
    "By default, the linear model is used."
   ]
  },
  {
   "cell_type": "code",
   "execution_count": 4,
   "id": "3d6081ab",
   "metadata": {},
   "outputs": [],
   "source": [
    "def FFM(filename):\n",
    "    input_mzML= filename\n",
    "    exp = MSExperiment()\n",
    "    MzMLFile().load(input_mzML, exp)\n",
    "    exp.sortSpectra(True) # Sort the data points by retention time.\n",
    "    mass_traces = []\n",
    "    mtd = MassTraceDetection()\n",
    "    mtd_par = mtd.getDefaults()\n",
    "    mtd_par.setValue(\"mass_error_ppm\", 10.0) \n",
    "    mtd_par.setValue(\"noise_threshold_int\", 1.0e04)\n",
    "    mtd.setParameters(mtd_par)\n",
    "    mtd.run(exp, mass_traces, 0)  # 0 is default and does not restrict found mass traces\n",
    "    mass_traces_split = []\n",
    "    mass_traces_final = []\n",
    "    epd = ElutionPeakDetection()\n",
    "    epd_par = epd.getDefaults()\n",
    "    epd_par.setValue(\"width_filtering\", \"fixed\")\n",
    "    epd.setParameters(epd_par)\n",
    "    epd.detectPeaks(mass_traces, mass_traces_split)\n",
    "    if (epd.getParameters().getValue(\"width_filtering\") == \"auto\"):\n",
    "        epd.filterByPeakWidth(mass_traces_split, mass_traces_final)\n",
    "    else:\n",
    "        mass_traces_final = mass_traces_split\n",
    "    feature_map_FFM = FeatureMap()\n",
    "    feat_chrom = []\n",
    "    ffm = FeatureFindingMetabo()\n",
    "    ffm_par = ffm.getDefaults() \n",
    "    ffm_par.setValue(\"isotope_filtering_model\", \"none\")\n",
    "    ffm_par.setValue(\"remove_single_traces\", \"true\")\n",
    "    ffm_par.setValue(\"mz_scoring_by_elements\", \"true\")\n",
    "    ffm.setParameters(ffm_par)\n",
    "    ffm.run(mass_traces_final, feature_map_FFM, feat_chrom)\n",
    "    signal.alarm(30)\n",
    "    feature_map_FFM.setUniqueIds()\n",
    "    fh = FeatureXMLFile()\n",
    "    fh.store('./pyOpenMS_results/FFM.featureXML', feature_map_FFM)\n",
    "    (print(\"#Mass traces filtered:\", (len(mass_traces_final))))"
   ]
  },
  {
   "cell_type": "markdown",
   "id": "52c55311",
   "metadata": {},
   "source": [
    "### Metabolite adduct decharging detection\n",
    "#### For each peak, this algorithm reconstructs neutral masses by enumerating all possible adducts with matching charge. \n",
    "#### The resulting neutral masses are matched against masses from a database. You can add the list of adduct files and database files for the algorithm to parse through.\n",
    "#### With SIRIUS you are only able to use singly charged adducts so charges higher than 1 are filtered out"
   ]
  },
  {
   "cell_type": "code",
   "execution_count": 5,
   "id": "aaab4b9c",
   "metadata": {},
   "outputs": [],
   "source": [
    "def MFD(filename):\n",
    "    mfd = MetaboliteFeatureDeconvolution()\n",
    "    mdf_par = mfd.getDefaults()\n",
    "    mdf_par.setValue(\"potential_adducts\",  [b\"H:+:0.6\",b\"Na:+:0.2\",b\"NH4:+:0.1\", b\"H2O:-:0.1\"])\n",
    "    mdf_par.setValue(\"charge_min\", 1, \"Minimal possible charge\")\n",
    "    mdf_par.setValue(\"charge_max\", 1, \"Maximal possible charge\")\n",
    "    mdf_par.setValue(\"charge_span_max\", 1)\n",
    "    mdf_par.setValue(\"max_neutrals\", 1)\n",
    "    mfd.setParameters(mdf_par)\n",
    "    feature_map_DEC = FeatureMap()\n",
    "    cons_map0 = ConsensusMap()\n",
    "    cons_map1 = ConsensusMap()\n",
    "    mfd.compute(feature_map_FFM, feature_map_DEC, cons_map0, cons_map1)\n",
    "    signal.alarm(30)\n",
    "    fxml = FeatureXMLFile()\n",
    "    fxml.store(\"./pyOpenMS_results/MFD.featureXML\", feature_map_DEC)"
   ]
  },
  {
   "cell_type": "markdown",
   "id": "c0cafeba",
   "metadata": {},
   "source": [
    "### Precursor corrector\n",
    "\n",
    "#### Correct the parent ion that is chosen for MS/MS fragmentation to the nearest feature"
   ]
  },
  {
   "cell_type": "code",
   "execution_count": 6,
   "id": "9dcd9a90",
   "metadata": {},
   "outputs": [],
   "source": [
    "def PC(filename):\n",
    "    out_mzml= \"./mzML_files/wf_testing/PrecursorCorrected.mzML\"\n",
    "    features= FeatureMap()\n",
    "    FeatureXMLFile().load(\"./mzML_files/wf_testing/deconvoluted.featureXML\", features)\n",
    "    PrecursorCorrection.correctToNearestFeature(features, exp, 0.0, 100.0, True, False, False, False, 3, 0)\n",
    "    MzMLFile().store(out_mzml, exp)"
   ]
  },
  {
   "cell_type": "markdown",
   "id": "641b3c58",
   "metadata": {},
   "source": [
    "## SIRIUS Adapter Algorithm and CSI:FingerID\n",
    "\n",
    "#### Formula prediction from scores calculated from 1) MS2 fragmentation scores (ppm error + intensity) and 2) MS1 isotopic pattern scores"
   ]
  },
  {
   "cell_type": "code",
   "execution_count": 1,
   "id": "185b88c8",
   "metadata": {},
   "outputs": [],
   "source": [
    "def SIRIUS(filename):\n",
    "    sirius_algo = SiriusAdapterAlgorithm()\n",
    "    sirius_algo_par = sirius_algo.getDefaults()\n",
    "    sirius_algo_par.setValue(\"preprocessing:filter_by_num_masstraces\", 2) \n",
    "    sirius_algo_par.setValue(\"preprocessing:precursor_mz_tolerance\", 10.0)\n",
    "    sirius_algo_par.setValue(\"preprocessing:precursor_mz_tolerance_unit\", \"ppm\")\n",
    "    sirius_algo_par.setValue(\"preprocessing:precursor_rt_tolerance\", 5.0)\n",
    "    sirius_algo_par.setValue(\"preprocessing:feature_only\", \"true\")\n",
    "    sirius_algo_par.setValue(\"sirius:profile\", \"orbitrap\")\n",
    "    sirius_algo_par.setValue(\"sirius:db\", \"all\")\n",
    "    sirius_algo_par.setValue(\"sirius:ions_considered\", \"[M+H]+, [M-H2O+H]+, [M+Na]+, [M+NH4]+\")\n",
    "    sirius_algo_par.setValue(\"sirius:candidates\", 5)\n",
    "    sirius_algo_par.setValue(\"sirius:elements_enforced\", \"CHNOP\") \n",
    "    sirius_algo_par.setValue(\"project:processors\", 2)\n",
    "    sirius_algo.setParameters(sirius_algo_par)\n",
    "    featureinfo = \"./pyOpenMS_results/MFD.featureXML\"\n",
    "    fm_info = FeatureMapping_FeatureMappingInfo()\n",
    "    feature_mapping = FeatureMapping_FeatureToMs2Indices() \n",
    "    sirius_algo.preprocessingSirius(featureinfo,\n",
    "                                    exp,\n",
    "                                    fm_info,\n",
    "                                    feature_mapping)\n",
    "    sirius_algo.logFeatureSpectraNumber(featureinfo, \n",
    "                                        feature_mapping,\n",
    "                                        exp)\n",
    "    msfile = SiriusMSFile()\n",
    "    debug_level = 10\n",
    "    sirius_tmp = SiriusTemporaryFileSystemObjects(debug_level)\n",
    "    siriusstring= String(sirius_tmp.getTmpMsFile())\n",
    "    feature_only = sirius_algo.isFeatureOnly()\n",
    "    isotope_pattern_iterations = sirius_algo.getIsotopePatternIterations()\n",
    "    no_mt_info = sirius_algo.isNoMasstraceInfoIsotopePattern()\n",
    "    compound_info = []\n",
    "\n",
    "    msfile.store(exp, \n",
    "                 String(sirius_tmp.getTmpMsFile()),\n",
    "                 feature_mapping, \n",
    "                 feature_only,\n",
    "                 isotope_pattern_iterations, \n",
    "                 no_mt_info, \n",
    "                 compound_info)    \n",
    "    executable= \"/Users/eeko/Desktop/software/Contents/MacOS/sirius\"\n",
    "    out_csifingerid = \"./pyOpenMS_results/csifingerID.mzTab\" # empty string \" \" : when no file is specified, no CSIFingerId Output will be generated\n",
    "    subdirs = sirius_algo.callSiriusQProcess(String(sirius_tmp.getTmpMsFile()),\n",
    "                                             String(sirius_tmp.getTmpOutDir()),\n",
    "                                             String(executable),\n",
    "                                             String(out_csifingerid),\n",
    "                                             False)\n",
    "    signal.alarm(30)\n",
    "    candidates = sirius_algo.getNumberOfSiriusCandidates()\n",
    "    sirius_result = MzTab()\n",
    "    siriusfile = MzTabFile()\n",
    "    SiriusMzTabWriter.read(subdirs,\n",
    "                            filename,\n",
    "                            candidates,\n",
    "                            sirius_result)\n",
    "    siriusfile.store(\"./pyOpenMS_results/out_sirius_test.mzTab\", sirius_result)\n",
    "    top_hits= 5\n",
    "    csi_result=MzTab()\n",
    "    csi_file=MzTabFile()\n",
    "    CsiFingerIdMzTabWriter.read(subdirs,\n",
    "                        filename,\n",
    "                        top_hits,\n",
    "                        csi_result)\n",
    "    signal.alarm(30)\n",
    "    csi_file.store(\"./pyOpenMS_results/csifingerID.mzTab\", csi_result)\n",
    "    print(String(sirius_tmp.getTmpMsFile()))"
   ]
  }
 ],
 "metadata": {
  "kernelspec": {
   "display_name": "Python 3",
   "language": "python",
   "name": "python3"
  },
  "language_info": {
   "codemirror_mode": {
    "name": "ipython",
    "version": 3
   },
   "file_extension": ".py",
   "mimetype": "text/x-python",
   "name": "python",
   "nbconvert_exporter": "python",
   "pygments_lexer": "ipython3",
   "version": "3.9.4"
  }
 },
 "nbformat": 4,
 "nbformat_minor": 5
}
