{
 "cells": [
  {
   "cell_type": "markdown",
   "metadata": {},
   "source": [
    "##### `Optional step: Convert Thermo files (*.raw):`\n",
    "\n",
    "ThermoRawFileParser https://github.com/compomics/ThermoRawFileParser\n",
    "\n",
    "- It is necessary to convert profile data to centroid mzml. If your files do not originate from a thermo instrument, please convert them using proteowizard (see https://proteowizard.sourceforge.io/) and add them to the \"data/mzML/\" directory. "
   ]
  },
  {
   "cell_type": "code",
   "execution_count": null,
   "metadata": {},
   "outputs": [],
   "source": [
    "import glob\n",
    "import os\n",
    "input_raw_files = os.path.join(\"data\", \"raw\")\n",
    "output_mzML_files = os.path.join(\"data\", \"mzML\")\n",
    "exec= os.path.join(\"resources\", \"ThermoRawFileParser\", \"ThermoRawFileParser.exe\")"
   ]
  },
  {
   "cell_type": "code",
   "execution_count": null,
   "metadata": {},
   "outputs": [],
   "source": [
    "!mono {exec} -d={input_raw_files} -o={output_mzML_files}"
   ]
  }
 ],
 "metadata": {
  "kernelspec": {
   "display_name": "pyopenms",
   "language": "python",
   "name": "python3"
  },
  "language_info": {
   "codemirror_mode": {
    "name": "ipython",
    "version": 3
   },
   "file_extension": ".py",
   "mimetype": "text/x-python",
   "name": "python",
   "nbconvert_exporter": "python",
   "pygments_lexer": "ipython3",
   "version": "3.10.4"
  },
  "orig_nbformat": 4
 },
 "nbformat": 4,
 "nbformat_minor": 2
}
