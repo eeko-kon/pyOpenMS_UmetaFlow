{
 "cells": [
  {
   "cell_type": "markdown",
   "metadata": {},
   "source": [
    "##### `Optional step: Convert Thermo files (*.raw):`\n",
    "\n",
    "ThermoRawFileParser https://github.com/compomics/ThermoRawFileParser\n",
    "\n",
    "- It is necessary to convert profile data to centroid mzml. If your files do not originate from a thermo instrument, please convert them using proteowizard (see https://proteowizard.sourceforge.io/) and add them to the \"data/mzML/\" directory. "
   ]
  },
  {
   "cell_type": "code",
   "execution_count": null,
   "metadata": {},
   "outputs": [],
   "source": [
    "!mono resources/ThermoRawFileParser/ThermoRawFileParser.exe -d=\"data/raw/\" -o=\"data/mzML/\""
   ]
  }
 ],
 "metadata": {
  "language_info": {
   "name": "python"
  },
  "orig_nbformat": 4
 },
 "nbformat": 4,
 "nbformat_minor": 2
}
