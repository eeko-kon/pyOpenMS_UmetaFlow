{
 "cells": [
  {
   "cell_type": "markdown",
   "metadata": {},
   "source": [
    "Visualise annotated features with smiles"
   ]
  },
  {
   "cell_type": "code",
   "execution_count": 5,
   "metadata": {},
   "outputs": [
    {
     "data": {
      "text/html": [
       "<div>\n",
       "<style scoped>\n",
       "    .dataframe tbody tr th:only-of-type {\n",
       "        vertical-align: middle;\n",
       "    }\n",
       "\n",
       "    .dataframe tbody tr th {\n",
       "        vertical-align: top;\n",
       "    }\n",
       "\n",
       "    .dataframe thead th {\n",
       "        text-align: right;\n",
       "    }\n",
       "</style>\n",
       "<table border=\"1\" class=\"dataframe\">\n",
       "  <thead>\n",
       "    <tr style=\"text-align: right;\">\n",
       "      <th></th>\n",
       "      <th>GNPS_IDs</th>\n",
       "      <th>SIRIUS_predictions</th>\n",
       "      <th>smiles</th>\n",
       "      <th>CSI_predictions_formula</th>\n",
       "      <th>CSI_predictions_name</th>\n",
       "      <th>m/z</th>\n",
       "      <th>RT (s)</th>\n",
       "      <th>charge</th>\n",
       "      <th>Gentamycin</th>\n",
       "      <th>Globomycin</th>\n",
       "      <th>Apramycin</th>\n",
       "      <th>Tetracycline</th>\n",
       "      <th>Ampicillin</th>\n",
       "      <th>GermicidinA</th>\n",
       "      <th>GermicidinB</th>\n",
       "      <th>Kanamycin</th>\n",
       "      <th>Thiostreptone</th>\n",
       "      <th>feature_ids</th>\n",
       "    </tr>\n",
       "  </thead>\n",
       "  <tbody>\n",
       "    <tr>\n",
       "      <th>0</th>\n",
       "      <td>Germicidin A</td>\n",
       "      <td>C11H16O3</td>\n",
       "      <td>CCCCC1=C(OC(=O)C=C1OC)C</td>\n",
       "      <td>C11H16O3</td>\n",
       "      <td>0</td>\n",
       "      <td>197.117312</td>\n",
       "      <td>438.774000</td>\n",
       "      <td>1.0</td>\n",
       "      <td>0.0</td>\n",
       "      <td>0.0</td>\n",
       "      <td>0.0</td>\n",
       "      <td>0.0</td>\n",
       "      <td>0.0</td>\n",
       "      <td>1.590000e+09</td>\n",
       "      <td>0.0</td>\n",
       "      <td>0.0</td>\n",
       "      <td>0.0</td>\n",
       "      <td>['15728883123968661768']</td>\n",
       "    </tr>\n",
       "    <tr>\n",
       "      <th>1</th>\n",
       "      <td>Germicidin B</td>\n",
       "      <td>C10H14O3</td>\n",
       "      <td>CCCC1=C(C(=CC(=O)O1)OC)C</td>\n",
       "      <td>C10H14O3</td>\n",
       "      <td>2H-Pyran-2-one, 4-methoxy-5-methyl-6-propyl-</td>\n",
       "      <td>183.101541</td>\n",
       "      <td>412.535000</td>\n",
       "      <td>1.0</td>\n",
       "      <td>0.0</td>\n",
       "      <td>0.0</td>\n",
       "      <td>0.0</td>\n",
       "      <td>0.0</td>\n",
       "      <td>0.0</td>\n",
       "      <td>2.240000e+06</td>\n",
       "      <td>363000000.0</td>\n",
       "      <td>0.0</td>\n",
       "      <td>0.0</td>\n",
       "      <td>['6052502996644494489', ' 6090647484883734558']</td>\n",
       "    </tr>\n",
       "    <tr>\n",
       "      <th>2</th>\n",
       "      <td>Tetracycline///tetracycline(1-)///tetracycline...</td>\n",
       "      <td>C22H26N2O9</td>\n",
       "      <td>CC(=O)NC1C(CC(OC1C(C(CNC(=O)C2=CC3=CC=CC=C3C=C...</td>\n",
       "      <td>C22H26N2O9</td>\n",
       "      <td>(2R,4S,5R,6R)-5-acetamido-6-[(1R,2R)-1,2-dihyd...</td>\n",
       "      <td>445.160627</td>\n",
       "      <td>344.971000</td>\n",
       "      <td>1.0</td>\n",
       "      <td>0.0</td>\n",
       "      <td>0.0</td>\n",
       "      <td>0.0</td>\n",
       "      <td>618000000.0</td>\n",
       "      <td>0.0</td>\n",
       "      <td>0.000000e+00</td>\n",
       "      <td>0.0</td>\n",
       "      <td>0.0</td>\n",
       "      <td>0.0</td>\n",
       "      <td>['7214117706835625851', ' 17124508103945300126']</td>\n",
       "    </tr>\n",
       "    <tr>\n",
       "      <th>3</th>\n",
       "      <td>0</td>\n",
       "      <td>C18H36N4O11 ## C18H38N4O12</td>\n",
       "      <td>C1C(C(C(C(C1N)OC2C(C(C(C(O2)CN)O)O)O)O)OC3C(C(...</td>\n",
       "      <td>C18H36N4O11</td>\n",
       "      <td>kanamycin</td>\n",
       "      <td>485.245467</td>\n",
       "      <td>42.530000</td>\n",
       "      <td>1.0</td>\n",
       "      <td>0.0</td>\n",
       "      <td>0.0</td>\n",
       "      <td>0.0</td>\n",
       "      <td>0.0</td>\n",
       "      <td>0.0</td>\n",
       "      <td>0.000000e+00</td>\n",
       "      <td>0.0</td>\n",
       "      <td>34900000.0</td>\n",
       "      <td>0.0</td>\n",
       "      <td>['18009819481830178380']</td>\n",
       "    </tr>\n",
       "    <tr>\n",
       "      <th>4</th>\n",
       "      <td>Chlortetracycline_40eV</td>\n",
       "      <td>0</td>\n",
       "      <td>C1=CC=C(C=C1)C(=O)NC2=C3C(=C(C=C2)O)C(=O)C4=C(...</td>\n",
       "      <td>C28H18N2O6</td>\n",
       "      <td>N-(5-benzamido-4,8-dihydroxy-9,10-dioxoanthrac...</td>\n",
       "      <td>479.121556</td>\n",
       "      <td>376.702000</td>\n",
       "      <td>1.0</td>\n",
       "      <td>0.0</td>\n",
       "      <td>0.0</td>\n",
       "      <td>0.0</td>\n",
       "      <td>859000.0</td>\n",
       "      <td>0.0</td>\n",
       "      <td>0.000000e+00</td>\n",
       "      <td>0.0</td>\n",
       "      <td>0.0</td>\n",
       "      <td>0.0</td>\n",
       "      <td>['8045392258059808752']</td>\n",
       "    </tr>\n",
       "    <tr>\n",
       "      <th>...</th>\n",
       "      <td>...</td>\n",
       "      <td>...</td>\n",
       "      <td>...</td>\n",
       "      <td>...</td>\n",
       "      <td>...</td>\n",
       "      <td>...</td>\n",
       "      <td>...</td>\n",
       "      <td>...</td>\n",
       "      <td>...</td>\n",
       "      <td>...</td>\n",
       "      <td>...</td>\n",
       "      <td>...</td>\n",
       "      <td>...</td>\n",
       "      <td>...</td>\n",
       "      <td>...</td>\n",
       "      <td>...</td>\n",
       "      <td>...</td>\n",
       "      <td>...</td>\n",
       "    </tr>\n",
       "    <tr>\n",
       "      <th>453</th>\n",
       "      <td>0</td>\n",
       "      <td>C15H27N3O7</td>\n",
       "      <td>CC(C)C(CN)C(=O)NC(C(C)C)C(=O)NC(C(C(=O)O)O)C(=...</td>\n",
       "      <td>C15H27N3O7 ## C16H23N7O3</td>\n",
       "      <td>nan ## 1H-Purine-2,6-dione, 3,7-dihydro-1,3-di...</td>\n",
       "      <td>362.192447</td>\n",
       "      <td>85.489951</td>\n",
       "      <td>0.0</td>\n",
       "      <td>0.0</td>\n",
       "      <td>0.0</td>\n",
       "      <td>10058550.0</td>\n",
       "      <td>0.0</td>\n",
       "      <td>0.0</td>\n",
       "      <td>0.000000e+00</td>\n",
       "      <td>0.0</td>\n",
       "      <td>0.0</td>\n",
       "      <td>0.0</td>\n",
       "      <td>['17693386830414679754']</td>\n",
       "    </tr>\n",
       "    <tr>\n",
       "      <th>455</th>\n",
       "      <td>0</td>\n",
       "      <td>0</td>\n",
       "      <td>CCC(C)C(C(=O)NCC1CCC(CC1)C(=O)NC(C(C)O)C(=O)O)...</td>\n",
       "      <td>C23H41N3O7 ## C28H41NO5</td>\n",
       "      <td>3-hydroxy-2-[[4-[[[3-methyl-2-[(2-methylpropan...</td>\n",
       "      <td>472.303632</td>\n",
       "      <td>501.618813</td>\n",
       "      <td>0.0</td>\n",
       "      <td>0.0</td>\n",
       "      <td>0.0</td>\n",
       "      <td>1644407.0</td>\n",
       "      <td>0.0</td>\n",
       "      <td>0.0</td>\n",
       "      <td>0.000000e+00</td>\n",
       "      <td>0.0</td>\n",
       "      <td>0.0</td>\n",
       "      <td>0.0</td>\n",
       "      <td>['17911001111230368170']</td>\n",
       "    </tr>\n",
       "    <tr>\n",
       "      <th>457</th>\n",
       "      <td>NCGC00384639-01_C14H16N2O3_Pyrrolo[1,2-a]pyraz...</td>\n",
       "      <td>C14H13NO3</td>\n",
       "      <td>C1=CC=[N+](C=C1)C(CC2=CC=C(C=C2)O)C(=O)O</td>\n",
       "      <td>C14H13NO3</td>\n",
       "      <td>0</td>\n",
       "      <td>261.123209</td>\n",
       "      <td>332.904188</td>\n",
       "      <td>0.0</td>\n",
       "      <td>0.0</td>\n",
       "      <td>0.0</td>\n",
       "      <td>1195052.0</td>\n",
       "      <td>0.0</td>\n",
       "      <td>0.0</td>\n",
       "      <td>0.000000e+00</td>\n",
       "      <td>0.0</td>\n",
       "      <td>0.0</td>\n",
       "      <td>0.0</td>\n",
       "      <td>['18283775054433688217']</td>\n",
       "    </tr>\n",
       "    <tr>\n",
       "      <th>458</th>\n",
       "      <td>0</td>\n",
       "      <td>C28H55N5O6</td>\n",
       "      <td>CCCCCC(=O)NC(C(C)C)C(=O)NC(CCC(=O)N(C)C)C(=O)N...</td>\n",
       "      <td>C28H55N5O6</td>\n",
       "      <td>0</td>\n",
       "      <td>558.421427</td>\n",
       "      <td>491.189129</td>\n",
       "      <td>0.0</td>\n",
       "      <td>0.0</td>\n",
       "      <td>0.0</td>\n",
       "      <td>1071764.0</td>\n",
       "      <td>0.0</td>\n",
       "      <td>0.0</td>\n",
       "      <td>0.000000e+00</td>\n",
       "      <td>0.0</td>\n",
       "      <td>0.0</td>\n",
       "      <td>0.0</td>\n",
       "      <td>['18391008591533571254']</td>\n",
       "    </tr>\n",
       "    <tr>\n",
       "      <th>461</th>\n",
       "      <td>0</td>\n",
       "      <td>C9H9NO2</td>\n",
       "      <td>C=CC(=O)NC1=CC=C(C=C1)O</td>\n",
       "      <td>C9H9NO2</td>\n",
       "      <td>4''-Hydroxyacrylanilide</td>\n",
       "      <td>164.070476</td>\n",
       "      <td>50.830438</td>\n",
       "      <td>0.0</td>\n",
       "      <td>0.0</td>\n",
       "      <td>0.0</td>\n",
       "      <td>0.0</td>\n",
       "      <td>0.0</td>\n",
       "      <td>0.0</td>\n",
       "      <td>5.673046e+06</td>\n",
       "      <td>0.0</td>\n",
       "      <td>0.0</td>\n",
       "      <td>0.0</td>\n",
       "      <td>['3559477353262039826']</td>\n",
       "    </tr>\n",
       "  </tbody>\n",
       "</table>\n",
       "<p>173 rows × 18 columns</p>\n",
       "</div>"
      ],
      "text/plain": [
       "                                              GNPS_IDs  \\\n",
       "0                                         Germicidin A   \n",
       "1                                         Germicidin B   \n",
       "2    Tetracycline///tetracycline(1-)///tetracycline...   \n",
       "3                                                    0   \n",
       "4                               Chlortetracycline_40eV   \n",
       "..                                                 ...   \n",
       "453                                                  0   \n",
       "455                                                  0   \n",
       "457  NCGC00384639-01_C14H16N2O3_Pyrrolo[1,2-a]pyraz...   \n",
       "458                                                  0   \n",
       "461                                                  0   \n",
       "\n",
       "             SIRIUS_predictions  \\\n",
       "0                      C11H16O3   \n",
       "1                      C10H14O3   \n",
       "2                    C22H26N2O9   \n",
       "3    C18H36N4O11 ## C18H38N4O12   \n",
       "4                             0   \n",
       "..                          ...   \n",
       "453                  C15H27N3O7   \n",
       "455                           0   \n",
       "457                   C14H13NO3   \n",
       "458                  C28H55N5O6   \n",
       "461                     C9H9NO2   \n",
       "\n",
       "                                                smiles  \\\n",
       "0                              CCCCC1=C(OC(=O)C=C1OC)C   \n",
       "1                             CCCC1=C(C(=CC(=O)O1)OC)C   \n",
       "2    CC(=O)NC1C(CC(OC1C(C(CNC(=O)C2=CC3=CC=CC=C3C=C...   \n",
       "3    C1C(C(C(C(C1N)OC2C(C(C(C(O2)CN)O)O)O)O)OC3C(C(...   \n",
       "4    C1=CC=C(C=C1)C(=O)NC2=C3C(=C(C=C2)O)C(=O)C4=C(...   \n",
       "..                                                 ...   \n",
       "453  CC(C)C(CN)C(=O)NC(C(C)C)C(=O)NC(C(C(=O)O)O)C(=...   \n",
       "455  CCC(C)C(C(=O)NCC1CCC(CC1)C(=O)NC(C(C)O)C(=O)O)...   \n",
       "457           C1=CC=[N+](C=C1)C(CC2=CC=C(C=C2)O)C(=O)O   \n",
       "458  CCCCCC(=O)NC(C(C)C)C(=O)NC(CCC(=O)N(C)C)C(=O)N...   \n",
       "461                            C=CC(=O)NC1=CC=C(C=C1)O   \n",
       "\n",
       "      CSI_predictions_formula  \\\n",
       "0                    C11H16O3   \n",
       "1                    C10H14O3   \n",
       "2                  C22H26N2O9   \n",
       "3                 C18H36N4O11   \n",
       "4                  C28H18N2O6   \n",
       "..                        ...   \n",
       "453  C15H27N3O7 ## C16H23N7O3   \n",
       "455   C23H41N3O7 ## C28H41NO5   \n",
       "457                 C14H13NO3   \n",
       "458                C28H55N5O6   \n",
       "461                   C9H9NO2   \n",
       "\n",
       "                                  CSI_predictions_name         m/z  \\\n",
       "0                                                    0  197.117312   \n",
       "1         2H-Pyran-2-one, 4-methoxy-5-methyl-6-propyl-  183.101541   \n",
       "2    (2R,4S,5R,6R)-5-acetamido-6-[(1R,2R)-1,2-dihyd...  445.160627   \n",
       "3                                            kanamycin  485.245467   \n",
       "4    N-(5-benzamido-4,8-dihydroxy-9,10-dioxoanthrac...  479.121556   \n",
       "..                                                 ...         ...   \n",
       "453  nan ## 1H-Purine-2,6-dione, 3,7-dihydro-1,3-di...  362.192447   \n",
       "455  3-hydroxy-2-[[4-[[[3-methyl-2-[(2-methylpropan...  472.303632   \n",
       "457                                                  0  261.123209   \n",
       "458                                                  0  558.421427   \n",
       "461                            4''-Hydroxyacrylanilide  164.070476   \n",
       "\n",
       "         RT (s)  charge  Gentamycin  Globomycin   Apramycin  Tetracycline  \\\n",
       "0    438.774000     1.0         0.0         0.0         0.0           0.0   \n",
       "1    412.535000     1.0         0.0         0.0         0.0           0.0   \n",
       "2    344.971000     1.0         0.0         0.0         0.0   618000000.0   \n",
       "3     42.530000     1.0         0.0         0.0         0.0           0.0   \n",
       "4    376.702000     1.0         0.0         0.0         0.0      859000.0   \n",
       "..          ...     ...         ...         ...         ...           ...   \n",
       "453   85.489951     0.0         0.0         0.0  10058550.0           0.0   \n",
       "455  501.618813     0.0         0.0         0.0   1644407.0           0.0   \n",
       "457  332.904188     0.0         0.0         0.0   1195052.0           0.0   \n",
       "458  491.189129     0.0         0.0         0.0   1071764.0           0.0   \n",
       "461   50.830438     0.0         0.0         0.0         0.0           0.0   \n",
       "\n",
       "     Ampicillin   GermicidinA  GermicidinB   Kanamycin  Thiostreptone  \\\n",
       "0           0.0  1.590000e+09          0.0         0.0            0.0   \n",
       "1           0.0  2.240000e+06  363000000.0         0.0            0.0   \n",
       "2           0.0  0.000000e+00          0.0         0.0            0.0   \n",
       "3           0.0  0.000000e+00          0.0  34900000.0            0.0   \n",
       "4           0.0  0.000000e+00          0.0         0.0            0.0   \n",
       "..          ...           ...          ...         ...            ...   \n",
       "453         0.0  0.000000e+00          0.0         0.0            0.0   \n",
       "455         0.0  0.000000e+00          0.0         0.0            0.0   \n",
       "457         0.0  0.000000e+00          0.0         0.0            0.0   \n",
       "458         0.0  0.000000e+00          0.0         0.0            0.0   \n",
       "461         0.0  5.673046e+06          0.0         0.0            0.0   \n",
       "\n",
       "                                          feature_ids  \n",
       "0                            ['15728883123968661768']  \n",
       "1     ['6052502996644494489', ' 6090647484883734558']  \n",
       "2    ['7214117706835625851', ' 17124508103945300126']  \n",
       "3                            ['18009819481830178380']  \n",
       "4                             ['8045392258059808752']  \n",
       "..                                                ...  \n",
       "453                          ['17693386830414679754']  \n",
       "455                          ['17911001111230368170']  \n",
       "457                          ['18283775054433688217']  \n",
       "458                          ['18391008591533571254']  \n",
       "461                           ['3559477353262039826']  \n",
       "\n",
       "[173 rows x 18 columns]"
      ]
     },
     "execution_count": 5,
     "metadata": {},
     "output_type": "execute_result"
    }
   ],
   "source": [
    "import pandas as pd\n",
    "import plotly.express as px\n",
    "import molplotly\n",
    "\n",
    "# load a DataFrame with smiles\n",
    "DF = pd.read_csv('/Users/eeko/Desktop/Metabolomics paper/Validation files/commercial std/annotated_FeatureMatrix_commercial_std.csv')\n",
    "DF= DF.rename(columns={\"CSI_predictions_smiles\":\"smiles\", \"20220426_UMETAB266_POS_Thiostreptone\":\"Thiostreptone\",\"20220510_UMETAB266_POS_Gentamycin_10uL\": \"Gentamycin\", \"20220426_UMETAB266_POS_Kanamycin\":\"Kanamycin\", \"20220510_UMETAB266_POS_Apramycin_10uL\": \"Apramycin\", \"20220510_UMETAB266_NEG_Apramycin_10uL\":\"Apramycin_neg\", \"20220510_UMETAB266_POS_Globomycin_10uL\":\"Globomycin\", \"20220426_UMETAB266_POS_Tetracycline\":\"Tetracycline\", \"20220510_UMETAB266_POS_Streptomycin_10uL\":\"Streptomycin\", \"20220426_UMETAB266_POS_GermicidinB\": \"GermicidinB\",'20220426_UMETAB266_POS_GermicidinA': \"GermicidinA\", '20220426_UMETAB266_POS_HygromycinB': \"HygromycinB\",'20220426_UMETAB266_POS_Ampicillin': \"Ampicillin\",'20220510_UMETAB266_POS_Chloramphenicol_10uL': \"Chloramphenicol\"})\n",
    "DF = DF[DF['smiles'].notna()]\n",
    "DF= DF.fillna(0)\n",
    "DF"
   ]
  },
  {
   "cell_type": "code",
   "execution_count": null,
   "metadata": {},
   "outputs": [],
   "source": [
    "DF_T= DF.set_index([\"smiles\", \"CSI_predictions_name\"])\n",
    "DF_T= DF_T.drop(columns=[\"m/z\", \"RT (s)\", \"CSI_predictions_formula\"])\n",
    "DF_T"
   ]
  },
  {
   "cell_type": "code",
   "execution_count": null,
   "metadata": {},
   "outputs": [],
   "source": [
    "features = ['GermicidinB', \n",
    "            'Kanamycin', \n",
    "            'Tetracycline', \n",
    "            'Thiostreptone',\n",
    "            'Globomycin', \n",
    "            'Ampicillin', \n",
    "            'Apramycin',\n",
    "            'GermicidinA']\n",
    "            \t\t\t\t\t\t\n",
    "fig_matrix = px.scatter_matrix(DF,\n",
    "                               dimensions=features,\n",
    "                               width=1800,\n",
    "                               height=1500,\n",
    "                               title='Scatter matrix of standards')\n",
    "\n",
    "app_matrix = molplotly.add_molecules(fig=fig_matrix,\n",
    "                                     df=DF,\n",
    "                                     smiles_col='smiles',\n",
    "                                     title_col='CSI_predictions_name',\n",
    "                                     caption_cols=features,\n",
    "                                     width=200,\n",
    "                                     show_coords=False)\n",
    "\n",
    "# Only show informative lower triangle\n",
    "fig_matrix.update_traces(diagonal_visible=False, showupperhalf=False)\n",
    "app_matrix.run_server(mode='inline', port=8700, height=1000)"
   ]
  },
  {
   "cell_type": "code",
   "execution_count": 6,
   "metadata": {},
   "outputs": [
    {
     "data": {
      "application/vnd.plotly.v1+json": {
       "config": {
        "plotlyServerURL": "https://plot.ly"
       },
       "data": [
        {
         "hovertemplate": "RT (s)=%{x}<br>m/z=%{y}<extra></extra>",
         "legendgroup": "",
         "marker": {
          "color": "#636efa",
          "symbol": "circle"
         },
         "mode": "markers",
         "name": "",
         "orientation": "v",
         "showlegend": false,
         "type": "scatter",
         "x": [
          438.774,
          412.535,
          344.971,
          42.53,
          376.702,
          331.122,
          540.066,
          325.919,
          306.719,
          325.919,
          84.302,
          474.9174492,
          494.7826783,
          482.9202991,
          486.4015683,
          405.060563,
          446.0792348,
          590.5443971,
          484.9098286,
          485.8096522,
          46.22957897,
          634.6370952,
          393.6810655,
          400.7658698,
          442.856646,
          441.489491,
          371.2446323,
          403.2237198,
          47.00680056,
          655.5833734,
          321.6302878,
          286.2277295,
          288.8729797,
          309.2147066,
          381.0766482,
          508.1433612,
          477.5301808,
          308.9964825,
          493.0059439,
          465.4327381,
          448.3029122,
          376.0247804,
          490.6949772,
          568.7901426,
          523.8728232,
          207.8806259,
          444.1121193,
          399.2328806,
          371.3638937,
          487.0045497,
          46.63975926,
          534.2520682,
          57.4106276,
          58.99422319,
          397.9385285,
          64.84844351,
          448.9817258,
          394.6337861,
          550.5393905,
          598.8999996,
          53.19210255,
          647.7808611,
          457.661064,
          469.4618643,
          644.4296138,
          397.5100299,
          41.34342731,
          42.53039003,
          42.53039003,
          42.53039003,
          344.610962,
          391.2425079,
          344.610962,
          331.1215724,
          406.5964046,
          344.610962,
          334.9049645,
          407.3416462,
          564.5815955,
          546.8985896,
          546.8985896,
          548.061542,
          495.4021485,
          516.5755036,
          558.6716783,
          490.6961331,
          524.8205191,
          550.3977498,
          424.079955,
          723.9928796,
          49.36463901,
          556.3046249,
          545.7579066,
          524.8205191,
          500.1082682,
          502.4610221,
          544.6294437,
          50.74595875,
          306.7187383,
          350.5633061,
          396.6293907,
          47.10618798,
          49.51762098,
          526.3891154,
          511.6242276,
          648.9712885,
          322.5513542,
          638.6746182,
          542.4116835,
          628.2262078,
          488.8215603,
          48.11914498,
          278.1299548,
          454.0736488,
          435.2231165,
          499.2605869,
          275.7632648,
          45.5488036,
          336.526591,
          501.6188134,
          329.3326297,
          46.8292161,
          590.1241551,
          468.0569901,
          48.11914498,
          477.0462539,
          45.5488036,
          477.0462539,
          49.41475019,
          46.8292161,
          530.5801524,
          493.5511323,
          543.5207684,
          295.9096289,
          435.2231165,
          97.38586008,
          48.11914498,
          501.6188134,
          454.0736488,
          49.41475019,
          307.7925605,
          45.5488036,
          78.3438893,
          310.1901565,
          454.0736488,
          493.5511323,
          477.0462539,
          161.1923374,
          538.8275567,
          279.307639,
          46.8292161,
          360.4863965,
          493.5511323,
          165.908124,
          435.2231165,
          313.7804664,
          454.0736488,
          298.285143,
          44.32917235,
          83.10756803,
          322.1695639,
          71.14793283,
          275.7632648,
          543.5207684,
          477.0462539,
          423.4332539,
          435.2231165,
          501.6188134,
          85.48995146,
          501.6188134,
          332.9041877,
          491.1891295,
          50.83043753
         ],
         "xaxis": "x",
         "y": [
          197.1173117,
          183.1015407,
          445.1606274,
          485.2454671,
          479.1215558,
          445.1605873,
          678.4045992,
          372.0989487,
          368.1275329,
          350.1170603,
          540.2880107,
          228.195667,
          302.2689956,
          274.2738553,
          290.2689005,
          171.1490974,
          262.2373642,
          258.2425541,
          230.2477024,
          225.1960516,
          145.0494046,
          512.4159009,
          218.2113747,
          234.2062396,
          202.2160509,
          246.2422388,
          251.185138,
          186.221595,
          127.0388994,
          122.0963743,
          645.2720407,
          114.0912917,
          239.1487935,
          283.1750576,
          548.3644454,
          330.26413,
          202.1801164,
          300.2017251,
          288.2532801,
          291.2165384,
          260.2220383,
          487.3116532,
          272.258256,
          437.3740409,
          318.3004559,
          195.1226707,
          226.1799927,
          232.1908394,
          443.2852827,
          302.2689504,
          204.0865933,
          409.3426844,
          169.9772221,
          172.9769853,
          207.1589825,
          264.9675794,
          244.2269579,
          174.1851818,
          423.358427,
          272.2582667,
          127.9792303,
          319.2844672,
          187.1263006,
          500.379666,
          512.4159473,
          151.0963427,
          162.0760163,
          163.1075047,
          366.1872173,
          324.1766942,
          467.1424186,
          427.1499754,
          410.1234882,
          427.1500078,
          427.149926,
          427.149975,
          431.1448742,
          410.1234747,
          670.439071,
          710.3414161,
          668.4227137,
          678.4047763,
          264.2087049,
          710.4314179,
          670.4390085,
          244.2633511,
          642.4076538,
          692.4205687,
          573.2571134,
          663.4536363,
          150.9509658,
          654.408044,
          687.4652693,
          664.3895938,
          674.4337921,
          230.2477217,
          769.4706385,
          224.1280282,
          324.1378008,
          382.1432077,
          768.4952499,
          194.1175475,
          180.9897429,
          256.2269768,
          368.2796888,
          374.3030801,
          344.22805,
          336.3263274,
          244.2269876,
          336.326327,
          426.3217919,
          269.1275919,
          909.4243519,
          412.2848802,
          480.2781285,
          387.1803951,
          270.192291,
          118.0861922,
          245.1858218,
          414.3005057,
          569.2922088,
          454.1558521,
          163.0752615,
          464.2831294,
          435.1467235,
          522.2863718,
          414.1610902,
          482.293812,
          310.0042779,
          472.1664443,
          674.5051917,
          450.321716,
          149.0596905,
          622.2833345,
          538.2811817,
          254.1610018,
          210.0794462,
          450.3217078,
          448.3060756,
          522.2032852,
          695.3317132,
          396.1502929,
          294.1546771,
          569.29212,
          488.2985952,
          414.3005388,
          500.3044473,
          490.1922449,
          304.2999225,
          304.1768289,
          360.1502941,
          569.292007,
          432.3110687,
          472.1816266,
          516.2993381,
          387.191714,
          430.2954064,
          555.276301,
          666.2458149,
          378.1873099,
          569.2921489,
          506.1872124,
          529.2032023,
          376.1756996,
          464.2832124,
          325.2276343,
          498.2887983,
          432.3110301,
          362.192447,
          472.3036317,
          261.1232088,
          558.4214268,
          164.0704763
         ],
         "yaxis": "y"
        }
       ],
       "layout": {
        "height": 800,
        "legend": {
         "tracegroupgap": 0
        },
        "shapes": [
         {
          "line": {
           "dash": "dash"
          },
          "type": "line",
          "x0": 114.0912917,
          "x1": 909.4243519,
          "y0": 114.0912917,
          "y1": 909.4243519
         }
        ],
        "template": {
         "data": {
          "bar": [
           {
            "error_x": {
             "color": "#2a3f5f"
            },
            "error_y": {
             "color": "#2a3f5f"
            },
            "marker": {
             "line": {
              "color": "#E5ECF6",
              "width": 0.5
             },
             "pattern": {
              "fillmode": "overlay",
              "size": 10,
              "solidity": 0.2
             }
            },
            "type": "bar"
           }
          ],
          "barpolar": [
           {
            "marker": {
             "line": {
              "color": "#E5ECF6",
              "width": 0.5
             },
             "pattern": {
              "fillmode": "overlay",
              "size": 10,
              "solidity": 0.2
             }
            },
            "type": "barpolar"
           }
          ],
          "carpet": [
           {
            "aaxis": {
             "endlinecolor": "#2a3f5f",
             "gridcolor": "white",
             "linecolor": "white",
             "minorgridcolor": "white",
             "startlinecolor": "#2a3f5f"
            },
            "baxis": {
             "endlinecolor": "#2a3f5f",
             "gridcolor": "white",
             "linecolor": "white",
             "minorgridcolor": "white",
             "startlinecolor": "#2a3f5f"
            },
            "type": "carpet"
           }
          ],
          "choropleth": [
           {
            "colorbar": {
             "outlinewidth": 0,
             "ticks": ""
            },
            "type": "choropleth"
           }
          ],
          "contour": [
           {
            "colorbar": {
             "outlinewidth": 0,
             "ticks": ""
            },
            "colorscale": [
             [
              0,
              "#0d0887"
             ],
             [
              0.1111111111111111,
              "#46039f"
             ],
             [
              0.2222222222222222,
              "#7201a8"
             ],
             [
              0.3333333333333333,
              "#9c179e"
             ],
             [
              0.4444444444444444,
              "#bd3786"
             ],
             [
              0.5555555555555556,
              "#d8576b"
             ],
             [
              0.6666666666666666,
              "#ed7953"
             ],
             [
              0.7777777777777778,
              "#fb9f3a"
             ],
             [
              0.8888888888888888,
              "#fdca26"
             ],
             [
              1,
              "#f0f921"
             ]
            ],
            "type": "contour"
           }
          ],
          "contourcarpet": [
           {
            "colorbar": {
             "outlinewidth": 0,
             "ticks": ""
            },
            "type": "contourcarpet"
           }
          ],
          "heatmap": [
           {
            "colorbar": {
             "outlinewidth": 0,
             "ticks": ""
            },
            "colorscale": [
             [
              0,
              "#0d0887"
             ],
             [
              0.1111111111111111,
              "#46039f"
             ],
             [
              0.2222222222222222,
              "#7201a8"
             ],
             [
              0.3333333333333333,
              "#9c179e"
             ],
             [
              0.4444444444444444,
              "#bd3786"
             ],
             [
              0.5555555555555556,
              "#d8576b"
             ],
             [
              0.6666666666666666,
              "#ed7953"
             ],
             [
              0.7777777777777778,
              "#fb9f3a"
             ],
             [
              0.8888888888888888,
              "#fdca26"
             ],
             [
              1,
              "#f0f921"
             ]
            ],
            "type": "heatmap"
           }
          ],
          "heatmapgl": [
           {
            "colorbar": {
             "outlinewidth": 0,
             "ticks": ""
            },
            "colorscale": [
             [
              0,
              "#0d0887"
             ],
             [
              0.1111111111111111,
              "#46039f"
             ],
             [
              0.2222222222222222,
              "#7201a8"
             ],
             [
              0.3333333333333333,
              "#9c179e"
             ],
             [
              0.4444444444444444,
              "#bd3786"
             ],
             [
              0.5555555555555556,
              "#d8576b"
             ],
             [
              0.6666666666666666,
              "#ed7953"
             ],
             [
              0.7777777777777778,
              "#fb9f3a"
             ],
             [
              0.8888888888888888,
              "#fdca26"
             ],
             [
              1,
              "#f0f921"
             ]
            ],
            "type": "heatmapgl"
           }
          ],
          "histogram": [
           {
            "marker": {
             "pattern": {
              "fillmode": "overlay",
              "size": 10,
              "solidity": 0.2
             }
            },
            "type": "histogram"
           }
          ],
          "histogram2d": [
           {
            "colorbar": {
             "outlinewidth": 0,
             "ticks": ""
            },
            "colorscale": [
             [
              0,
              "#0d0887"
             ],
             [
              0.1111111111111111,
              "#46039f"
             ],
             [
              0.2222222222222222,
              "#7201a8"
             ],
             [
              0.3333333333333333,
              "#9c179e"
             ],
             [
              0.4444444444444444,
              "#bd3786"
             ],
             [
              0.5555555555555556,
              "#d8576b"
             ],
             [
              0.6666666666666666,
              "#ed7953"
             ],
             [
              0.7777777777777778,
              "#fb9f3a"
             ],
             [
              0.8888888888888888,
              "#fdca26"
             ],
             [
              1,
              "#f0f921"
             ]
            ],
            "type": "histogram2d"
           }
          ],
          "histogram2dcontour": [
           {
            "colorbar": {
             "outlinewidth": 0,
             "ticks": ""
            },
            "colorscale": [
             [
              0,
              "#0d0887"
             ],
             [
              0.1111111111111111,
              "#46039f"
             ],
             [
              0.2222222222222222,
              "#7201a8"
             ],
             [
              0.3333333333333333,
              "#9c179e"
             ],
             [
              0.4444444444444444,
              "#bd3786"
             ],
             [
              0.5555555555555556,
              "#d8576b"
             ],
             [
              0.6666666666666666,
              "#ed7953"
             ],
             [
              0.7777777777777778,
              "#fb9f3a"
             ],
             [
              0.8888888888888888,
              "#fdca26"
             ],
             [
              1,
              "#f0f921"
             ]
            ],
            "type": "histogram2dcontour"
           }
          ],
          "mesh3d": [
           {
            "colorbar": {
             "outlinewidth": 0,
             "ticks": ""
            },
            "type": "mesh3d"
           }
          ],
          "parcoords": [
           {
            "line": {
             "colorbar": {
              "outlinewidth": 0,
              "ticks": ""
             }
            },
            "type": "parcoords"
           }
          ],
          "pie": [
           {
            "automargin": true,
            "type": "pie"
           }
          ],
          "scatter": [
           {
            "fillpattern": {
             "fillmode": "overlay",
             "size": 10,
             "solidity": 0.2
            },
            "type": "scatter"
           }
          ],
          "scatter3d": [
           {
            "line": {
             "colorbar": {
              "outlinewidth": 0,
              "ticks": ""
             }
            },
            "marker": {
             "colorbar": {
              "outlinewidth": 0,
              "ticks": ""
             }
            },
            "type": "scatter3d"
           }
          ],
          "scattercarpet": [
           {
            "marker": {
             "colorbar": {
              "outlinewidth": 0,
              "ticks": ""
             }
            },
            "type": "scattercarpet"
           }
          ],
          "scattergeo": [
           {
            "marker": {
             "colorbar": {
              "outlinewidth": 0,
              "ticks": ""
             }
            },
            "type": "scattergeo"
           }
          ],
          "scattergl": [
           {
            "marker": {
             "colorbar": {
              "outlinewidth": 0,
              "ticks": ""
             }
            },
            "type": "scattergl"
           }
          ],
          "scattermapbox": [
           {
            "marker": {
             "colorbar": {
              "outlinewidth": 0,
              "ticks": ""
             }
            },
            "type": "scattermapbox"
           }
          ],
          "scatterpolar": [
           {
            "marker": {
             "colorbar": {
              "outlinewidth": 0,
              "ticks": ""
             }
            },
            "type": "scatterpolar"
           }
          ],
          "scatterpolargl": [
           {
            "marker": {
             "colorbar": {
              "outlinewidth": 0,
              "ticks": ""
             }
            },
            "type": "scatterpolargl"
           }
          ],
          "scatterternary": [
           {
            "marker": {
             "colorbar": {
              "outlinewidth": 0,
              "ticks": ""
             }
            },
            "type": "scatterternary"
           }
          ],
          "surface": [
           {
            "colorbar": {
             "outlinewidth": 0,
             "ticks": ""
            },
            "colorscale": [
             [
              0,
              "#0d0887"
             ],
             [
              0.1111111111111111,
              "#46039f"
             ],
             [
              0.2222222222222222,
              "#7201a8"
             ],
             [
              0.3333333333333333,
              "#9c179e"
             ],
             [
              0.4444444444444444,
              "#bd3786"
             ],
             [
              0.5555555555555556,
              "#d8576b"
             ],
             [
              0.6666666666666666,
              "#ed7953"
             ],
             [
              0.7777777777777778,
              "#fb9f3a"
             ],
             [
              0.8888888888888888,
              "#fdca26"
             ],
             [
              1,
              "#f0f921"
             ]
            ],
            "type": "surface"
           }
          ],
          "table": [
           {
            "cells": {
             "fill": {
              "color": "#EBF0F8"
             },
             "line": {
              "color": "white"
             }
            },
            "header": {
             "fill": {
              "color": "#C8D4E3"
             },
             "line": {
              "color": "white"
             }
            },
            "type": "table"
           }
          ]
         },
         "layout": {
          "annotationdefaults": {
           "arrowcolor": "#2a3f5f",
           "arrowhead": 0,
           "arrowwidth": 1
          },
          "autotypenumbers": "strict",
          "coloraxis": {
           "colorbar": {
            "outlinewidth": 0,
            "ticks": ""
           }
          },
          "colorscale": {
           "diverging": [
            [
             0,
             "#8e0152"
            ],
            [
             0.1,
             "#c51b7d"
            ],
            [
             0.2,
             "#de77ae"
            ],
            [
             0.3,
             "#f1b6da"
            ],
            [
             0.4,
             "#fde0ef"
            ],
            [
             0.5,
             "#f7f7f7"
            ],
            [
             0.6,
             "#e6f5d0"
            ],
            [
             0.7,
             "#b8e186"
            ],
            [
             0.8,
             "#7fbc41"
            ],
            [
             0.9,
             "#4d9221"
            ],
            [
             1,
             "#276419"
            ]
           ],
           "sequential": [
            [
             0,
             "#0d0887"
            ],
            [
             0.1111111111111111,
             "#46039f"
            ],
            [
             0.2222222222222222,
             "#7201a8"
            ],
            [
             0.3333333333333333,
             "#9c179e"
            ],
            [
             0.4444444444444444,
             "#bd3786"
            ],
            [
             0.5555555555555556,
             "#d8576b"
            ],
            [
             0.6666666666666666,
             "#ed7953"
            ],
            [
             0.7777777777777778,
             "#fb9f3a"
            ],
            [
             0.8888888888888888,
             "#fdca26"
            ],
            [
             1,
             "#f0f921"
            ]
           ],
           "sequentialminus": [
            [
             0,
             "#0d0887"
            ],
            [
             0.1111111111111111,
             "#46039f"
            ],
            [
             0.2222222222222222,
             "#7201a8"
            ],
            [
             0.3333333333333333,
             "#9c179e"
            ],
            [
             0.4444444444444444,
             "#bd3786"
            ],
            [
             0.5555555555555556,
             "#d8576b"
            ],
            [
             0.6666666666666666,
             "#ed7953"
            ],
            [
             0.7777777777777778,
             "#fb9f3a"
            ],
            [
             0.8888888888888888,
             "#fdca26"
            ],
            [
             1,
             "#f0f921"
            ]
           ]
          },
          "colorway": [
           "#636efa",
           "#EF553B",
           "#00cc96",
           "#ab63fa",
           "#FFA15A",
           "#19d3f3",
           "#FF6692",
           "#B6E880",
           "#FF97FF",
           "#FECB52"
          ],
          "font": {
           "color": "#2a3f5f"
          },
          "geo": {
           "bgcolor": "white",
           "lakecolor": "white",
           "landcolor": "#E5ECF6",
           "showlakes": true,
           "showland": true,
           "subunitcolor": "white"
          },
          "hoverlabel": {
           "align": "left"
          },
          "hovermode": "closest",
          "mapbox": {
           "style": "light"
          },
          "paper_bgcolor": "white",
          "plot_bgcolor": "#E5ECF6",
          "polar": {
           "angularaxis": {
            "gridcolor": "white",
            "linecolor": "white",
            "ticks": ""
           },
           "bgcolor": "#E5ECF6",
           "radialaxis": {
            "gridcolor": "white",
            "linecolor": "white",
            "ticks": ""
           }
          },
          "scene": {
           "xaxis": {
            "backgroundcolor": "#E5ECF6",
            "gridcolor": "white",
            "gridwidth": 2,
            "linecolor": "white",
            "showbackground": true,
            "ticks": "",
            "zerolinecolor": "white"
           },
           "yaxis": {
            "backgroundcolor": "#E5ECF6",
            "gridcolor": "white",
            "gridwidth": 2,
            "linecolor": "white",
            "showbackground": true,
            "ticks": "",
            "zerolinecolor": "white"
           },
           "zaxis": {
            "backgroundcolor": "#E5ECF6",
            "gridcolor": "white",
            "gridwidth": 2,
            "linecolor": "white",
            "showbackground": true,
            "ticks": "",
            "zerolinecolor": "white"
           }
          },
          "shapedefaults": {
           "line": {
            "color": "#2a3f5f"
           }
          },
          "ternary": {
           "aaxis": {
            "gridcolor": "white",
            "linecolor": "white",
            "ticks": ""
           },
           "baxis": {
            "gridcolor": "white",
            "linecolor": "white",
            "ticks": ""
           },
           "bgcolor": "#E5ECF6",
           "caxis": {
            "gridcolor": "white",
            "linecolor": "white",
            "ticks": ""
           }
          },
          "title": {
           "x": 0.05
          },
          "xaxis": {
           "automargin": true,
           "gridcolor": "white",
           "linecolor": "white",
           "ticks": "",
           "title": {
            "standoff": 15
           },
           "zerolinecolor": "white",
           "zerolinewidth": 2
          },
          "yaxis": {
           "automargin": true,
           "gridcolor": "white",
           "linecolor": "white",
           "ticks": "",
           "title": {
            "standoff": 15
           },
           "zerolinecolor": "white",
           "zerolinewidth": 2
          }
         }
        },
        "title": {
         "text": "Scatter matrix"
        },
        "width": 1200,
        "xaxis": {
         "anchor": "y",
         "domain": [
          0,
          1
         ],
         "title": {
          "text": "RT (s)"
         }
        },
        "yaxis": {
         "anchor": "x",
         "domain": [
          0,
          1
         ],
         "title": {
          "text": "m/z"
         }
        }
       }
      }
     },
     "metadata": {},
     "output_type": "display_data"
    }
   ],
   "source": [
    "DF_treat= DF.reset_index()\n",
    "DF_treat= DF_treat.drop(columns=[\"CSI_predictions_formula\", \"index\"])\n",
    "fig_scatter = px.scatter(DF_treat,\n",
    "                         x=\"RT (s)\",\n",
    "                         y=\"m/z\",\n",
    "                         title='Scatter matrix',\n",
    "                         width=1200,\n",
    "                         height=800)\n",
    "\n",
    "# This adds a dashed line for what a perfect model _should_ predict\n",
    "y = DF_treat[\"m/z\"].values\n",
    "fig_scatter.add_shape(\n",
    "    type=\"line\", line=dict(dash='dash'),\n",
    "    x0=y.min(), y0=y.min(),\n",
    "    x1=y.max(), y1=y.max()\n",
    ")\n",
    "\n",
    "fig_scatter.show()"
   ]
  },
  {
   "cell_type": "code",
   "execution_count": 7,
   "metadata": {},
   "outputs": [
    {
     "data": {
      "text/html": [
       "\n",
       "        <iframe\n",
       "            width=\"100%\"\n",
       "            height=\"1000\"\n",
       "            src=\"http://127.0.0.1:8002/\"\n",
       "            frameborder=\"0\"\n",
       "            allowfullscreen\n",
       "            \n",
       "        ></iframe>\n",
       "        "
      ],
      "text/plain": [
       "<IPython.lib.display.IFrame at 0x168061270>"
      ]
     },
     "metadata": {},
     "output_type": "display_data"
    }
   ],
   "source": [
    "fig_scatter.update_layout(\n",
    "    title='Scatter matrix w smiles')\n",
    "\n",
    "app_scatter_with_captions = molplotly.add_molecules(fig=fig_scatter,\n",
    "                                                    df=DF,\n",
    "                                                    smiles_col='smiles',\n",
    "                                                    title_col='CSI_predictions_name',\n",
    "                                                    show_coords=True)\n",
    "\n",
    "app_scatter_with_captions.run_server(mode='inline', port=8002, height=1000)"
   ]
  },
  {
   "cell_type": "code",
   "execution_count": 8,
   "metadata": {},
   "outputs": [],
   "source": [
    "import numpy as np\n",
    "from rdkit import Chem\n",
    "from rdkit.Chem import AllChem, DataStructs\n",
    "from sklearn.decomposition import PCA\n",
    "\n",
    "\n",
    "def smi_to_fp(smi):\n",
    "    fp = AllChem.GetMorganFingerprintAsBitVect(\n",
    "        Chem.MolFromSmiles(smi), 2, nBits=1024)\n",
    "    arr = np.zeros((0,), dtype=np.int8)\n",
    "    DataStructs.ConvertToNumpyArray(fp, arr)\n",
    "    return arr\n",
    "\n",
    "esol_fps = np.array([smi_to_fp(smi) for smi in DF_treat['smiles']])\n",
    "pca = PCA(n_components=2)\n",
    "components = pca.fit_transform(esol_fps.reshape(-1, 1024))\n",
    "DF_treat['PCA-1'] = components[:, 0]\n",
    "DF_treat['PCA-2'] = components[:, 1]"
   ]
  },
  {
   "cell_type": "code",
   "execution_count": 9,
   "metadata": {},
   "outputs": [
    {
     "data": {
      "text/html": [
       "\n",
       "        <iframe\n",
       "            width=\"100%\"\n",
       "            height=\"850\"\n",
       "            src=\"http://127.0.0.1:8006/\"\n",
       "            frameborder=\"0\"\n",
       "            allowfullscreen\n",
       "            \n",
       "        ></iframe>\n",
       "        "
      ],
      "text/plain": [
       "<IPython.lib.display.IFrame at 0x176327bb0>"
      ]
     },
     "metadata": {},
     "output_type": "display_data"
    }
   ],
   "source": [
    "fig_pca = px.scatter(DF_treat,\n",
    "                     x=\"PCA-1\",\n",
    "                     y=\"PCA-2\",\n",
    "                     color=\"m/z\",\n",
    "                     title='PCA w smiles',\n",
    "                     width=1200,\n",
    "                     height=800)\n",
    "\n",
    "app_pca = molplotly.add_molecules(fig=fig_pca,\n",
    "                                  df=DF_treat,\n",
    "                                  smiles_col='smiles',\n",
    "                                  title_col='CSI_predictions_name',\n",
    "                                  show_coords=False)\n",
    "\n",
    "app_pca.run_server(mode='inline', port=8006, height=850)"
   ]
  },
  {
   "cell_type": "code",
   "execution_count": null,
   "metadata": {},
   "outputs": [],
   "source": []
  }
 ],
 "metadata": {
  "kernelspec": {
   "display_name": "Python 3.10.5 ('rdkit-env')",
   "language": "python",
   "name": "python3"
  },
  "language_info": {
   "codemirror_mode": {
    "name": "ipython",
    "version": 3
   },
   "file_extension": ".py",
   "mimetype": "text/x-python",
   "name": "python",
   "nbconvert_exporter": "python",
   "pygments_lexer": "ipython3",
   "version": "3.10.5"
  },
  "vscode": {
   "interpreter": {
    "hash": "b92130802f101d6596f15104b4415d3930ed4dff18261b6fa12d3ab34bae6e28"
   }
  }
 },
 "nbformat": 4,
 "nbformat_minor": 2
}
