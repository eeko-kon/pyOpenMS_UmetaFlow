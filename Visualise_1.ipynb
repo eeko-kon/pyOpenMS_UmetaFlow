{
 "cells": [
  {
   "cell_type": "markdown",
   "metadata": {},
   "source": [
    "Visualise annotated features with smiles"
   ]
  },
  {
   "cell_type": "markdown",
   "metadata": {},
   "source": [
    "For rdkit, python 3.7 is required:"
   ]
  },
  {
   "cell_type": "code",
   "execution_count": null,
   "metadata": {},
   "outputs": [],
   "source": [
    "\n",
    "!conda create --name plots python=3.7\n",
    "!conda install molplotly\n",
    "!conda install -c rdkit rdkit\n",
    "!conda activate plots"
   ]
  },
  {
   "cell_type": "code",
   "execution_count": 1,
   "metadata": {},
   "outputs": [
    {
     "data": {
      "text/html": [
       "<div>\n",
       "<style scoped>\n",
       "    .dataframe tbody tr th:only-of-type {\n",
       "        vertical-align: middle;\n",
       "    }\n",
       "\n",
       "    .dataframe tbody tr th {\n",
       "        vertical-align: top;\n",
       "    }\n",
       "\n",
       "    .dataframe thead th {\n",
       "        text-align: right;\n",
       "    }\n",
       "</style>\n",
       "<table border=\"1\" class=\"dataframe\">\n",
       "  <thead>\n",
       "    <tr style=\"text-align: right;\">\n",
       "      <th></th>\n",
       "      <th>RT</th>\n",
       "      <th>mz</th>\n",
       "      <th>smiles</th>\n",
       "      <th>CSI_predictions_formula</th>\n",
       "      <th>CSI_predictions_name</th>\n",
       "      <th>GermicidinB</th>\n",
       "      <th>Kanamycin</th>\n",
       "      <th>Tetracycline</th>\n",
       "      <th>Thiostreptone</th>\n",
       "      <th>Globomycin</th>\n",
       "      <th>HygromycinB</th>\n",
       "      <th>Ampicillin</th>\n",
       "      <th>Chloramphenicol</th>\n",
       "      <th>Gentamycin</th>\n",
       "      <th>Apramycin_neg</th>\n",
       "      <th>Streptomycin</th>\n",
       "      <th>Apramycin</th>\n",
       "      <th>GermicidinA</th>\n",
       "    </tr>\n",
       "  </thead>\n",
       "  <tbody>\n",
       "    <tr>\n",
       "      <th>0</th>\n",
       "      <td>633.460614</td>\n",
       "      <td>556.442084</td>\n",
       "      <td>CCCCCCCCCCCCOCCOCCOCCOCCOCCOCCOCCOCCO</td>\n",
       "      <td>C28H58O9</td>\n",
       "      <td>Dodecyloctaglycol</td>\n",
       "      <td>0.0</td>\n",
       "      <td>0.0</td>\n",
       "      <td>0.0</td>\n",
       "      <td>0.0</td>\n",
       "      <td>596000.0</td>\n",
       "      <td>0.0</td>\n",
       "      <td>0.0</td>\n",
       "      <td>561000.0</td>\n",
       "      <td>0.0</td>\n",
       "      <td>0.0</td>\n",
       "      <td>505000.0</td>\n",
       "      <td>0.0</td>\n",
       "      <td>0.0</td>\n",
       "    </tr>\n",
       "    <tr>\n",
       "      <th>1</th>\n",
       "      <td>634.817202</td>\n",
       "      <td>535.520104</td>\n",
       "      <td>CCCCCCCCCC(C)(CCCCCCCCC)C(=O)OCC(CNCC1(CC(CC(C...</td>\n",
       "      <td>C34H68N2O3</td>\n",
       "      <td>3-(((5-Amino-1,3,3-trimethylcyclohexyl)methyl)...</td>\n",
       "      <td>0.0</td>\n",
       "      <td>0.0</td>\n",
       "      <td>0.0</td>\n",
       "      <td>0.0</td>\n",
       "      <td>598000.0</td>\n",
       "      <td>0.0</td>\n",
       "      <td>0.0</td>\n",
       "      <td>613000.0</td>\n",
       "      <td>580000.0</td>\n",
       "      <td>0.0</td>\n",
       "      <td>612000.0</td>\n",
       "      <td>624000.0</td>\n",
       "      <td>0.0</td>\n",
       "    </tr>\n",
       "    <tr>\n",
       "      <th>4</th>\n",
       "      <td>638.674618</td>\n",
       "      <td>336.326327</td>\n",
       "      <td>CCCCCCCCC=CCCCCCCCCCC(=O)NCCO</td>\n",
       "      <td>C22H43NO2</td>\n",
       "      <td>Anandamide (20:l, n-9)</td>\n",
       "      <td>0.0</td>\n",
       "      <td>0.0</td>\n",
       "      <td>0.0</td>\n",
       "      <td>0.0</td>\n",
       "      <td>0.0</td>\n",
       "      <td>0.0</td>\n",
       "      <td>0.0</td>\n",
       "      <td>0.0</td>\n",
       "      <td>0.0</td>\n",
       "      <td>0.0</td>\n",
       "      <td>768000.0</td>\n",
       "      <td>0.0</td>\n",
       "      <td>0.0</td>\n",
       "    </tr>\n",
       "    <tr>\n",
       "      <th>6</th>\n",
       "      <td>57.410628</td>\n",
       "      <td>169.977222</td>\n",
       "      <td>C(=O)(C(=O)O)NS(=O)(=O)O ## C(CS(=O)(=O)Cl)N=[...</td>\n",
       "      <td>C2H3NO6S ## C2H4ClN3O2S</td>\n",
       "      <td>nan ## 2-azidoethanesulfonyl chloride</td>\n",
       "      <td>0.0</td>\n",
       "      <td>0.0</td>\n",
       "      <td>0.0</td>\n",
       "      <td>0.0</td>\n",
       "      <td>0.0</td>\n",
       "      <td>0.0</td>\n",
       "      <td>0.0</td>\n",
       "      <td>1520000.0</td>\n",
       "      <td>1320000.0</td>\n",
       "      <td>0.0</td>\n",
       "      <td>773000.0</td>\n",
       "      <td>0.0</td>\n",
       "      <td>0.0</td>\n",
       "    </tr>\n",
       "    <tr>\n",
       "      <th>7</th>\n",
       "      <td>634.670209</td>\n",
       "      <td>512.415888</td>\n",
       "      <td>CCCCCCCCCCCCOCCOCCOCCOCCOCCOCCOCCO ## CC1C(CCC...</td>\n",
       "      <td>C26H54O8 ## C27H50N4O4 ## C30H54O3S</td>\n",
       "      <td>Laureth-7 ## nan ## 2-tetracosylbenzenesulfoni...</td>\n",
       "      <td>0.0</td>\n",
       "      <td>563000.0</td>\n",
       "      <td>549000.0</td>\n",
       "      <td>544000.0</td>\n",
       "      <td>727000.0</td>\n",
       "      <td>0.0</td>\n",
       "      <td>585000.0</td>\n",
       "      <td>738000.0</td>\n",
       "      <td>739000.0</td>\n",
       "      <td>0.0</td>\n",
       "      <td>777000.0</td>\n",
       "      <td>683000.0</td>\n",
       "      <td>0.0</td>\n",
       "    </tr>\n",
       "    <tr>\n",
       "      <th>...</th>\n",
       "      <td>...</td>\n",
       "      <td>...</td>\n",
       "      <td>...</td>\n",
       "      <td>...</td>\n",
       "      <td>...</td>\n",
       "      <td>...</td>\n",
       "      <td>...</td>\n",
       "      <td>...</td>\n",
       "      <td>...</td>\n",
       "      <td>...</td>\n",
       "      <td>...</td>\n",
       "      <td>...</td>\n",
       "      <td>...</td>\n",
       "      <td>...</td>\n",
       "      <td>...</td>\n",
       "      <td>...</td>\n",
       "      <td>...</td>\n",
       "      <td>...</td>\n",
       "    </tr>\n",
       "    <tr>\n",
       "      <th>400</th>\n",
       "      <td>546.898590</td>\n",
       "      <td>710.341416</td>\n",
       "      <td>COC1=CC(=CC(=C1O)O)CCC(=O)C(C(CCC2=CC(=C(C=C2)...</td>\n",
       "      <td>C41H44N2O8</td>\n",
       "      <td>0</td>\n",
       "      <td>0.0</td>\n",
       "      <td>0.0</td>\n",
       "      <td>0.0</td>\n",
       "      <td>0.0</td>\n",
       "      <td>3940000.0</td>\n",
       "      <td>0.0</td>\n",
       "      <td>0.0</td>\n",
       "      <td>0.0</td>\n",
       "      <td>0.0</td>\n",
       "      <td>0.0</td>\n",
       "      <td>0.0</td>\n",
       "      <td>0.0</td>\n",
       "      <td>0.0</td>\n",
       "    </tr>\n",
       "    <tr>\n",
       "      <th>401</th>\n",
       "      <td>516.575504</td>\n",
       "      <td>710.431418</td>\n",
       "      <td>CCCCCCCCCCCCCCCCCC(=O)OC1C(C(C(OC1OC2C(C(C(C(O...</td>\n",
       "      <td>C34H60O14</td>\n",
       "      <td>0</td>\n",
       "      <td>0.0</td>\n",
       "      <td>0.0</td>\n",
       "      <td>0.0</td>\n",
       "      <td>0.0</td>\n",
       "      <td>2210000.0</td>\n",
       "      <td>0.0</td>\n",
       "      <td>0.0</td>\n",
       "      <td>0.0</td>\n",
       "      <td>0.0</td>\n",
       "      <td>0.0</td>\n",
       "      <td>0.0</td>\n",
       "      <td>0.0</td>\n",
       "      <td>0.0</td>\n",
       "    </tr>\n",
       "    <tr>\n",
       "      <th>422</th>\n",
       "      <td>396.629391</td>\n",
       "      <td>768.495250</td>\n",
       "      <td>CC(=O)NC1C(C(C(OC1OC(C)(C)C2CCC3(CC(=C4CCC5C4(...</td>\n",
       "      <td>C41H69NO12</td>\n",
       "      <td>0</td>\n",
       "      <td>0.0</td>\n",
       "      <td>0.0</td>\n",
       "      <td>0.0</td>\n",
       "      <td>0.0</td>\n",
       "      <td>0.0</td>\n",
       "      <td>0.0</td>\n",
       "      <td>0.0</td>\n",
       "      <td>659000.0</td>\n",
       "      <td>0.0</td>\n",
       "      <td>0.0</td>\n",
       "      <td>0.0</td>\n",
       "      <td>0.0</td>\n",
       "      <td>0.0</td>\n",
       "    </tr>\n",
       "    <tr>\n",
       "      <th>423</th>\n",
       "      <td>544.629444</td>\n",
       "      <td>769.470638</td>\n",
       "      <td>CC(C(C(=O)NC(CCCCN)C(=O)N1CCCC1C(=O)NC(CCCN=C(...</td>\n",
       "      <td>C33H57N11O9</td>\n",
       "      <td>Selanc</td>\n",
       "      <td>0.0</td>\n",
       "      <td>0.0</td>\n",
       "      <td>0.0</td>\n",
       "      <td>0.0</td>\n",
       "      <td>14600000.0</td>\n",
       "      <td>0.0</td>\n",
       "      <td>0.0</td>\n",
       "      <td>0.0</td>\n",
       "      <td>0.0</td>\n",
       "      <td>0.0</td>\n",
       "      <td>0.0</td>\n",
       "      <td>0.0</td>\n",
       "      <td>0.0</td>\n",
       "    </tr>\n",
       "    <tr>\n",
       "      <th>459</th>\n",
       "      <td>278.129955</td>\n",
       "      <td>909.424352</td>\n",
       "      <td>CC(C(=O)NCC(=O)NC(CC1=CC=CC=C1)C(=O)NNC(=O)C(C...</td>\n",
       "      <td>C46H56N10O10</td>\n",
       "      <td>Biphalin</td>\n",
       "      <td>0.0</td>\n",
       "      <td>0.0</td>\n",
       "      <td>0.0</td>\n",
       "      <td>0.0</td>\n",
       "      <td>0.0</td>\n",
       "      <td>0.0</td>\n",
       "      <td>0.0</td>\n",
       "      <td>0.0</td>\n",
       "      <td>0.0</td>\n",
       "      <td>0.0</td>\n",
       "      <td>0.0</td>\n",
       "      <td>789000.0</td>\n",
       "      <td>0.0</td>\n",
       "    </tr>\n",
       "  </tbody>\n",
       "</table>\n",
       "<p>203 rows × 18 columns</p>\n",
       "</div>"
      ],
      "text/plain": [
       "             RT          mz  \\\n",
       "0    633.460614  556.442084   \n",
       "1    634.817202  535.520104   \n",
       "4    638.674618  336.326327   \n",
       "6     57.410628  169.977222   \n",
       "7    634.670209  512.415888   \n",
       "..          ...         ...   \n",
       "400  546.898590  710.341416   \n",
       "401  516.575504  710.431418   \n",
       "422  396.629391  768.495250   \n",
       "423  544.629444  769.470638   \n",
       "459  278.129955  909.424352   \n",
       "\n",
       "                                                smiles  \\\n",
       "0                CCCCCCCCCCCCOCCOCCOCCOCCOCCOCCOCCOCCO   \n",
       "1    CCCCCCCCCC(C)(CCCCCCCCC)C(=O)OCC(CNCC1(CC(CC(C...   \n",
       "4                        CCCCCCCCC=CCCCCCCCCCC(=O)NCCO   \n",
       "6    C(=O)(C(=O)O)NS(=O)(=O)O ## C(CS(=O)(=O)Cl)N=[...   \n",
       "7    CCCCCCCCCCCCOCCOCCOCCOCCOCCOCCOCCO ## CC1C(CCC...   \n",
       "..                                                 ...   \n",
       "400  COC1=CC(=CC(=C1O)O)CCC(=O)C(C(CCC2=CC(=C(C=C2)...   \n",
       "401  CCCCCCCCCCCCCCCCCC(=O)OC1C(C(C(OC1OC2C(C(C(C(O...   \n",
       "422  CC(=O)NC1C(C(C(OC1OC(C)(C)C2CCC3(CC(=C4CCC5C4(...   \n",
       "423  CC(C(C(=O)NC(CCCCN)C(=O)N1CCCC1C(=O)NC(CCCN=C(...   \n",
       "459  CC(C(=O)NCC(=O)NC(CC1=CC=CC=C1)C(=O)NNC(=O)C(C...   \n",
       "\n",
       "                 CSI_predictions_formula  \\\n",
       "0                               C28H58O9   \n",
       "1                             C34H68N2O3   \n",
       "4                              C22H43NO2   \n",
       "6                C2H3NO6S ## C2H4ClN3O2S   \n",
       "7    C26H54O8 ## C27H50N4O4 ## C30H54O3S   \n",
       "..                                   ...   \n",
       "400                           C41H44N2O8   \n",
       "401                            C34H60O14   \n",
       "422                           C41H69NO12   \n",
       "423                          C33H57N11O9   \n",
       "459                         C46H56N10O10   \n",
       "\n",
       "                                  CSI_predictions_name  GermicidinB  \\\n",
       "0                                    Dodecyloctaglycol          0.0   \n",
       "1    3-(((5-Amino-1,3,3-trimethylcyclohexyl)methyl)...          0.0   \n",
       "4                               Anandamide (20:l, n-9)          0.0   \n",
       "6                nan ## 2-azidoethanesulfonyl chloride          0.0   \n",
       "7    Laureth-7 ## nan ## 2-tetracosylbenzenesulfoni...          0.0   \n",
       "..                                                 ...          ...   \n",
       "400                                                  0          0.0   \n",
       "401                                                  0          0.0   \n",
       "422                                                  0          0.0   \n",
       "423                                             Selanc          0.0   \n",
       "459                                           Biphalin          0.0   \n",
       "\n",
       "     Kanamycin  Tetracycline  Thiostreptone  Globomycin  HygromycinB  \\\n",
       "0          0.0           0.0            0.0    596000.0          0.0   \n",
       "1          0.0           0.0            0.0    598000.0          0.0   \n",
       "4          0.0           0.0            0.0         0.0          0.0   \n",
       "6          0.0           0.0            0.0         0.0          0.0   \n",
       "7     563000.0      549000.0       544000.0    727000.0          0.0   \n",
       "..         ...           ...            ...         ...          ...   \n",
       "400        0.0           0.0            0.0   3940000.0          0.0   \n",
       "401        0.0           0.0            0.0   2210000.0          0.0   \n",
       "422        0.0           0.0            0.0         0.0          0.0   \n",
       "423        0.0           0.0            0.0  14600000.0          0.0   \n",
       "459        0.0           0.0            0.0         0.0          0.0   \n",
       "\n",
       "     Ampicillin  Chloramphenicol  Gentamycin  Apramycin_neg  Streptomycin  \\\n",
       "0           0.0         561000.0         0.0            0.0      505000.0   \n",
       "1           0.0         613000.0    580000.0            0.0      612000.0   \n",
       "4           0.0              0.0         0.0            0.0      768000.0   \n",
       "6           0.0        1520000.0   1320000.0            0.0      773000.0   \n",
       "7      585000.0         738000.0    739000.0            0.0      777000.0   \n",
       "..          ...              ...         ...            ...           ...   \n",
       "400         0.0              0.0         0.0            0.0           0.0   \n",
       "401         0.0              0.0         0.0            0.0           0.0   \n",
       "422         0.0         659000.0         0.0            0.0           0.0   \n",
       "423         0.0              0.0         0.0            0.0           0.0   \n",
       "459         0.0              0.0         0.0            0.0           0.0   \n",
       "\n",
       "     Apramycin  GermicidinA  \n",
       "0          0.0          0.0  \n",
       "1     624000.0          0.0  \n",
       "4          0.0          0.0  \n",
       "6          0.0          0.0  \n",
       "7     683000.0          0.0  \n",
       "..         ...          ...  \n",
       "400        0.0          0.0  \n",
       "401        0.0          0.0  \n",
       "422        0.0          0.0  \n",
       "423        0.0          0.0  \n",
       "459   789000.0          0.0  \n",
       "\n",
       "[203 rows x 18 columns]"
      ]
     },
     "execution_count": 1,
     "metadata": {},
     "output_type": "execute_result"
    }
   ],
   "source": [
    "import pandas as pd\n",
    "import plotly.express as px\n",
    "import molplotly\n",
    "\n",
    "# load a DataFrame with smiles\n",
    "DF = pd.read_csv('Validation_table.csv')\n",
    "DF= DF.drop(columns=\"Unnamed: 18\")\n",
    "DF= DF.rename(columns={\"CSI_predictions_smiles\":\"smiles\", \"20220426_UMETAB266_POS_Thiostreptone\":\"Thiostreptone\",\"20220510_UMETAB266_POS_Gentamycin_10uL\": \"Gentamycin\", \"20220426_UMETAB266_POS_Kanamycin\":\"Kanamycin\", \"20220510_UMETAB266_POS_Apramycin_10uL\": \"Apramycin\", \"20220510_UMETAB266_NEG_Apramycin_10uL\":\"Apramycin_neg\", \"20220510_UMETAB266_POS_Globomycin_10uL\":\"Globomycin\", \"20220426_UMETAB266_POS_Tetracycline\":\"Tetracycline\", \"20220510_UMETAB266_POS_Streptomycin_10uL\":\"Streptomycin\", \"20220426_UMETAB266_POS_GermicidinB\": \"GermicidinB\",'20220426_UMETAB266_POS_GermicidinA': \"GermicidinA\", '20220426_UMETAB266_POS_HygromycinB': \"HygromycinB\",'20220426_UMETAB266_POS_Ampicillin': \"Ampicillin\",'20220510_UMETAB266_POS_Chloramphenicol_10uL': \"Chloramphenicol\"})\n",
    "DF = DF[DF['smiles'].notna()]\n",
    "DF= DF.fillna(0)\n",
    "DF"
   ]
  },
  {
   "cell_type": "code",
   "execution_count": 2,
   "metadata": {},
   "outputs": [
    {
     "data": {
      "text/html": [
       "<div>\n",
       "<style scoped>\n",
       "    .dataframe tbody tr th:only-of-type {\n",
       "        vertical-align: middle;\n",
       "    }\n",
       "\n",
       "    .dataframe tbody tr th {\n",
       "        vertical-align: top;\n",
       "    }\n",
       "\n",
       "    .dataframe thead th {\n",
       "        text-align: right;\n",
       "    }\n",
       "</style>\n",
       "<table border=\"1\" class=\"dataframe\">\n",
       "  <thead>\n",
       "    <tr style=\"text-align: right;\">\n",
       "      <th></th>\n",
       "      <th></th>\n",
       "      <th>GermicidinB</th>\n",
       "      <th>Kanamycin</th>\n",
       "      <th>Tetracycline</th>\n",
       "      <th>Thiostreptone</th>\n",
       "      <th>Globomycin</th>\n",
       "      <th>HygromycinB</th>\n",
       "      <th>Ampicillin</th>\n",
       "      <th>Chloramphenicol</th>\n",
       "      <th>Gentamycin</th>\n",
       "      <th>Apramycin_neg</th>\n",
       "      <th>Streptomycin</th>\n",
       "      <th>Apramycin</th>\n",
       "      <th>GermicidinA</th>\n",
       "    </tr>\n",
       "    <tr>\n",
       "      <th>smiles</th>\n",
       "      <th>CSI_predictions_name</th>\n",
       "      <th></th>\n",
       "      <th></th>\n",
       "      <th></th>\n",
       "      <th></th>\n",
       "      <th></th>\n",
       "      <th></th>\n",
       "      <th></th>\n",
       "      <th></th>\n",
       "      <th></th>\n",
       "      <th></th>\n",
       "      <th></th>\n",
       "      <th></th>\n",
       "      <th></th>\n",
       "    </tr>\n",
       "  </thead>\n",
       "  <tbody>\n",
       "    <tr>\n",
       "      <th>CCCCCCCCCCCCOCCOCCOCCOCCOCCOCCOCCOCCO</th>\n",
       "      <th>Dodecyloctaglycol</th>\n",
       "      <td>0.0</td>\n",
       "      <td>0.0</td>\n",
       "      <td>0.0</td>\n",
       "      <td>0.0</td>\n",
       "      <td>596000.0</td>\n",
       "      <td>0.0</td>\n",
       "      <td>0.0</td>\n",
       "      <td>561000.0</td>\n",
       "      <td>0.0</td>\n",
       "      <td>0.0</td>\n",
       "      <td>505000.0</td>\n",
       "      <td>0.0</td>\n",
       "      <td>0.0</td>\n",
       "    </tr>\n",
       "    <tr>\n",
       "      <th>CCCCCCCCCC(C)(CCCCCCCCC)C(=O)OCC(CNCC1(CC(CC(C1)(C)C)N)C)O</th>\n",
       "      <th>3-(((5-Amino-1,3,3-trimethylcyclohexyl)methyl)amino)-2-hydroxypropyl 2-methyl-2-nonylundecanoate</th>\n",
       "      <td>0.0</td>\n",
       "      <td>0.0</td>\n",
       "      <td>0.0</td>\n",
       "      <td>0.0</td>\n",
       "      <td>598000.0</td>\n",
       "      <td>0.0</td>\n",
       "      <td>0.0</td>\n",
       "      <td>613000.0</td>\n",
       "      <td>580000.0</td>\n",
       "      <td>0.0</td>\n",
       "      <td>612000.0</td>\n",
       "      <td>624000.0</td>\n",
       "      <td>0.0</td>\n",
       "    </tr>\n",
       "    <tr>\n",
       "      <th>CCCCCCCCC=CCCCCCCCCCC(=O)NCCO</th>\n",
       "      <th>Anandamide (20:l, n-9)</th>\n",
       "      <td>0.0</td>\n",
       "      <td>0.0</td>\n",
       "      <td>0.0</td>\n",
       "      <td>0.0</td>\n",
       "      <td>0.0</td>\n",
       "      <td>0.0</td>\n",
       "      <td>0.0</td>\n",
       "      <td>0.0</td>\n",
       "      <td>0.0</td>\n",
       "      <td>0.0</td>\n",
       "      <td>768000.0</td>\n",
       "      <td>0.0</td>\n",
       "      <td>0.0</td>\n",
       "    </tr>\n",
       "    <tr>\n",
       "      <th>C(=O)(C(=O)O)NS(=O)(=O)O ## C(CS(=O)(=O)Cl)N=[N+]=[N-]</th>\n",
       "      <th>nan ## 2-azidoethanesulfonyl chloride</th>\n",
       "      <td>0.0</td>\n",
       "      <td>0.0</td>\n",
       "      <td>0.0</td>\n",
       "      <td>0.0</td>\n",
       "      <td>0.0</td>\n",
       "      <td>0.0</td>\n",
       "      <td>0.0</td>\n",
       "      <td>1520000.0</td>\n",
       "      <td>1320000.0</td>\n",
       "      <td>0.0</td>\n",
       "      <td>773000.0</td>\n",
       "      <td>0.0</td>\n",
       "      <td>0.0</td>\n",
       "    </tr>\n",
       "    <tr>\n",
       "      <th>CCCCCCCCCCCCOCCOCCOCCOCCOCCOCCOCCO ## CC1C(CCC2N1C=CC(C2)CCCCCCCC(CC(=O)O)(CNC3(CCNC(C3)N)C)O)O ## CCCCCCCCCCCCCCCCCCCCCCCCC1=CC=CC=C1S(=O)(=O)O</th>\n",
       "      <th>Laureth-7 ## nan ## 2-tetracosylbenzenesulfonic Acid</th>\n",
       "      <td>0.0</td>\n",
       "      <td>563000.0</td>\n",
       "      <td>549000.0</td>\n",
       "      <td>544000.0</td>\n",
       "      <td>727000.0</td>\n",
       "      <td>0.0</td>\n",
       "      <td>585000.0</td>\n",
       "      <td>738000.0</td>\n",
       "      <td>739000.0</td>\n",
       "      <td>0.0</td>\n",
       "      <td>777000.0</td>\n",
       "      <td>683000.0</td>\n",
       "      <td>0.0</td>\n",
       "    </tr>\n",
       "    <tr>\n",
       "      <th>...</th>\n",
       "      <th>...</th>\n",
       "      <td>...</td>\n",
       "      <td>...</td>\n",
       "      <td>...</td>\n",
       "      <td>...</td>\n",
       "      <td>...</td>\n",
       "      <td>...</td>\n",
       "      <td>...</td>\n",
       "      <td>...</td>\n",
       "      <td>...</td>\n",
       "      <td>...</td>\n",
       "      <td>...</td>\n",
       "      <td>...</td>\n",
       "      <td>...</td>\n",
       "    </tr>\n",
       "    <tr>\n",
       "      <th>COC1=CC(=CC(=C1O)O)CCC(=O)C(C(CCC2=CC(=C(C=C2)O)OC)O)C3(CCCC3)C4=CC(=NC=C4)NC5=CC6=C(C=C5)C=C(C=C6)O</th>\n",
       "      <th>0</th>\n",
       "      <td>0.0</td>\n",
       "      <td>0.0</td>\n",
       "      <td>0.0</td>\n",
       "      <td>0.0</td>\n",
       "      <td>3940000.0</td>\n",
       "      <td>0.0</td>\n",
       "      <td>0.0</td>\n",
       "      <td>0.0</td>\n",
       "      <td>0.0</td>\n",
       "      <td>0.0</td>\n",
       "      <td>0.0</td>\n",
       "      <td>0.0</td>\n",
       "      <td>0.0</td>\n",
       "    </tr>\n",
       "    <tr>\n",
       "      <th>CCCCCCCCCCCCCCCCCC(=O)OC1C(C(C(OC1OC2C(C(C(C(O2)CO)O)O)O)COC(=O)C)O)OC(=O)C</th>\n",
       "      <th>0</th>\n",
       "      <td>0.0</td>\n",
       "      <td>0.0</td>\n",
       "      <td>0.0</td>\n",
       "      <td>0.0</td>\n",
       "      <td>2210000.0</td>\n",
       "      <td>0.0</td>\n",
       "      <td>0.0</td>\n",
       "      <td>0.0</td>\n",
       "      <td>0.0</td>\n",
       "      <td>0.0</td>\n",
       "      <td>0.0</td>\n",
       "      <td>0.0</td>\n",
       "      <td>0.0</td>\n",
       "    </tr>\n",
       "    <tr>\n",
       "      <th>CC(=O)NC1C(C(C(OC1OC(C)(C)C2CCC3(CC(=C4CCC5C4(CC(C(C5(C)CCC(C(C)(C)OC)OC(=O)C)O)O)C)CCC3O2)C)CO)O)O</th>\n",
       "      <th>0</th>\n",
       "      <td>0.0</td>\n",
       "      <td>0.0</td>\n",
       "      <td>0.0</td>\n",
       "      <td>0.0</td>\n",
       "      <td>0.0</td>\n",
       "      <td>0.0</td>\n",
       "      <td>0.0</td>\n",
       "      <td>659000.0</td>\n",
       "      <td>0.0</td>\n",
       "      <td>0.0</td>\n",
       "      <td>0.0</td>\n",
       "      <td>0.0</td>\n",
       "      <td>0.0</td>\n",
       "    </tr>\n",
       "    <tr>\n",
       "      <th>CC(C(C(=O)NC(CCCCN)C(=O)N1CCCC1C(=O)NC(CCCN=C(N)N)C(=O)N2CCCC2C(=O)NCC(=O)N3CCCC3C(=O)O)N)O</th>\n",
       "      <th>Selanc</th>\n",
       "      <td>0.0</td>\n",
       "      <td>0.0</td>\n",
       "      <td>0.0</td>\n",
       "      <td>0.0</td>\n",
       "      <td>14600000.0</td>\n",
       "      <td>0.0</td>\n",
       "      <td>0.0</td>\n",
       "      <td>0.0</td>\n",
       "      <td>0.0</td>\n",
       "      <td>0.0</td>\n",
       "      <td>0.0</td>\n",
       "      <td>0.0</td>\n",
       "      <td>0.0</td>\n",
       "    </tr>\n",
       "    <tr>\n",
       "      <th>CC(C(=O)NCC(=O)NC(CC1=CC=CC=C1)C(=O)NNC(=O)C(CC2=CC=CC=C2)NC(=O)CNC(=O)C(C)NC(=O)C(CC3=CC=C(C=C3)O)N)NC(=O)C(CC4=CC=C(C=C4)O)N</th>\n",
       "      <th>Biphalin</th>\n",
       "      <td>0.0</td>\n",
       "      <td>0.0</td>\n",
       "      <td>0.0</td>\n",
       "      <td>0.0</td>\n",
       "      <td>0.0</td>\n",
       "      <td>0.0</td>\n",
       "      <td>0.0</td>\n",
       "      <td>0.0</td>\n",
       "      <td>0.0</td>\n",
       "      <td>0.0</td>\n",
       "      <td>0.0</td>\n",
       "      <td>789000.0</td>\n",
       "      <td>0.0</td>\n",
       "    </tr>\n",
       "  </tbody>\n",
       "</table>\n",
       "<p>203 rows × 13 columns</p>\n",
       "</div>"
      ],
      "text/plain": [
       "                                                                                                       GermicidinB  \\\n",
       "smiles                                             CSI_predictions_name                                              \n",
       "CCCCCCCCCCCCOCCOCCOCCOCCOCCOCCOCCOCCO              Dodecyloctaglycol                                           0.0   \n",
       "CCCCCCCCCC(C)(CCCCCCCCC)C(=O)OCC(CNCC1(CC(CC(C1... 3-(((5-Amino-1,3,3-trimethylcyclohexyl)methyl)a...          0.0   \n",
       "CCCCCCCCC=CCCCCCCCCCC(=O)NCCO                      Anandamide (20:l, n-9)                                      0.0   \n",
       "C(=O)(C(=O)O)NS(=O)(=O)O ## C(CS(=O)(=O)Cl)N=[N... nan ## 2-azidoethanesulfonyl chloride                       0.0   \n",
       "CCCCCCCCCCCCOCCOCCOCCOCCOCCOCCOCCO ## CC1C(CCC2... Laureth-7 ## nan ## 2-tetracosylbenzenesulfonic...          0.0   \n",
       "...                                                                                                            ...   \n",
       "COC1=CC(=CC(=C1O)O)CCC(=O)C(C(CCC2=CC(=C(C=C2)O... 0                                                           0.0   \n",
       "CCCCCCCCCCCCCCCCCC(=O)OC1C(C(C(OC1OC2C(C(C(C(O2... 0                                                           0.0   \n",
       "CC(=O)NC1C(C(C(OC1OC(C)(C)C2CCC3(CC(=C4CCC5C4(C... 0                                                           0.0   \n",
       "CC(C(C(=O)NC(CCCCN)C(=O)N1CCCC1C(=O)NC(CCCN=C(N... Selanc                                                      0.0   \n",
       "CC(C(=O)NCC(=O)NC(CC1=CC=CC=C1)C(=O)NNC(=O)C(CC... Biphalin                                                    0.0   \n",
       "\n",
       "                                                                                                       Kanamycin  \\\n",
       "smiles                                             CSI_predictions_name                                            \n",
       "CCCCCCCCCCCCOCCOCCOCCOCCOCCOCCOCCOCCO              Dodecyloctaglycol                                         0.0   \n",
       "CCCCCCCCCC(C)(CCCCCCCCC)C(=O)OCC(CNCC1(CC(CC(C1... 3-(((5-Amino-1,3,3-trimethylcyclohexyl)methyl)a...        0.0   \n",
       "CCCCCCCCC=CCCCCCCCCCC(=O)NCCO                      Anandamide (20:l, n-9)                                    0.0   \n",
       "C(=O)(C(=O)O)NS(=O)(=O)O ## C(CS(=O)(=O)Cl)N=[N... nan ## 2-azidoethanesulfonyl chloride                     0.0   \n",
       "CCCCCCCCCCCCOCCOCCOCCOCCOCCOCCOCCO ## CC1C(CCC2... Laureth-7 ## nan ## 2-tetracosylbenzenesulfonic...   563000.0   \n",
       "...                                                                                                          ...   \n",
       "COC1=CC(=CC(=C1O)O)CCC(=O)C(C(CCC2=CC(=C(C=C2)O... 0                                                         0.0   \n",
       "CCCCCCCCCCCCCCCCCC(=O)OC1C(C(C(OC1OC2C(C(C(C(O2... 0                                                         0.0   \n",
       "CC(=O)NC1C(C(C(OC1OC(C)(C)C2CCC3(CC(=C4CCC5C4(C... 0                                                         0.0   \n",
       "CC(C(C(=O)NC(CCCCN)C(=O)N1CCCC1C(=O)NC(CCCN=C(N... Selanc                                                    0.0   \n",
       "CC(C(=O)NCC(=O)NC(CC1=CC=CC=C1)C(=O)NNC(=O)C(CC... Biphalin                                                  0.0   \n",
       "\n",
       "                                                                                                       Tetracycline  \\\n",
       "smiles                                             CSI_predictions_name                                               \n",
       "CCCCCCCCCCCCOCCOCCOCCOCCOCCOCCOCCOCCO              Dodecyloctaglycol                                            0.0   \n",
       "CCCCCCCCCC(C)(CCCCCCCCC)C(=O)OCC(CNCC1(CC(CC(C1... 3-(((5-Amino-1,3,3-trimethylcyclohexyl)methyl)a...           0.0   \n",
       "CCCCCCCCC=CCCCCCCCCCC(=O)NCCO                      Anandamide (20:l, n-9)                                       0.0   \n",
       "C(=O)(C(=O)O)NS(=O)(=O)O ## C(CS(=O)(=O)Cl)N=[N... nan ## 2-azidoethanesulfonyl chloride                        0.0   \n",
       "CCCCCCCCCCCCOCCOCCOCCOCCOCCOCCOCCO ## CC1C(CCC2... Laureth-7 ## nan ## 2-tetracosylbenzenesulfonic...      549000.0   \n",
       "...                                                                                                             ...   \n",
       "COC1=CC(=CC(=C1O)O)CCC(=O)C(C(CCC2=CC(=C(C=C2)O... 0                                                            0.0   \n",
       "CCCCCCCCCCCCCCCCCC(=O)OC1C(C(C(OC1OC2C(C(C(C(O2... 0                                                            0.0   \n",
       "CC(=O)NC1C(C(C(OC1OC(C)(C)C2CCC3(CC(=C4CCC5C4(C... 0                                                            0.0   \n",
       "CC(C(C(=O)NC(CCCCN)C(=O)N1CCCC1C(=O)NC(CCCN=C(N... Selanc                                                       0.0   \n",
       "CC(C(=O)NCC(=O)NC(CC1=CC=CC=C1)C(=O)NNC(=O)C(CC... Biphalin                                                     0.0   \n",
       "\n",
       "                                                                                                       Thiostreptone  \\\n",
       "smiles                                             CSI_predictions_name                                                \n",
       "CCCCCCCCCCCCOCCOCCOCCOCCOCCOCCOCCOCCO              Dodecyloctaglycol                                             0.0   \n",
       "CCCCCCCCCC(C)(CCCCCCCCC)C(=O)OCC(CNCC1(CC(CC(C1... 3-(((5-Amino-1,3,3-trimethylcyclohexyl)methyl)a...            0.0   \n",
       "CCCCCCCCC=CCCCCCCCCCC(=O)NCCO                      Anandamide (20:l, n-9)                                        0.0   \n",
       "C(=O)(C(=O)O)NS(=O)(=O)O ## C(CS(=O)(=O)Cl)N=[N... nan ## 2-azidoethanesulfonyl chloride                         0.0   \n",
       "CCCCCCCCCCCCOCCOCCOCCOCCOCCOCCOCCO ## CC1C(CCC2... Laureth-7 ## nan ## 2-tetracosylbenzenesulfonic...       544000.0   \n",
       "...                                                                                                              ...   \n",
       "COC1=CC(=CC(=C1O)O)CCC(=O)C(C(CCC2=CC(=C(C=C2)O... 0                                                             0.0   \n",
       "CCCCCCCCCCCCCCCCCC(=O)OC1C(C(C(OC1OC2C(C(C(C(O2... 0                                                             0.0   \n",
       "CC(=O)NC1C(C(C(OC1OC(C)(C)C2CCC3(CC(=C4CCC5C4(C... 0                                                             0.0   \n",
       "CC(C(C(=O)NC(CCCCN)C(=O)N1CCCC1C(=O)NC(CCCN=C(N... Selanc                                                        0.0   \n",
       "CC(C(=O)NCC(=O)NC(CC1=CC=CC=C1)C(=O)NNC(=O)C(CC... Biphalin                                                      0.0   \n",
       "\n",
       "                                                                                                       Globomycin  \\\n",
       "smiles                                             CSI_predictions_name                                             \n",
       "CCCCCCCCCCCCOCCOCCOCCOCCOCCOCCOCCOCCO              Dodecyloctaglycol                                     596000.0   \n",
       "CCCCCCCCCC(C)(CCCCCCCCC)C(=O)OCC(CNCC1(CC(CC(C1... 3-(((5-Amino-1,3,3-trimethylcyclohexyl)methyl)a...    598000.0   \n",
       "CCCCCCCCC=CCCCCCCCCCC(=O)NCCO                      Anandamide (20:l, n-9)                                     0.0   \n",
       "C(=O)(C(=O)O)NS(=O)(=O)O ## C(CS(=O)(=O)Cl)N=[N... nan ## 2-azidoethanesulfonyl chloride                      0.0   \n",
       "CCCCCCCCCCCCOCCOCCOCCOCCOCCOCCOCCO ## CC1C(CCC2... Laureth-7 ## nan ## 2-tetracosylbenzenesulfonic...    727000.0   \n",
       "...                                                                                                           ...   \n",
       "COC1=CC(=CC(=C1O)O)CCC(=O)C(C(CCC2=CC(=C(C=C2)O... 0                                                    3940000.0   \n",
       "CCCCCCCCCCCCCCCCCC(=O)OC1C(C(C(OC1OC2C(C(C(C(O2... 0                                                    2210000.0   \n",
       "CC(=O)NC1C(C(C(OC1OC(C)(C)C2CCC3(CC(=C4CCC5C4(C... 0                                                          0.0   \n",
       "CC(C(C(=O)NC(CCCCN)C(=O)N1CCCC1C(=O)NC(CCCN=C(N... Selanc                                              14600000.0   \n",
       "CC(C(=O)NCC(=O)NC(CC1=CC=CC=C1)C(=O)NNC(=O)C(CC... Biphalin                                                   0.0   \n",
       "\n",
       "                                                                                                       HygromycinB  \\\n",
       "smiles                                             CSI_predictions_name                                              \n",
       "CCCCCCCCCCCCOCCOCCOCCOCCOCCOCCOCCOCCO              Dodecyloctaglycol                                           0.0   \n",
       "CCCCCCCCCC(C)(CCCCCCCCC)C(=O)OCC(CNCC1(CC(CC(C1... 3-(((5-Amino-1,3,3-trimethylcyclohexyl)methyl)a...          0.0   \n",
       "CCCCCCCCC=CCCCCCCCCCC(=O)NCCO                      Anandamide (20:l, n-9)                                      0.0   \n",
       "C(=O)(C(=O)O)NS(=O)(=O)O ## C(CS(=O)(=O)Cl)N=[N... nan ## 2-azidoethanesulfonyl chloride                       0.0   \n",
       "CCCCCCCCCCCCOCCOCCOCCOCCOCCOCCOCCO ## CC1C(CCC2... Laureth-7 ## nan ## 2-tetracosylbenzenesulfonic...          0.0   \n",
       "...                                                                                                            ...   \n",
       "COC1=CC(=CC(=C1O)O)CCC(=O)C(C(CCC2=CC(=C(C=C2)O... 0                                                           0.0   \n",
       "CCCCCCCCCCCCCCCCCC(=O)OC1C(C(C(OC1OC2C(C(C(C(O2... 0                                                           0.0   \n",
       "CC(=O)NC1C(C(C(OC1OC(C)(C)C2CCC3(CC(=C4CCC5C4(C... 0                                                           0.0   \n",
       "CC(C(C(=O)NC(CCCCN)C(=O)N1CCCC1C(=O)NC(CCCN=C(N... Selanc                                                      0.0   \n",
       "CC(C(=O)NCC(=O)NC(CC1=CC=CC=C1)C(=O)NNC(=O)C(CC... Biphalin                                                    0.0   \n",
       "\n",
       "                                                                                                       Ampicillin  \\\n",
       "smiles                                             CSI_predictions_name                                             \n",
       "CCCCCCCCCCCCOCCOCCOCCOCCOCCOCCOCCOCCO              Dodecyloctaglycol                                          0.0   \n",
       "CCCCCCCCCC(C)(CCCCCCCCC)C(=O)OCC(CNCC1(CC(CC(C1... 3-(((5-Amino-1,3,3-trimethylcyclohexyl)methyl)a...         0.0   \n",
       "CCCCCCCCC=CCCCCCCCCCC(=O)NCCO                      Anandamide (20:l, n-9)                                     0.0   \n",
       "C(=O)(C(=O)O)NS(=O)(=O)O ## C(CS(=O)(=O)Cl)N=[N... nan ## 2-azidoethanesulfonyl chloride                      0.0   \n",
       "CCCCCCCCCCCCOCCOCCOCCOCCOCCOCCOCCO ## CC1C(CCC2... Laureth-7 ## nan ## 2-tetracosylbenzenesulfonic...    585000.0   \n",
       "...                                                                                                           ...   \n",
       "COC1=CC(=CC(=C1O)O)CCC(=O)C(C(CCC2=CC(=C(C=C2)O... 0                                                          0.0   \n",
       "CCCCCCCCCCCCCCCCCC(=O)OC1C(C(C(OC1OC2C(C(C(C(O2... 0                                                          0.0   \n",
       "CC(=O)NC1C(C(C(OC1OC(C)(C)C2CCC3(CC(=C4CCC5C4(C... 0                                                          0.0   \n",
       "CC(C(C(=O)NC(CCCCN)C(=O)N1CCCC1C(=O)NC(CCCN=C(N... Selanc                                                     0.0   \n",
       "CC(C(=O)NCC(=O)NC(CC1=CC=CC=C1)C(=O)NNC(=O)C(CC... Biphalin                                                   0.0   \n",
       "\n",
       "                                                                                                       Chloramphenicol  \\\n",
       "smiles                                             CSI_predictions_name                                                  \n",
       "CCCCCCCCCCCCOCCOCCOCCOCCOCCOCCOCCOCCO              Dodecyloctaglycol                                          561000.0   \n",
       "CCCCCCCCCC(C)(CCCCCCCCC)C(=O)OCC(CNCC1(CC(CC(C1... 3-(((5-Amino-1,3,3-trimethylcyclohexyl)methyl)a...         613000.0   \n",
       "CCCCCCCCC=CCCCCCCCCCC(=O)NCCO                      Anandamide (20:l, n-9)                                          0.0   \n",
       "C(=O)(C(=O)O)NS(=O)(=O)O ## C(CS(=O)(=O)Cl)N=[N... nan ## 2-azidoethanesulfonyl chloride                     1520000.0   \n",
       "CCCCCCCCCCCCOCCOCCOCCOCCOCCOCCOCCO ## CC1C(CCC2... Laureth-7 ## nan ## 2-tetracosylbenzenesulfonic...         738000.0   \n",
       "...                                                                                                                ...   \n",
       "COC1=CC(=CC(=C1O)O)CCC(=O)C(C(CCC2=CC(=C(C=C2)O... 0                                                               0.0   \n",
       "CCCCCCCCCCCCCCCCCC(=O)OC1C(C(C(OC1OC2C(C(C(C(O2... 0                                                               0.0   \n",
       "CC(=O)NC1C(C(C(OC1OC(C)(C)C2CCC3(CC(=C4CCC5C4(C... 0                                                          659000.0   \n",
       "CC(C(C(=O)NC(CCCCN)C(=O)N1CCCC1C(=O)NC(CCCN=C(N... Selanc                                                          0.0   \n",
       "CC(C(=O)NCC(=O)NC(CC1=CC=CC=C1)C(=O)NNC(=O)C(CC... Biphalin                                                        0.0   \n",
       "\n",
       "                                                                                                       Gentamycin  \\\n",
       "smiles                                             CSI_predictions_name                                             \n",
       "CCCCCCCCCCCCOCCOCCOCCOCCOCCOCCOCCOCCO              Dodecyloctaglycol                                          0.0   \n",
       "CCCCCCCCCC(C)(CCCCCCCCC)C(=O)OCC(CNCC1(CC(CC(C1... 3-(((5-Amino-1,3,3-trimethylcyclohexyl)methyl)a...    580000.0   \n",
       "CCCCCCCCC=CCCCCCCCCCC(=O)NCCO                      Anandamide (20:l, n-9)                                     0.0   \n",
       "C(=O)(C(=O)O)NS(=O)(=O)O ## C(CS(=O)(=O)Cl)N=[N... nan ## 2-azidoethanesulfonyl chloride                1320000.0   \n",
       "CCCCCCCCCCCCOCCOCCOCCOCCOCCOCCOCCO ## CC1C(CCC2... Laureth-7 ## nan ## 2-tetracosylbenzenesulfonic...    739000.0   \n",
       "...                                                                                                           ...   \n",
       "COC1=CC(=CC(=C1O)O)CCC(=O)C(C(CCC2=CC(=C(C=C2)O... 0                                                          0.0   \n",
       "CCCCCCCCCCCCCCCCCC(=O)OC1C(C(C(OC1OC2C(C(C(C(O2... 0                                                          0.0   \n",
       "CC(=O)NC1C(C(C(OC1OC(C)(C)C2CCC3(CC(=C4CCC5C4(C... 0                                                          0.0   \n",
       "CC(C(C(=O)NC(CCCCN)C(=O)N1CCCC1C(=O)NC(CCCN=C(N... Selanc                                                     0.0   \n",
       "CC(C(=O)NCC(=O)NC(CC1=CC=CC=C1)C(=O)NNC(=O)C(CC... Biphalin                                                   0.0   \n",
       "\n",
       "                                                                                                       Apramycin_neg  \\\n",
       "smiles                                             CSI_predictions_name                                                \n",
       "CCCCCCCCCCCCOCCOCCOCCOCCOCCOCCOCCOCCO              Dodecyloctaglycol                                             0.0   \n",
       "CCCCCCCCCC(C)(CCCCCCCCC)C(=O)OCC(CNCC1(CC(CC(C1... 3-(((5-Amino-1,3,3-trimethylcyclohexyl)methyl)a...            0.0   \n",
       "CCCCCCCCC=CCCCCCCCCCC(=O)NCCO                      Anandamide (20:l, n-9)                                        0.0   \n",
       "C(=O)(C(=O)O)NS(=O)(=O)O ## C(CS(=O)(=O)Cl)N=[N... nan ## 2-azidoethanesulfonyl chloride                         0.0   \n",
       "CCCCCCCCCCCCOCCOCCOCCOCCOCCOCCOCCO ## CC1C(CCC2... Laureth-7 ## nan ## 2-tetracosylbenzenesulfonic...            0.0   \n",
       "...                                                                                                              ...   \n",
       "COC1=CC(=CC(=C1O)O)CCC(=O)C(C(CCC2=CC(=C(C=C2)O... 0                                                             0.0   \n",
       "CCCCCCCCCCCCCCCCCC(=O)OC1C(C(C(OC1OC2C(C(C(C(O2... 0                                                             0.0   \n",
       "CC(=O)NC1C(C(C(OC1OC(C)(C)C2CCC3(CC(=C4CCC5C4(C... 0                                                             0.0   \n",
       "CC(C(C(=O)NC(CCCCN)C(=O)N1CCCC1C(=O)NC(CCCN=C(N... Selanc                                                        0.0   \n",
       "CC(C(=O)NCC(=O)NC(CC1=CC=CC=C1)C(=O)NNC(=O)C(CC... Biphalin                                                      0.0   \n",
       "\n",
       "                                                                                                       Streptomycin  \\\n",
       "smiles                                             CSI_predictions_name                                               \n",
       "CCCCCCCCCCCCOCCOCCOCCOCCOCCOCCOCCOCCO              Dodecyloctaglycol                                       505000.0   \n",
       "CCCCCCCCCC(C)(CCCCCCCCC)C(=O)OCC(CNCC1(CC(CC(C1... 3-(((5-Amino-1,3,3-trimethylcyclohexyl)methyl)a...      612000.0   \n",
       "CCCCCCCCC=CCCCCCCCCCC(=O)NCCO                      Anandamide (20:l, n-9)                                  768000.0   \n",
       "C(=O)(C(=O)O)NS(=O)(=O)O ## C(CS(=O)(=O)Cl)N=[N... nan ## 2-azidoethanesulfonyl chloride                   773000.0   \n",
       "CCCCCCCCCCCCOCCOCCOCCOCCOCCOCCOCCO ## CC1C(CCC2... Laureth-7 ## nan ## 2-tetracosylbenzenesulfonic...      777000.0   \n",
       "...                                                                                                             ...   \n",
       "COC1=CC(=CC(=C1O)O)CCC(=O)C(C(CCC2=CC(=C(C=C2)O... 0                                                            0.0   \n",
       "CCCCCCCCCCCCCCCCCC(=O)OC1C(C(C(OC1OC2C(C(C(C(O2... 0                                                            0.0   \n",
       "CC(=O)NC1C(C(C(OC1OC(C)(C)C2CCC3(CC(=C4CCC5C4(C... 0                                                            0.0   \n",
       "CC(C(C(=O)NC(CCCCN)C(=O)N1CCCC1C(=O)NC(CCCN=C(N... Selanc                                                       0.0   \n",
       "CC(C(=O)NCC(=O)NC(CC1=CC=CC=C1)C(=O)NNC(=O)C(CC... Biphalin                                                     0.0   \n",
       "\n",
       "                                                                                                       Apramycin  \\\n",
       "smiles                                             CSI_predictions_name                                            \n",
       "CCCCCCCCCCCCOCCOCCOCCOCCOCCOCCOCCOCCO              Dodecyloctaglycol                                         0.0   \n",
       "CCCCCCCCCC(C)(CCCCCCCCC)C(=O)OCC(CNCC1(CC(CC(C1... 3-(((5-Amino-1,3,3-trimethylcyclohexyl)methyl)a...   624000.0   \n",
       "CCCCCCCCC=CCCCCCCCCCC(=O)NCCO                      Anandamide (20:l, n-9)                                    0.0   \n",
       "C(=O)(C(=O)O)NS(=O)(=O)O ## C(CS(=O)(=O)Cl)N=[N... nan ## 2-azidoethanesulfonyl chloride                     0.0   \n",
       "CCCCCCCCCCCCOCCOCCOCCOCCOCCOCCOCCO ## CC1C(CCC2... Laureth-7 ## nan ## 2-tetracosylbenzenesulfonic...   683000.0   \n",
       "...                                                                                                          ...   \n",
       "COC1=CC(=CC(=C1O)O)CCC(=O)C(C(CCC2=CC(=C(C=C2)O... 0                                                         0.0   \n",
       "CCCCCCCCCCCCCCCCCC(=O)OC1C(C(C(OC1OC2C(C(C(C(O2... 0                                                         0.0   \n",
       "CC(=O)NC1C(C(C(OC1OC(C)(C)C2CCC3(CC(=C4CCC5C4(C... 0                                                         0.0   \n",
       "CC(C(C(=O)NC(CCCCN)C(=O)N1CCCC1C(=O)NC(CCCN=C(N... Selanc                                                    0.0   \n",
       "CC(C(=O)NCC(=O)NC(CC1=CC=CC=C1)C(=O)NNC(=O)C(CC... Biphalin                                             789000.0   \n",
       "\n",
       "                                                                                                       GermicidinA  \n",
       "smiles                                             CSI_predictions_name                                             \n",
       "CCCCCCCCCCCCOCCOCCOCCOCCOCCOCCOCCOCCO              Dodecyloctaglycol                                           0.0  \n",
       "CCCCCCCCCC(C)(CCCCCCCCC)C(=O)OCC(CNCC1(CC(CC(C1... 3-(((5-Amino-1,3,3-trimethylcyclohexyl)methyl)a...          0.0  \n",
       "CCCCCCCCC=CCCCCCCCCCC(=O)NCCO                      Anandamide (20:l, n-9)                                      0.0  \n",
       "C(=O)(C(=O)O)NS(=O)(=O)O ## C(CS(=O)(=O)Cl)N=[N... nan ## 2-azidoethanesulfonyl chloride                       0.0  \n",
       "CCCCCCCCCCCCOCCOCCOCCOCCOCCOCCOCCO ## CC1C(CCC2... Laureth-7 ## nan ## 2-tetracosylbenzenesulfonic...          0.0  \n",
       "...                                                                                                            ...  \n",
       "COC1=CC(=CC(=C1O)O)CCC(=O)C(C(CCC2=CC(=C(C=C2)O... 0                                                           0.0  \n",
       "CCCCCCCCCCCCCCCCCC(=O)OC1C(C(C(OC1OC2C(C(C(C(O2... 0                                                           0.0  \n",
       "CC(=O)NC1C(C(C(OC1OC(C)(C)C2CCC3(CC(=C4CCC5C4(C... 0                                                           0.0  \n",
       "CC(C(C(=O)NC(CCCCN)C(=O)N1CCCC1C(=O)NC(CCCN=C(N... Selanc                                                      0.0  \n",
       "CC(C(=O)NCC(=O)NC(CC1=CC=CC=C1)C(=O)NNC(=O)C(CC... Biphalin                                                    0.0  \n",
       "\n",
       "[203 rows x 13 columns]"
      ]
     },
     "execution_count": 2,
     "metadata": {},
     "output_type": "execute_result"
    }
   ],
   "source": [
    "DF_T= DF.set_index([\"smiles\", \"CSI_predictions_name\"])\n",
    "DF_T= DF_T.drop(columns=[\"mz\", \"RT\", \"CSI_predictions_formula\"])\n",
    "DF_T"
   ]
  },
  {
   "cell_type": "code",
   "execution_count": 5,
   "metadata": {},
   "outputs": [
    {
     "data": {
      "text/html": [
       "\n",
       "        <iframe\n",
       "            width=\"100%\"\n",
       "            height=\"1000\"\n",
       "            src=\"http://127.0.0.1:8700/\"\n",
       "            frameborder=\"0\"\n",
       "            allowfullscreen\n",
       "            \n",
       "        ></iframe>\n",
       "        "
      ],
      "text/plain": [
       "<IPython.lib.display.IFrame at 0x7fd4ef9ec890>"
      ]
     },
     "metadata": {},
     "output_type": "display_data"
    }
   ],
   "source": [
    "features = ['GermicidinB', \n",
    "            'Kanamycin', \n",
    "            'Tetracycline', \n",
    "            'Thiostreptone',\n",
    "            'Globomycin', \n",
    "            'HygromycinB', \n",
    "            'Ampicillin', \n",
    "            'Apramycin',\n",
    "            'GermicidinA']\n",
    "            \t\t\t\t\t\t\n",
    "fig_matrix = px.scatter_matrix(DF,\n",
    "                               dimensions=features,\n",
    "                               width=1800,\n",
    "                               height=1500,\n",
    "                               title='Scatter matrix of standards')\n",
    "\n",
    "app_matrix = molplotly.add_molecules(fig=fig_matrix,\n",
    "                                     df=DF,\n",
    "                                     smiles_col='smiles',\n",
    "                                     title_col='CSI_predictions_name',\n",
    "                                     caption_cols=features,\n",
    "                                     width=200,\n",
    "                                     show_coords=False)\n",
    "\n",
    "# Only show informative lower triangle\n",
    "fig_matrix.update_traces(diagonal_visible=False, showupperhalf=False)\n",
    "app_matrix.run_server(mode='inline', port=8700, height=1000)"
   ]
  },
  {
   "cell_type": "code",
   "execution_count": 6,
   "metadata": {},
   "outputs": [
    {
     "data": {
      "text/html": [
       "<div>\n",
       "<style scoped>\n",
       "    .dataframe tbody tr th:only-of-type {\n",
       "        vertical-align: middle;\n",
       "    }\n",
       "\n",
       "    .dataframe tbody tr th {\n",
       "        vertical-align: top;\n",
       "    }\n",
       "\n",
       "    .dataframe thead th {\n",
       "        text-align: right;\n",
       "    }\n",
       "</style>\n",
       "<table border=\"1\" class=\"dataframe\">\n",
       "  <thead>\n",
       "    <tr style=\"text-align: right;\">\n",
       "      <th></th>\n",
       "      <th></th>\n",
       "      <th></th>\n",
       "      <th></th>\n",
       "      <th>GermicidinB</th>\n",
       "      <th>Kanamycin</th>\n",
       "      <th>Tetracycline</th>\n",
       "      <th>Thiostreptone</th>\n",
       "      <th>Globomycin</th>\n",
       "      <th>HygromycinB</th>\n",
       "      <th>Ampicillin</th>\n",
       "      <th>Apramycin</th>\n",
       "      <th>GermicidinA</th>\n",
       "    </tr>\n",
       "    <tr>\n",
       "      <th>smiles</th>\n",
       "      <th>CSI_predictions_name</th>\n",
       "      <th>mz</th>\n",
       "      <th>RT</th>\n",
       "      <th></th>\n",
       "      <th></th>\n",
       "      <th></th>\n",
       "      <th></th>\n",
       "      <th></th>\n",
       "      <th></th>\n",
       "      <th></th>\n",
       "      <th></th>\n",
       "      <th></th>\n",
       "    </tr>\n",
       "  </thead>\n",
       "  <tbody>\n",
       "    <tr>\n",
       "      <th>CCCCCCCCCCCCOCCOCCOCCOCCOCCOCCOCCOCCO</th>\n",
       "      <th>Dodecyloctaglycol</th>\n",
       "      <th>556.442084</th>\n",
       "      <th>633.460614</th>\n",
       "      <td>0.0</td>\n",
       "      <td>0.0</td>\n",
       "      <td>0.0</td>\n",
       "      <td>0.0</td>\n",
       "      <td>596000.0</td>\n",
       "      <td>0.0</td>\n",
       "      <td>0.0</td>\n",
       "      <td>0.0</td>\n",
       "      <td>0.0</td>\n",
       "    </tr>\n",
       "    <tr>\n",
       "      <th>CCCCCCCCCC(C)(CCCCCCCCC)C(=O)OCC(CNCC1(CC(CC(C1)(C)C)N)C)O</th>\n",
       "      <th>3-(((5-Amino-1,3,3-trimethylcyclohexyl)methyl)amino)-2-hydroxypropyl 2-methyl-2-nonylundecanoate</th>\n",
       "      <th>535.520104</th>\n",
       "      <th>634.817202</th>\n",
       "      <td>0.0</td>\n",
       "      <td>0.0</td>\n",
       "      <td>0.0</td>\n",
       "      <td>0.0</td>\n",
       "      <td>598000.0</td>\n",
       "      <td>0.0</td>\n",
       "      <td>0.0</td>\n",
       "      <td>624000.0</td>\n",
       "      <td>0.0</td>\n",
       "    </tr>\n",
       "    <tr>\n",
       "      <th>CCCCCCCCC=CCCCCCCCCCC(=O)NCCO</th>\n",
       "      <th>Anandamide (20:l, n-9)</th>\n",
       "      <th>336.326327</th>\n",
       "      <th>638.674618</th>\n",
       "      <td>0.0</td>\n",
       "      <td>0.0</td>\n",
       "      <td>0.0</td>\n",
       "      <td>0.0</td>\n",
       "      <td>0.0</td>\n",
       "      <td>0.0</td>\n",
       "      <td>0.0</td>\n",
       "      <td>0.0</td>\n",
       "      <td>0.0</td>\n",
       "    </tr>\n",
       "    <tr>\n",
       "      <th>C(=O)(C(=O)O)NS(=O)(=O)O ## C(CS(=O)(=O)Cl)N=[N+]=[N-]</th>\n",
       "      <th>nan ## 2-azidoethanesulfonyl chloride</th>\n",
       "      <th>169.977222</th>\n",
       "      <th>57.410628</th>\n",
       "      <td>0.0</td>\n",
       "      <td>0.0</td>\n",
       "      <td>0.0</td>\n",
       "      <td>0.0</td>\n",
       "      <td>0.0</td>\n",
       "      <td>0.0</td>\n",
       "      <td>0.0</td>\n",
       "      <td>0.0</td>\n",
       "      <td>0.0</td>\n",
       "    </tr>\n",
       "    <tr>\n",
       "      <th>CCCCCCCCCCCCOCCOCCOCCOCCOCCOCCOCCO ## CC1C(CCC2N1C=CC(C2)CCCCCCCC(CC(=O)O)(CNC3(CCNC(C3)N)C)O)O ## CCCCCCCCCCCCCCCCCCCCCCCCC1=CC=CC=C1S(=O)(=O)O</th>\n",
       "      <th>Laureth-7 ## nan ## 2-tetracosylbenzenesulfonic Acid</th>\n",
       "      <th>512.415888</th>\n",
       "      <th>634.670209</th>\n",
       "      <td>0.0</td>\n",
       "      <td>563000.0</td>\n",
       "      <td>549000.0</td>\n",
       "      <td>544000.0</td>\n",
       "      <td>727000.0</td>\n",
       "      <td>0.0</td>\n",
       "      <td>585000.0</td>\n",
       "      <td>683000.0</td>\n",
       "      <td>0.0</td>\n",
       "    </tr>\n",
       "    <tr>\n",
       "      <th>...</th>\n",
       "      <th>...</th>\n",
       "      <th>...</th>\n",
       "      <th>...</th>\n",
       "      <td>...</td>\n",
       "      <td>...</td>\n",
       "      <td>...</td>\n",
       "      <td>...</td>\n",
       "      <td>...</td>\n",
       "      <td>...</td>\n",
       "      <td>...</td>\n",
       "      <td>...</td>\n",
       "      <td>...</td>\n",
       "    </tr>\n",
       "    <tr>\n",
       "      <th>COC1=CC(=CC(=C1O)O)CCC(=O)C(C(CCC2=CC(=C(C=C2)O)OC)O)C3(CCCC3)C4=CC(=NC=C4)NC5=CC6=C(C=C5)C=C(C=C6)O</th>\n",
       "      <th>0</th>\n",
       "      <th>710.341416</th>\n",
       "      <th>546.898590</th>\n",
       "      <td>0.0</td>\n",
       "      <td>0.0</td>\n",
       "      <td>0.0</td>\n",
       "      <td>0.0</td>\n",
       "      <td>3940000.0</td>\n",
       "      <td>0.0</td>\n",
       "      <td>0.0</td>\n",
       "      <td>0.0</td>\n",
       "      <td>0.0</td>\n",
       "    </tr>\n",
       "    <tr>\n",
       "      <th>CCCCCCCCCCCCCCCCCC(=O)OC1C(C(C(OC1OC2C(C(C(C(O2)CO)O)O)O)COC(=O)C)O)OC(=O)C</th>\n",
       "      <th>0</th>\n",
       "      <th>710.431418</th>\n",
       "      <th>516.575504</th>\n",
       "      <td>0.0</td>\n",
       "      <td>0.0</td>\n",
       "      <td>0.0</td>\n",
       "      <td>0.0</td>\n",
       "      <td>2210000.0</td>\n",
       "      <td>0.0</td>\n",
       "      <td>0.0</td>\n",
       "      <td>0.0</td>\n",
       "      <td>0.0</td>\n",
       "    </tr>\n",
       "    <tr>\n",
       "      <th>CC(=O)NC1C(C(C(OC1OC(C)(C)C2CCC3(CC(=C4CCC5C4(CC(C(C5(C)CCC(C(C)(C)OC)OC(=O)C)O)O)C)CCC3O2)C)CO)O)O</th>\n",
       "      <th>0</th>\n",
       "      <th>768.495250</th>\n",
       "      <th>396.629391</th>\n",
       "      <td>0.0</td>\n",
       "      <td>0.0</td>\n",
       "      <td>0.0</td>\n",
       "      <td>0.0</td>\n",
       "      <td>0.0</td>\n",
       "      <td>0.0</td>\n",
       "      <td>0.0</td>\n",
       "      <td>0.0</td>\n",
       "      <td>0.0</td>\n",
       "    </tr>\n",
       "    <tr>\n",
       "      <th>CC(C(C(=O)NC(CCCCN)C(=O)N1CCCC1C(=O)NC(CCCN=C(N)N)C(=O)N2CCCC2C(=O)NCC(=O)N3CCCC3C(=O)O)N)O</th>\n",
       "      <th>Selanc</th>\n",
       "      <th>769.470638</th>\n",
       "      <th>544.629444</th>\n",
       "      <td>0.0</td>\n",
       "      <td>0.0</td>\n",
       "      <td>0.0</td>\n",
       "      <td>0.0</td>\n",
       "      <td>14600000.0</td>\n",
       "      <td>0.0</td>\n",
       "      <td>0.0</td>\n",
       "      <td>0.0</td>\n",
       "      <td>0.0</td>\n",
       "    </tr>\n",
       "    <tr>\n",
       "      <th>CC(C(=O)NCC(=O)NC(CC1=CC=CC=C1)C(=O)NNC(=O)C(CC2=CC=CC=C2)NC(=O)CNC(=O)C(C)NC(=O)C(CC3=CC=C(C=C3)O)N)NC(=O)C(CC4=CC=C(C=C4)O)N</th>\n",
       "      <th>Biphalin</th>\n",
       "      <th>909.424352</th>\n",
       "      <th>278.129955</th>\n",
       "      <td>0.0</td>\n",
       "      <td>0.0</td>\n",
       "      <td>0.0</td>\n",
       "      <td>0.0</td>\n",
       "      <td>0.0</td>\n",
       "      <td>0.0</td>\n",
       "      <td>0.0</td>\n",
       "      <td>789000.0</td>\n",
       "      <td>0.0</td>\n",
       "    </tr>\n",
       "  </tbody>\n",
       "</table>\n",
       "<p>203 rows × 9 columns</p>\n",
       "</div>"
      ],
      "text/plain": [
       "                                                                                                                             GermicidinB  \\\n",
       "smiles                                             CSI_predictions_name                               mz         RT                        \n",
       "CCCCCCCCCCCCOCCOCCOCCOCCOCCOCCOCCOCCO              Dodecyloctaglycol                                  556.442084 633.460614          0.0   \n",
       "CCCCCCCCCC(C)(CCCCCCCCC)C(=O)OCC(CNCC1(CC(CC(C1... 3-(((5-Amino-1,3,3-trimethylcyclohexyl)methyl)a... 535.520104 634.817202          0.0   \n",
       "CCCCCCCCC=CCCCCCCCCCC(=O)NCCO                      Anandamide (20:l, n-9)                             336.326327 638.674618          0.0   \n",
       "C(=O)(C(=O)O)NS(=O)(=O)O ## C(CS(=O)(=O)Cl)N=[N... nan ## 2-azidoethanesulfonyl chloride              169.977222 57.410628           0.0   \n",
       "CCCCCCCCCCCCOCCOCCOCCOCCOCCOCCOCCO ## CC1C(CCC2... Laureth-7 ## nan ## 2-tetracosylbenzenesulfonic... 512.415888 634.670209          0.0   \n",
       "...                                                                                                                                  ...   \n",
       "COC1=CC(=CC(=C1O)O)CCC(=O)C(C(CCC2=CC(=C(C=C2)O... 0                                                  710.341416 546.898590          0.0   \n",
       "CCCCCCCCCCCCCCCCCC(=O)OC1C(C(C(OC1OC2C(C(C(C(O2... 0                                                  710.431418 516.575504          0.0   \n",
       "CC(=O)NC1C(C(C(OC1OC(C)(C)C2CCC3(CC(=C4CCC5C4(C... 0                                                  768.495250 396.629391          0.0   \n",
       "CC(C(C(=O)NC(CCCCN)C(=O)N1CCCC1C(=O)NC(CCCN=C(N... Selanc                                             769.470638 544.629444          0.0   \n",
       "CC(C(=O)NCC(=O)NC(CC1=CC=CC=C1)C(=O)NNC(=O)C(CC... Biphalin                                           909.424352 278.129955          0.0   \n",
       "\n",
       "                                                                                                                             Kanamycin  \\\n",
       "smiles                                             CSI_predictions_name                               mz         RT                      \n",
       "CCCCCCCCCCCCOCCOCCOCCOCCOCCOCCOCCOCCO              Dodecyloctaglycol                                  556.442084 633.460614        0.0   \n",
       "CCCCCCCCCC(C)(CCCCCCCCC)C(=O)OCC(CNCC1(CC(CC(C1... 3-(((5-Amino-1,3,3-trimethylcyclohexyl)methyl)a... 535.520104 634.817202        0.0   \n",
       "CCCCCCCCC=CCCCCCCCCCC(=O)NCCO                      Anandamide (20:l, n-9)                             336.326327 638.674618        0.0   \n",
       "C(=O)(C(=O)O)NS(=O)(=O)O ## C(CS(=O)(=O)Cl)N=[N... nan ## 2-azidoethanesulfonyl chloride              169.977222 57.410628         0.0   \n",
       "CCCCCCCCCCCCOCCOCCOCCOCCOCCOCCOCCO ## CC1C(CCC2... Laureth-7 ## nan ## 2-tetracosylbenzenesulfonic... 512.415888 634.670209   563000.0   \n",
       "...                                                                                                                                ...   \n",
       "COC1=CC(=CC(=C1O)O)CCC(=O)C(C(CCC2=CC(=C(C=C2)O... 0                                                  710.341416 546.898590        0.0   \n",
       "CCCCCCCCCCCCCCCCCC(=O)OC1C(C(C(OC1OC2C(C(C(C(O2... 0                                                  710.431418 516.575504        0.0   \n",
       "CC(=O)NC1C(C(C(OC1OC(C)(C)C2CCC3(CC(=C4CCC5C4(C... 0                                                  768.495250 396.629391        0.0   \n",
       "CC(C(C(=O)NC(CCCCN)C(=O)N1CCCC1C(=O)NC(CCCN=C(N... Selanc                                             769.470638 544.629444        0.0   \n",
       "CC(C(=O)NCC(=O)NC(CC1=CC=CC=C1)C(=O)NNC(=O)C(CC... Biphalin                                           909.424352 278.129955        0.0   \n",
       "\n",
       "                                                                                                                             Tetracycline  \\\n",
       "smiles                                             CSI_predictions_name                               mz         RT                         \n",
       "CCCCCCCCCCCCOCCOCCOCCOCCOCCOCCOCCOCCO              Dodecyloctaglycol                                  556.442084 633.460614           0.0   \n",
       "CCCCCCCCCC(C)(CCCCCCCCC)C(=O)OCC(CNCC1(CC(CC(C1... 3-(((5-Amino-1,3,3-trimethylcyclohexyl)methyl)a... 535.520104 634.817202           0.0   \n",
       "CCCCCCCCC=CCCCCCCCCCC(=O)NCCO                      Anandamide (20:l, n-9)                             336.326327 638.674618           0.0   \n",
       "C(=O)(C(=O)O)NS(=O)(=O)O ## C(CS(=O)(=O)Cl)N=[N... nan ## 2-azidoethanesulfonyl chloride              169.977222 57.410628            0.0   \n",
       "CCCCCCCCCCCCOCCOCCOCCOCCOCCOCCOCCO ## CC1C(CCC2... Laureth-7 ## nan ## 2-tetracosylbenzenesulfonic... 512.415888 634.670209      549000.0   \n",
       "...                                                                                                                                   ...   \n",
       "COC1=CC(=CC(=C1O)O)CCC(=O)C(C(CCC2=CC(=C(C=C2)O... 0                                                  710.341416 546.898590           0.0   \n",
       "CCCCCCCCCCCCCCCCCC(=O)OC1C(C(C(OC1OC2C(C(C(C(O2... 0                                                  710.431418 516.575504           0.0   \n",
       "CC(=O)NC1C(C(C(OC1OC(C)(C)C2CCC3(CC(=C4CCC5C4(C... 0                                                  768.495250 396.629391           0.0   \n",
       "CC(C(C(=O)NC(CCCCN)C(=O)N1CCCC1C(=O)NC(CCCN=C(N... Selanc                                             769.470638 544.629444           0.0   \n",
       "CC(C(=O)NCC(=O)NC(CC1=CC=CC=C1)C(=O)NNC(=O)C(CC... Biphalin                                           909.424352 278.129955           0.0   \n",
       "\n",
       "                                                                                                                             Thiostreptone  \\\n",
       "smiles                                             CSI_predictions_name                               mz         RT                          \n",
       "CCCCCCCCCCCCOCCOCCOCCOCCOCCOCCOCCOCCO              Dodecyloctaglycol                                  556.442084 633.460614            0.0   \n",
       "CCCCCCCCCC(C)(CCCCCCCCC)C(=O)OCC(CNCC1(CC(CC(C1... 3-(((5-Amino-1,3,3-trimethylcyclohexyl)methyl)a... 535.520104 634.817202            0.0   \n",
       "CCCCCCCCC=CCCCCCCCCCC(=O)NCCO                      Anandamide (20:l, n-9)                             336.326327 638.674618            0.0   \n",
       "C(=O)(C(=O)O)NS(=O)(=O)O ## C(CS(=O)(=O)Cl)N=[N... nan ## 2-azidoethanesulfonyl chloride              169.977222 57.410628             0.0   \n",
       "CCCCCCCCCCCCOCCOCCOCCOCCOCCOCCOCCO ## CC1C(CCC2... Laureth-7 ## nan ## 2-tetracosylbenzenesulfonic... 512.415888 634.670209       544000.0   \n",
       "...                                                                                                                                    ...   \n",
       "COC1=CC(=CC(=C1O)O)CCC(=O)C(C(CCC2=CC(=C(C=C2)O... 0                                                  710.341416 546.898590            0.0   \n",
       "CCCCCCCCCCCCCCCCCC(=O)OC1C(C(C(OC1OC2C(C(C(C(O2... 0                                                  710.431418 516.575504            0.0   \n",
       "CC(=O)NC1C(C(C(OC1OC(C)(C)C2CCC3(CC(=C4CCC5C4(C... 0                                                  768.495250 396.629391            0.0   \n",
       "CC(C(C(=O)NC(CCCCN)C(=O)N1CCCC1C(=O)NC(CCCN=C(N... Selanc                                             769.470638 544.629444            0.0   \n",
       "CC(C(=O)NCC(=O)NC(CC1=CC=CC=C1)C(=O)NNC(=O)C(CC... Biphalin                                           909.424352 278.129955            0.0   \n",
       "\n",
       "                                                                                                                             Globomycin  \\\n",
       "smiles                                             CSI_predictions_name                               mz         RT                       \n",
       "CCCCCCCCCCCCOCCOCCOCCOCCOCCOCCOCCOCCO              Dodecyloctaglycol                                  556.442084 633.460614    596000.0   \n",
       "CCCCCCCCCC(C)(CCCCCCCCC)C(=O)OCC(CNCC1(CC(CC(C1... 3-(((5-Amino-1,3,3-trimethylcyclohexyl)methyl)a... 535.520104 634.817202    598000.0   \n",
       "CCCCCCCCC=CCCCCCCCCCC(=O)NCCO                      Anandamide (20:l, n-9)                             336.326327 638.674618         0.0   \n",
       "C(=O)(C(=O)O)NS(=O)(=O)O ## C(CS(=O)(=O)Cl)N=[N... nan ## 2-azidoethanesulfonyl chloride              169.977222 57.410628          0.0   \n",
       "CCCCCCCCCCCCOCCOCCOCCOCCOCCOCCOCCO ## CC1C(CCC2... Laureth-7 ## nan ## 2-tetracosylbenzenesulfonic... 512.415888 634.670209    727000.0   \n",
       "...                                                                                                                                 ...   \n",
       "COC1=CC(=CC(=C1O)O)CCC(=O)C(C(CCC2=CC(=C(C=C2)O... 0                                                  710.341416 546.898590   3940000.0   \n",
       "CCCCCCCCCCCCCCCCCC(=O)OC1C(C(C(OC1OC2C(C(C(C(O2... 0                                                  710.431418 516.575504   2210000.0   \n",
       "CC(=O)NC1C(C(C(OC1OC(C)(C)C2CCC3(CC(=C4CCC5C4(C... 0                                                  768.495250 396.629391         0.0   \n",
       "CC(C(C(=O)NC(CCCCN)C(=O)N1CCCC1C(=O)NC(CCCN=C(N... Selanc                                             769.470638 544.629444  14600000.0   \n",
       "CC(C(=O)NCC(=O)NC(CC1=CC=CC=C1)C(=O)NNC(=O)C(CC... Biphalin                                           909.424352 278.129955         0.0   \n",
       "\n",
       "                                                                                                                             HygromycinB  \\\n",
       "smiles                                             CSI_predictions_name                               mz         RT                        \n",
       "CCCCCCCCCCCCOCCOCCOCCOCCOCCOCCOCCOCCO              Dodecyloctaglycol                                  556.442084 633.460614          0.0   \n",
       "CCCCCCCCCC(C)(CCCCCCCCC)C(=O)OCC(CNCC1(CC(CC(C1... 3-(((5-Amino-1,3,3-trimethylcyclohexyl)methyl)a... 535.520104 634.817202          0.0   \n",
       "CCCCCCCCC=CCCCCCCCCCC(=O)NCCO                      Anandamide (20:l, n-9)                             336.326327 638.674618          0.0   \n",
       "C(=O)(C(=O)O)NS(=O)(=O)O ## C(CS(=O)(=O)Cl)N=[N... nan ## 2-azidoethanesulfonyl chloride              169.977222 57.410628           0.0   \n",
       "CCCCCCCCCCCCOCCOCCOCCOCCOCCOCCOCCO ## CC1C(CCC2... Laureth-7 ## nan ## 2-tetracosylbenzenesulfonic... 512.415888 634.670209          0.0   \n",
       "...                                                                                                                                  ...   \n",
       "COC1=CC(=CC(=C1O)O)CCC(=O)C(C(CCC2=CC(=C(C=C2)O... 0                                                  710.341416 546.898590          0.0   \n",
       "CCCCCCCCCCCCCCCCCC(=O)OC1C(C(C(OC1OC2C(C(C(C(O2... 0                                                  710.431418 516.575504          0.0   \n",
       "CC(=O)NC1C(C(C(OC1OC(C)(C)C2CCC3(CC(=C4CCC5C4(C... 0                                                  768.495250 396.629391          0.0   \n",
       "CC(C(C(=O)NC(CCCCN)C(=O)N1CCCC1C(=O)NC(CCCN=C(N... Selanc                                             769.470638 544.629444          0.0   \n",
       "CC(C(=O)NCC(=O)NC(CC1=CC=CC=C1)C(=O)NNC(=O)C(CC... Biphalin                                           909.424352 278.129955          0.0   \n",
       "\n",
       "                                                                                                                             Ampicillin  \\\n",
       "smiles                                             CSI_predictions_name                               mz         RT                       \n",
       "CCCCCCCCCCCCOCCOCCOCCOCCOCCOCCOCCOCCO              Dodecyloctaglycol                                  556.442084 633.460614         0.0   \n",
       "CCCCCCCCCC(C)(CCCCCCCCC)C(=O)OCC(CNCC1(CC(CC(C1... 3-(((5-Amino-1,3,3-trimethylcyclohexyl)methyl)a... 535.520104 634.817202         0.0   \n",
       "CCCCCCCCC=CCCCCCCCCCC(=O)NCCO                      Anandamide (20:l, n-9)                             336.326327 638.674618         0.0   \n",
       "C(=O)(C(=O)O)NS(=O)(=O)O ## C(CS(=O)(=O)Cl)N=[N... nan ## 2-azidoethanesulfonyl chloride              169.977222 57.410628          0.0   \n",
       "CCCCCCCCCCCCOCCOCCOCCOCCOCCOCCOCCO ## CC1C(CCC2... Laureth-7 ## nan ## 2-tetracosylbenzenesulfonic... 512.415888 634.670209    585000.0   \n",
       "...                                                                                                                                 ...   \n",
       "COC1=CC(=CC(=C1O)O)CCC(=O)C(C(CCC2=CC(=C(C=C2)O... 0                                                  710.341416 546.898590         0.0   \n",
       "CCCCCCCCCCCCCCCCCC(=O)OC1C(C(C(OC1OC2C(C(C(C(O2... 0                                                  710.431418 516.575504         0.0   \n",
       "CC(=O)NC1C(C(C(OC1OC(C)(C)C2CCC3(CC(=C4CCC5C4(C... 0                                                  768.495250 396.629391         0.0   \n",
       "CC(C(C(=O)NC(CCCCN)C(=O)N1CCCC1C(=O)NC(CCCN=C(N... Selanc                                             769.470638 544.629444         0.0   \n",
       "CC(C(=O)NCC(=O)NC(CC1=CC=CC=C1)C(=O)NNC(=O)C(CC... Biphalin                                           909.424352 278.129955         0.0   \n",
       "\n",
       "                                                                                                                             Apramycin  \\\n",
       "smiles                                             CSI_predictions_name                               mz         RT                      \n",
       "CCCCCCCCCCCCOCCOCCOCCOCCOCCOCCOCCOCCO              Dodecyloctaglycol                                  556.442084 633.460614        0.0   \n",
       "CCCCCCCCCC(C)(CCCCCCCCC)C(=O)OCC(CNCC1(CC(CC(C1... 3-(((5-Amino-1,3,3-trimethylcyclohexyl)methyl)a... 535.520104 634.817202   624000.0   \n",
       "CCCCCCCCC=CCCCCCCCCCC(=O)NCCO                      Anandamide (20:l, n-9)                             336.326327 638.674618        0.0   \n",
       "C(=O)(C(=O)O)NS(=O)(=O)O ## C(CS(=O)(=O)Cl)N=[N... nan ## 2-azidoethanesulfonyl chloride              169.977222 57.410628         0.0   \n",
       "CCCCCCCCCCCCOCCOCCOCCOCCOCCOCCOCCO ## CC1C(CCC2... Laureth-7 ## nan ## 2-tetracosylbenzenesulfonic... 512.415888 634.670209   683000.0   \n",
       "...                                                                                                                                ...   \n",
       "COC1=CC(=CC(=C1O)O)CCC(=O)C(C(CCC2=CC(=C(C=C2)O... 0                                                  710.341416 546.898590        0.0   \n",
       "CCCCCCCCCCCCCCCCCC(=O)OC1C(C(C(OC1OC2C(C(C(C(O2... 0                                                  710.431418 516.575504        0.0   \n",
       "CC(=O)NC1C(C(C(OC1OC(C)(C)C2CCC3(CC(=C4CCC5C4(C... 0                                                  768.495250 396.629391        0.0   \n",
       "CC(C(C(=O)NC(CCCCN)C(=O)N1CCCC1C(=O)NC(CCCN=C(N... Selanc                                             769.470638 544.629444        0.0   \n",
       "CC(C(=O)NCC(=O)NC(CC1=CC=CC=C1)C(=O)NNC(=O)C(CC... Biphalin                                           909.424352 278.129955   789000.0   \n",
       "\n",
       "                                                                                                                             GermicidinA  \n",
       "smiles                                             CSI_predictions_name                               mz         RT                       \n",
       "CCCCCCCCCCCCOCCOCCOCCOCCOCCOCCOCCOCCO              Dodecyloctaglycol                                  556.442084 633.460614          0.0  \n",
       "CCCCCCCCCC(C)(CCCCCCCCC)C(=O)OCC(CNCC1(CC(CC(C1... 3-(((5-Amino-1,3,3-trimethylcyclohexyl)methyl)a... 535.520104 634.817202          0.0  \n",
       "CCCCCCCCC=CCCCCCCCCCC(=O)NCCO                      Anandamide (20:l, n-9)                             336.326327 638.674618          0.0  \n",
       "C(=O)(C(=O)O)NS(=O)(=O)O ## C(CS(=O)(=O)Cl)N=[N... nan ## 2-azidoethanesulfonyl chloride              169.977222 57.410628           0.0  \n",
       "CCCCCCCCCCCCOCCOCCOCCOCCOCCOCCOCCO ## CC1C(CCC2... Laureth-7 ## nan ## 2-tetracosylbenzenesulfonic... 512.415888 634.670209          0.0  \n",
       "...                                                                                                                                  ...  \n",
       "COC1=CC(=CC(=C1O)O)CCC(=O)C(C(CCC2=CC(=C(C=C2)O... 0                                                  710.341416 546.898590          0.0  \n",
       "CCCCCCCCCCCCCCCCCC(=O)OC1C(C(C(OC1OC2C(C(C(C(O2... 0                                                  710.431418 516.575504          0.0  \n",
       "CC(=O)NC1C(C(C(OC1OC(C)(C)C2CCC3(CC(=C4CCC5C4(C... 0                                                  768.495250 396.629391          0.0  \n",
       "CC(C(C(=O)NC(CCCCN)C(=O)N1CCCC1C(=O)NC(CCCN=C(N... Selanc                                             769.470638 544.629444          0.0  \n",
       "CC(C(=O)NCC(=O)NC(CC1=CC=CC=C1)C(=O)NNC(=O)C(CC... Biphalin                                           909.424352 278.129955          0.0  \n",
       "\n",
       "[203 rows x 9 columns]"
      ]
     },
     "execution_count": 6,
     "metadata": {},
     "output_type": "execute_result"
    }
   ],
   "source": [
    "DF_treat= DF.drop(columns= \"Apramycin_neg\")\n",
    "DF_treat= DF_treat.set_index([\"smiles\", \"CSI_predictions_name\", \"mz\", \"RT\"])\n",
    "DF_treat= DF_treat.drop(columns=[\"CSI_predictions_formula\", \"Streptomycin\", \"Gentamycin\", \"Chloramphenicol\"])\n",
    "DF_treat"
   ]
  },
  {
   "cell_type": "code",
   "execution_count": 8,
   "metadata": {},
   "outputs": [],
   "source": [
    "DF_treat= DF_treat.reset_index()"
   ]
  },
  {
   "cell_type": "code",
   "execution_count": 9,
   "metadata": {},
   "outputs": [
    {
     "data": {
      "application/vnd.plotly.v1+json": {
       "config": {
        "plotlyServerURL": "https://plot.ly"
       },
       "data": [
        {
         "hovertemplate": "RT=%{x}<br>mz=%{y}<extra></extra>",
         "legendgroup": "",
         "marker": {
          "color": "#636efa",
          "symbol": "circle"
         },
         "mode": "markers",
         "name": "",
         "orientation": "v",
         "showlegend": false,
         "type": "scatter",
         "x": [
          633.4606138,
          634.8172024,
          638.6746182,
          57.4106276,
          634.6702093,
          578.0503506,
          628.2262078,
          520.7256723,
          394.1342084,
          534.2520682,
          487.0045497,
          648.9712885,
          635.4506057,
          376.5870935,
          647.7808611,
          381.0766482,
          384.6282956,
          391.0410016,
          490.6949772,
          494.8578368,
          591.8140326,
          474.7552852,
          568.7901426,
          523.8728232,
          322.5513542,
          650.4694607,
          286.2277295,
          508.1433612,
          398.6616934,
          309.2147066,
          404.7677192,
          477.5301808,
          308.9964825,
          457.661064,
          465.4327381,
          46.63975926,
          534.9237843,
          448.3029122,
          444.1121193,
          288.8729797,
          364.8338629,
          371.2446323,
          53.19210255,
          493.0059439,
          590.4140756,
          474.7607361,
          58.99422319,
          442.856646,
          592.3891929,
          485.050686,
          441.4658941,
          655.5158225,
          446.1303089,
          393.6413515,
          400.6499011,
          483.0256608,
          486.4995597,
          44.79857817,
          46.928268,
          46.47506396,
          543.5207684,
          49.36463901,
          397.5100299,
          146.8898085,
          41.34342731,
          590.1241551,
          42.53039003,
          50.83043753,
          394.6337861,
          49.51762098,
          412.5346656,
          403.1640892,
          47.10618798,
          207.8806259,
          438.7739323,
          397.9385285,
          47.88731546,
          51.58328729,
          485.7174623,
          57.68475906,
          502.4610221,
          399.2328806,
          448.9817258,
          490.6961331,
          336.526591,
          97.38586008,
          47.65548595,
          526.3891154,
          332.9041877,
          495.4021485,
          64.84844351,
          48.11914498,
          275.7632648,
          491.3856453,
          78.3438893,
          279.307639,
          538.8275567,
          494.7591586,
          49.41475019,
          306.7187383,
          42.53039003,
          484.0360979,
          423.4332539,
          325.9192466,
          146.0072818,
          46.0434322,
          85.48995146,
          42.53039003,
          306.7187383,
          511.6242276,
          543.5207684,
          146.0072818,
          83.10756803,
          350.5633061,
          146.0072818,
          499.2605869,
          313.7804664,
          45.5488036,
          451.2743332,
          407.3416462,
          344.610962,
          453.9848236,
          45.5488036,
          501.6188134,
          493.5511323,
          146.8898085,
          550.5393905,
          488.8215603,
          406.5964046,
          344.610962,
          391.2425079,
          331.1215724,
          453.520739,
          334.9049645,
          48.11914498,
          371.3638937,
          331.1215724,
          344.9709778,
          454.014432,
          460.0750038,
          501.6188134,
          493.5511323,
          46.8292161,
          82.43934616,
          434.4058531,
          468.0569901,
          477.0462539,
          427.8345012,
          344.610962,
          645.2388478,
          47.24235102,
          165.908124,
          501.6188134,
          376.7015714,
          434.4058531,
          468.0569901,
          477.0462539,
          42.53039003,
          376.0247804,
          453.9848236,
          164.9333489,
          435.3272791,
          443.4472114,
          477.0462539,
          469.4618643,
          48.11914498,
          71.14793283,
          644.4296138,
          414.8527244,
          434.4058531,
          49.41475019,
          477.0462539,
          275.7632648,
          84.30207696,
          298.285143,
          491.1891295,
          310.1901565,
          322.1695639,
          329.3326297,
          424.079955,
          295.9096289,
          530.70654,
          524.8205191,
          321.4848699,
          556.3046249,
          723.9928796,
          44.32917235,
          546.8985896,
          558.6716783,
          564.5815955,
          500.1082682,
          530.5801524,
          540.0656567,
          529.5434866,
          548.061542,
          545.7579066,
          550.3977498,
          307.7925605,
          546.8985896,
          516.5755036,
          396.6293907,
          544.6294437,
          278.1299548
         ],
         "xaxis": "x",
         "y": [
          556.4420844,
          535.5201038,
          336.3263274,
          169.9772221,
          512.4158879,
          284.3310772,
          336.326327,
          302.3054093,
          724.4692234,
          409.3426844,
          302.2689504,
          374.3030801,
          468.3896444,
          504.3381777,
          319.2844672,
          548.3644454,
          592.3905773,
          680.442933,
          272.258256,
          302.2689943,
          352.3060271,
          250.1775722,
          437.3740409,
          318.3004559,
          344.22805,
          352.3212022,
          114.0912917,
          330.26413,
          309.2272238,
          283.1750576,
          171.1490965,
          202.1801164,
          300.2017251,
          187.1263006,
          291.2165384,
          204.0865933,
          230.2113443,
          260.2220383,
          226.1799927,
          239.1487935,
          198.1277234,
          251.185138,
          127.9792303,
          288.2532801,
          258.2425514,
          228.1956633,
          172.9769853,
          202.2160509,
          291.2529448,
          230.2476963,
          246.2423197,
          122.0963726,
          262.2373737,
          218.2113694,
          234.2062301,
          274.2738413,
          290.2688792,
          118.0861958,
          127.0389,
          145.0494082,
          149.0596905,
          150.9509658,
          151.0963427,
          161.045611,
          162.0760163,
          163.0752615,
          163.1075047,
          164.0704763,
          174.1851818,
          180.9897429,
          183.1015407,
          186.2215953,
          194.1175475,
          195.1226707,
          197.1173117,
          207.1589825,
          210.0794321,
          224.1280275,
          225.1960492,
          226.0742559,
          230.2477217,
          232.1908394,
          244.2269579,
          244.2633511,
          245.1858218,
          254.1610018,
          255.1370692,
          256.2269768,
          261.1232088,
          264.2087049,
          264.9675794,
          269.1275919,
          270.192291,
          293.176064,
          294.1546771,
          304.1768289,
          304.2999225,
          309.1708496,
          310.0042779,
          324.1378008,
          324.1766942,
          325.1843658,
          325.2276343,
          350.1170603,
          357.1038692,
          360.1502568,
          362.192447,
          366.1872173,
          368.1275329,
          368.2796888,
          376.1756996,
          377.0857334,
          378.1873099,
          382.1432077,
          387.1143551,
          387.1803951,
          387.191714,
          396.1502929,
          407.2804105,
          410.1234747,
          410.1234882,
          412.2848154,
          414.1610902,
          414.3005057,
          414.3005388,
          421.0658654,
          423.358427,
          426.3217919,
          427.149926,
          427.149975,
          427.1499754,
          427.1500078,
          430.2953044,
          431.1448742,
          435.1467235,
          443.2852827,
          445.1605873,
          445.1606274,
          448.3063192,
          448.3070355,
          450.3217078,
          450.321716,
          454.1558521,
          456.2078301,
          462.2675067,
          464.2831294,
          464.2832124,
          464.3017467,
          467.1424186,
          468.3897279,
          472.1662696,
          472.1816266,
          472.3036317,
          479.1215558,
          480.2779997,
          482.2937212,
          482.293812,
          485.2454671,
          487.3116532,
          488.2984624,
          490.1921299,
          498.2890078,
          498.2896947,
          500.3044473,
          500.379666,
          506.1868998,
          506.1872124,
          512.4159473,
          514.2840064,
          516.2991314,
          522.2032852,
          522.2863718,
          529.2032023,
          540.2880107,
          555.276301,
          558.4214268,
          569.29212,
          569.2921489,
          569.2922088,
          573.2571134,
          622.2833345,
          642.4073971,
          642.4076538,
          645.2720444,
          654.408044,
          663.4536363,
          666.2458149,
          668.4227137,
          670.4390085,
          670.439071,
          674.4337921,
          674.5051917,
          678.4045992,
          678.4047349,
          678.4047763,
          687.4652693,
          692.4205687,
          695.3317132,
          710.3414161,
          710.4314179,
          768.4952499,
          769.4706385,
          909.4243519
         ],
         "yaxis": "y"
        }
       ],
       "layout": {
        "height": 800,
        "legend": {
         "tracegroupgap": 0
        },
        "shapes": [
         {
          "line": {
           "dash": "dash"
          },
          "type": "line",
          "x0": 114.0912917,
          "x1": 909.4243519,
          "y0": 114.0912917,
          "y1": 909.4243519
         }
        ],
        "template": {
         "data": {
          "bar": [
           {
            "error_x": {
             "color": "#2a3f5f"
            },
            "error_y": {
             "color": "#2a3f5f"
            },
            "marker": {
             "line": {
              "color": "#E5ECF6",
              "width": 0.5
             },
             "pattern": {
              "fillmode": "overlay",
              "size": 10,
              "solidity": 0.2
             }
            },
            "type": "bar"
           }
          ],
          "barpolar": [
           {
            "marker": {
             "line": {
              "color": "#E5ECF6",
              "width": 0.5
             },
             "pattern": {
              "fillmode": "overlay",
              "size": 10,
              "solidity": 0.2
             }
            },
            "type": "barpolar"
           }
          ],
          "carpet": [
           {
            "aaxis": {
             "endlinecolor": "#2a3f5f",
             "gridcolor": "white",
             "linecolor": "white",
             "minorgridcolor": "white",
             "startlinecolor": "#2a3f5f"
            },
            "baxis": {
             "endlinecolor": "#2a3f5f",
             "gridcolor": "white",
             "linecolor": "white",
             "minorgridcolor": "white",
             "startlinecolor": "#2a3f5f"
            },
            "type": "carpet"
           }
          ],
          "choropleth": [
           {
            "colorbar": {
             "outlinewidth": 0,
             "ticks": ""
            },
            "type": "choropleth"
           }
          ],
          "contour": [
           {
            "colorbar": {
             "outlinewidth": 0,
             "ticks": ""
            },
            "colorscale": [
             [
              0,
              "#0d0887"
             ],
             [
              0.1111111111111111,
              "#46039f"
             ],
             [
              0.2222222222222222,
              "#7201a8"
             ],
             [
              0.3333333333333333,
              "#9c179e"
             ],
             [
              0.4444444444444444,
              "#bd3786"
             ],
             [
              0.5555555555555556,
              "#d8576b"
             ],
             [
              0.6666666666666666,
              "#ed7953"
             ],
             [
              0.7777777777777778,
              "#fb9f3a"
             ],
             [
              0.8888888888888888,
              "#fdca26"
             ],
             [
              1,
              "#f0f921"
             ]
            ],
            "type": "contour"
           }
          ],
          "contourcarpet": [
           {
            "colorbar": {
             "outlinewidth": 0,
             "ticks": ""
            },
            "type": "contourcarpet"
           }
          ],
          "heatmap": [
           {
            "colorbar": {
             "outlinewidth": 0,
             "ticks": ""
            },
            "colorscale": [
             [
              0,
              "#0d0887"
             ],
             [
              0.1111111111111111,
              "#46039f"
             ],
             [
              0.2222222222222222,
              "#7201a8"
             ],
             [
              0.3333333333333333,
              "#9c179e"
             ],
             [
              0.4444444444444444,
              "#bd3786"
             ],
             [
              0.5555555555555556,
              "#d8576b"
             ],
             [
              0.6666666666666666,
              "#ed7953"
             ],
             [
              0.7777777777777778,
              "#fb9f3a"
             ],
             [
              0.8888888888888888,
              "#fdca26"
             ],
             [
              1,
              "#f0f921"
             ]
            ],
            "type": "heatmap"
           }
          ],
          "heatmapgl": [
           {
            "colorbar": {
             "outlinewidth": 0,
             "ticks": ""
            },
            "colorscale": [
             [
              0,
              "#0d0887"
             ],
             [
              0.1111111111111111,
              "#46039f"
             ],
             [
              0.2222222222222222,
              "#7201a8"
             ],
             [
              0.3333333333333333,
              "#9c179e"
             ],
             [
              0.4444444444444444,
              "#bd3786"
             ],
             [
              0.5555555555555556,
              "#d8576b"
             ],
             [
              0.6666666666666666,
              "#ed7953"
             ],
             [
              0.7777777777777778,
              "#fb9f3a"
             ],
             [
              0.8888888888888888,
              "#fdca26"
             ],
             [
              1,
              "#f0f921"
             ]
            ],
            "type": "heatmapgl"
           }
          ],
          "histogram": [
           {
            "marker": {
             "pattern": {
              "fillmode": "overlay",
              "size": 10,
              "solidity": 0.2
             }
            },
            "type": "histogram"
           }
          ],
          "histogram2d": [
           {
            "colorbar": {
             "outlinewidth": 0,
             "ticks": ""
            },
            "colorscale": [
             [
              0,
              "#0d0887"
             ],
             [
              0.1111111111111111,
              "#46039f"
             ],
             [
              0.2222222222222222,
              "#7201a8"
             ],
             [
              0.3333333333333333,
              "#9c179e"
             ],
             [
              0.4444444444444444,
              "#bd3786"
             ],
             [
              0.5555555555555556,
              "#d8576b"
             ],
             [
              0.6666666666666666,
              "#ed7953"
             ],
             [
              0.7777777777777778,
              "#fb9f3a"
             ],
             [
              0.8888888888888888,
              "#fdca26"
             ],
             [
              1,
              "#f0f921"
             ]
            ],
            "type": "histogram2d"
           }
          ],
          "histogram2dcontour": [
           {
            "colorbar": {
             "outlinewidth": 0,
             "ticks": ""
            },
            "colorscale": [
             [
              0,
              "#0d0887"
             ],
             [
              0.1111111111111111,
              "#46039f"
             ],
             [
              0.2222222222222222,
              "#7201a8"
             ],
             [
              0.3333333333333333,
              "#9c179e"
             ],
             [
              0.4444444444444444,
              "#bd3786"
             ],
             [
              0.5555555555555556,
              "#d8576b"
             ],
             [
              0.6666666666666666,
              "#ed7953"
             ],
             [
              0.7777777777777778,
              "#fb9f3a"
             ],
             [
              0.8888888888888888,
              "#fdca26"
             ],
             [
              1,
              "#f0f921"
             ]
            ],
            "type": "histogram2dcontour"
           }
          ],
          "mesh3d": [
           {
            "colorbar": {
             "outlinewidth": 0,
             "ticks": ""
            },
            "type": "mesh3d"
           }
          ],
          "parcoords": [
           {
            "line": {
             "colorbar": {
              "outlinewidth": 0,
              "ticks": ""
             }
            },
            "type": "parcoords"
           }
          ],
          "pie": [
           {
            "automargin": true,
            "type": "pie"
           }
          ],
          "scatter": [
           {
            "marker": {
             "colorbar": {
              "outlinewidth": 0,
              "ticks": ""
             }
            },
            "type": "scatter"
           }
          ],
          "scatter3d": [
           {
            "line": {
             "colorbar": {
              "outlinewidth": 0,
              "ticks": ""
             }
            },
            "marker": {
             "colorbar": {
              "outlinewidth": 0,
              "ticks": ""
             }
            },
            "type": "scatter3d"
           }
          ],
          "scattercarpet": [
           {
            "marker": {
             "colorbar": {
              "outlinewidth": 0,
              "ticks": ""
             }
            },
            "type": "scattercarpet"
           }
          ],
          "scattergeo": [
           {
            "marker": {
             "colorbar": {
              "outlinewidth": 0,
              "ticks": ""
             }
            },
            "type": "scattergeo"
           }
          ],
          "scattergl": [
           {
            "marker": {
             "colorbar": {
              "outlinewidth": 0,
              "ticks": ""
             }
            },
            "type": "scattergl"
           }
          ],
          "scattermapbox": [
           {
            "marker": {
             "colorbar": {
              "outlinewidth": 0,
              "ticks": ""
             }
            },
            "type": "scattermapbox"
           }
          ],
          "scatterpolar": [
           {
            "marker": {
             "colorbar": {
              "outlinewidth": 0,
              "ticks": ""
             }
            },
            "type": "scatterpolar"
           }
          ],
          "scatterpolargl": [
           {
            "marker": {
             "colorbar": {
              "outlinewidth": 0,
              "ticks": ""
             }
            },
            "type": "scatterpolargl"
           }
          ],
          "scatterternary": [
           {
            "marker": {
             "colorbar": {
              "outlinewidth": 0,
              "ticks": ""
             }
            },
            "type": "scatterternary"
           }
          ],
          "surface": [
           {
            "colorbar": {
             "outlinewidth": 0,
             "ticks": ""
            },
            "colorscale": [
             [
              0,
              "#0d0887"
             ],
             [
              0.1111111111111111,
              "#46039f"
             ],
             [
              0.2222222222222222,
              "#7201a8"
             ],
             [
              0.3333333333333333,
              "#9c179e"
             ],
             [
              0.4444444444444444,
              "#bd3786"
             ],
             [
              0.5555555555555556,
              "#d8576b"
             ],
             [
              0.6666666666666666,
              "#ed7953"
             ],
             [
              0.7777777777777778,
              "#fb9f3a"
             ],
             [
              0.8888888888888888,
              "#fdca26"
             ],
             [
              1,
              "#f0f921"
             ]
            ],
            "type": "surface"
           }
          ],
          "table": [
           {
            "cells": {
             "fill": {
              "color": "#EBF0F8"
             },
             "line": {
              "color": "white"
             }
            },
            "header": {
             "fill": {
              "color": "#C8D4E3"
             },
             "line": {
              "color": "white"
             }
            },
            "type": "table"
           }
          ]
         },
         "layout": {
          "annotationdefaults": {
           "arrowcolor": "#2a3f5f",
           "arrowhead": 0,
           "arrowwidth": 1
          },
          "autotypenumbers": "strict",
          "coloraxis": {
           "colorbar": {
            "outlinewidth": 0,
            "ticks": ""
           }
          },
          "colorscale": {
           "diverging": [
            [
             0,
             "#8e0152"
            ],
            [
             0.1,
             "#c51b7d"
            ],
            [
             0.2,
             "#de77ae"
            ],
            [
             0.3,
             "#f1b6da"
            ],
            [
             0.4,
             "#fde0ef"
            ],
            [
             0.5,
             "#f7f7f7"
            ],
            [
             0.6,
             "#e6f5d0"
            ],
            [
             0.7,
             "#b8e186"
            ],
            [
             0.8,
             "#7fbc41"
            ],
            [
             0.9,
             "#4d9221"
            ],
            [
             1,
             "#276419"
            ]
           ],
           "sequential": [
            [
             0,
             "#0d0887"
            ],
            [
             0.1111111111111111,
             "#46039f"
            ],
            [
             0.2222222222222222,
             "#7201a8"
            ],
            [
             0.3333333333333333,
             "#9c179e"
            ],
            [
             0.4444444444444444,
             "#bd3786"
            ],
            [
             0.5555555555555556,
             "#d8576b"
            ],
            [
             0.6666666666666666,
             "#ed7953"
            ],
            [
             0.7777777777777778,
             "#fb9f3a"
            ],
            [
             0.8888888888888888,
             "#fdca26"
            ],
            [
             1,
             "#f0f921"
            ]
           ],
           "sequentialminus": [
            [
             0,
             "#0d0887"
            ],
            [
             0.1111111111111111,
             "#46039f"
            ],
            [
             0.2222222222222222,
             "#7201a8"
            ],
            [
             0.3333333333333333,
             "#9c179e"
            ],
            [
             0.4444444444444444,
             "#bd3786"
            ],
            [
             0.5555555555555556,
             "#d8576b"
            ],
            [
             0.6666666666666666,
             "#ed7953"
            ],
            [
             0.7777777777777778,
             "#fb9f3a"
            ],
            [
             0.8888888888888888,
             "#fdca26"
            ],
            [
             1,
             "#f0f921"
            ]
           ]
          },
          "colorway": [
           "#636efa",
           "#EF553B",
           "#00cc96",
           "#ab63fa",
           "#FFA15A",
           "#19d3f3",
           "#FF6692",
           "#B6E880",
           "#FF97FF",
           "#FECB52"
          ],
          "font": {
           "color": "#2a3f5f"
          },
          "geo": {
           "bgcolor": "white",
           "lakecolor": "white",
           "landcolor": "#E5ECF6",
           "showlakes": true,
           "showland": true,
           "subunitcolor": "white"
          },
          "hoverlabel": {
           "align": "left"
          },
          "hovermode": "closest",
          "mapbox": {
           "style": "light"
          },
          "paper_bgcolor": "white",
          "plot_bgcolor": "#E5ECF6",
          "polar": {
           "angularaxis": {
            "gridcolor": "white",
            "linecolor": "white",
            "ticks": ""
           },
           "bgcolor": "#E5ECF6",
           "radialaxis": {
            "gridcolor": "white",
            "linecolor": "white",
            "ticks": ""
           }
          },
          "scene": {
           "xaxis": {
            "backgroundcolor": "#E5ECF6",
            "gridcolor": "white",
            "gridwidth": 2,
            "linecolor": "white",
            "showbackground": true,
            "ticks": "",
            "zerolinecolor": "white"
           },
           "yaxis": {
            "backgroundcolor": "#E5ECF6",
            "gridcolor": "white",
            "gridwidth": 2,
            "linecolor": "white",
            "showbackground": true,
            "ticks": "",
            "zerolinecolor": "white"
           },
           "zaxis": {
            "backgroundcolor": "#E5ECF6",
            "gridcolor": "white",
            "gridwidth": 2,
            "linecolor": "white",
            "showbackground": true,
            "ticks": "",
            "zerolinecolor": "white"
           }
          },
          "shapedefaults": {
           "line": {
            "color": "#2a3f5f"
           }
          },
          "ternary": {
           "aaxis": {
            "gridcolor": "white",
            "linecolor": "white",
            "ticks": ""
           },
           "baxis": {
            "gridcolor": "white",
            "linecolor": "white",
            "ticks": ""
           },
           "bgcolor": "#E5ECF6",
           "caxis": {
            "gridcolor": "white",
            "linecolor": "white",
            "ticks": ""
           }
          },
          "title": {
           "x": 0.05
          },
          "xaxis": {
           "automargin": true,
           "gridcolor": "white",
           "linecolor": "white",
           "ticks": "",
           "title": {
            "standoff": 15
           },
           "zerolinecolor": "white",
           "zerolinewidth": 2
          },
          "yaxis": {
           "automargin": true,
           "gridcolor": "white",
           "linecolor": "white",
           "ticks": "",
           "title": {
            "standoff": 15
           },
           "zerolinecolor": "white",
           "zerolinewidth": 2
          }
         }
        },
        "title": {
         "text": "Scatter matrix"
        },
        "width": 1200,
        "xaxis": {
         "anchor": "y",
         "domain": [
          0,
          1
         ],
         "title": {
          "text": "RT"
         }
        },
        "yaxis": {
         "anchor": "x",
         "domain": [
          0,
          1
         ],
         "title": {
          "text": "mz"
         }
        }
       }
      }
     },
     "metadata": {},
     "output_type": "display_data"
    }
   ],
   "source": [
    "fig_scatter = px.scatter(DF_treat,\n",
    "                         x=\"RT\",\n",
    "                         y=\"mz\",\n",
    "                         title='Scatter matrix',\n",
    "                         width=1200,\n",
    "                         height=800)\n",
    "\n",
    "# This adds a dashed line for what a perfect model _should_ predict\n",
    "y = DF_treat[\"mz\"].values\n",
    "fig_scatter.add_shape(\n",
    "    type=\"line\", line=dict(dash='dash'),\n",
    "    x0=y.min(), y0=y.min(),\n",
    "    x1=y.max(), y1=y.max()\n",
    ")\n",
    "\n",
    "fig_scatter.show()"
   ]
  },
  {
   "cell_type": "code",
   "execution_count": 10,
   "metadata": {},
   "outputs": [
    {
     "data": {
      "text/html": [
       "\n",
       "        <iframe\n",
       "            width=\"100%\"\n",
       "            height=\"1000\"\n",
       "            src=\"http://127.0.0.1:8002/\"\n",
       "            frameborder=\"0\"\n",
       "            allowfullscreen\n",
       "            \n",
       "        ></iframe>\n",
       "        "
      ],
      "text/plain": [
       "<IPython.lib.display.IFrame at 0x7fd4f01c1190>"
      ]
     },
     "metadata": {},
     "output_type": "display_data"
    }
   ],
   "source": [
    "fig_scatter.update_layout(\n",
    "    title='Scatter matrix (with add_molecules & extra captions)')\n",
    "\n",
    "app_scatter_with_captions = molplotly.add_molecules(fig=fig_scatter,\n",
    "                                                    df=DF,\n",
    "                                                    smiles_col='smiles',\n",
    "                                                    title_col='CSI_predictions_name',\n",
    "                                                    show_coords=True)\n",
    "\n",
    "app_scatter_with_captions.run_server(mode='inline', port=8002, height=1000)"
   ]
  },
  {
   "cell_type": "code",
   "execution_count": 11,
   "metadata": {},
   "outputs": [],
   "source": [
    "import numpy as np\n",
    "from rdkit import Chem\n",
    "from rdkit.Chem import AllChem, DataStructs\n",
    "from sklearn.decomposition import PCA\n",
    "\n",
    "\n",
    "def smi_to_fp(smi):\n",
    "    fp = AllChem.GetMorganFingerprintAsBitVect(\n",
    "        Chem.MolFromSmiles(smi), 2, nBits=1024)\n",
    "    arr = np.zeros((0,), dtype=np.int8)\n",
    "    DataStructs.ConvertToNumpyArray(fp, arr)\n",
    "    return arr\n",
    "\n",
    "esol_fps = np.array([smi_to_fp(smi) for smi in DF_treat['smiles']])\n",
    "pca = PCA(n_components=2)\n",
    "components = pca.fit_transform(esol_fps.reshape(-1, 1024))\n",
    "DF_treat['PCA-1'] = components[:, 0]\n",
    "DF_treat['PCA-2'] = components[:, 1]"
   ]
  },
  {
   "cell_type": "code",
   "execution_count": 12,
   "metadata": {},
   "outputs": [],
   "source": [
    "import numpy as np\n",
    "from rdkit import Chem\n",
    "from rdkit.Chem import AllChem, DataStructs\n",
    "from sklearn.decomposition import PCA\n",
    "\n",
    "\n",
    "def smi_to_fp(smi):\n",
    "    fp = AllChem.GetMorganFingerprintAsBitVect(\n",
    "        Chem.MolFromSmiles(smi), 2, nBits=1024)\n",
    "    arr = np.zeros((0,), dtype=np.int8)\n",
    "    DataStructs.ConvertToNumpyArray(fp, arr)\n",
    "    return arr\n",
    "\n",
    "esol_fps = np.array([smi_to_fp(smi) for smi in DF_treat['smiles']])\n",
    "pca = PCA(n_components=2)\n",
    "components = pca.fit_transform(esol_fps.reshape(-1, 1024))\n",
    "DF_treat['PCA-1'] = components[:, 0]\n",
    "DF_treat['PCA-2'] = components[:, 1]"
   ]
  },
  {
   "cell_type": "code",
   "execution_count": 13,
   "metadata": {},
   "outputs": [
    {
     "data": {
      "text/html": [
       "\n",
       "        <iframe\n",
       "            width=\"100%\"\n",
       "            height=\"850\"\n",
       "            src=\"http://127.0.0.1:8006/\"\n",
       "            frameborder=\"0\"\n",
       "            allowfullscreen\n",
       "            \n",
       "        ></iframe>\n",
       "        "
      ],
      "text/plain": [
       "<IPython.lib.display.IFrame at 0x7fd4f0b3a490>"
      ]
     },
     "metadata": {},
     "output_type": "display_data"
    },
    {
     "name": "stdout",
     "output_type": "stream",
     "text": [
      "\u001b[1;31m---------------------------------------------------------------------------\u001b[0m\n",
      "\u001b[1;31mTypeError\u001b[0m                                 Traceback (most recent call last)\n",
      "\u001b[1;31mTypeError\u001b[0m: object of type 'int' has no len()\n",
      "\n",
      "\u001b[1;31m---------------------------------------------------------------------------\u001b[0m\n",
      "\u001b[1;31mTypeError\u001b[0m                                 Traceback (most recent call last)\n",
      "\u001b[1;31mTypeError\u001b[0m: object of type 'int' has no len()\n",
      "\n",
      "\u001b[1;31m---------------------------------------------------------------------------\u001b[0m\n",
      "\u001b[1;31mTypeError\u001b[0m                                 Traceback (most recent call last)\n",
      "\u001b[1;31mTypeError\u001b[0m: object of type 'int' has no len()\n",
      "\n",
      "\u001b[1;31m---------------------------------------------------------------------------\u001b[0m\n",
      "\u001b[1;31mTypeError\u001b[0m                                 Traceback (most recent call last)\n",
      "\u001b[1;31mTypeError\u001b[0m: object of type 'int' has no len()\n",
      "\n",
      "\u001b[1;31m---------------------------------------------------------------------------\u001b[0m\n",
      "\u001b[1;31mTypeError\u001b[0m                                 Traceback (most recent call last)\n",
      "\u001b[1;31mTypeError\u001b[0m: object of type 'int' has no len()\n",
      "\n",
      "\u001b[1;31m---------------------------------------------------------------------------\u001b[0m\n",
      "\u001b[1;31mTypeError\u001b[0m                                 Traceback (most recent call last)\n",
      "\u001b[1;31mTypeError\u001b[0m: object of type 'int' has no len()\n",
      "\n",
      "\u001b[1;31m---------------------------------------------------------------------------\u001b[0m\n",
      "\u001b[1;31mTypeError\u001b[0m                                 Traceback (most recent call last)\n",
      "\u001b[1;31mTypeError\u001b[0m: object of type 'int' has no len()\n",
      "\n"
     ]
    }
   ],
   "source": [
    "fig_pca = px.scatter(DF_treat,\n",
    "                     x=\"PCA-1\",\n",
    "                     y=\"PCA-2\",\n",
    "                     color=\"mz\",\n",
    "                     title='PCA w smiles',\n",
    "                     width=1200,\n",
    "                     height=800)\n",
    "\n",
    "app_pca = molplotly.add_molecules(fig=fig_pca,\n",
    "                                  df=DF_treat,\n",
    "                                  smiles_col='smiles',\n",
    "                                  title_col='CSI_predictions_name',\n",
    "                                  show_coords=False)\n",
    "\n",
    "app_pca.run_server(mode='inline', port=8006, height=850)"
   ]
  }
 ],
 "metadata": {
  "interpreter": {
   "hash": "ff00142a494697bfa4a6d935e0ccc545e6e4f42115c602c4a252744c6cc4eb45"
  },
  "kernelspec": {
   "display_name": "Python 3.7.13 ('plots')",
   "language": "python",
   "name": "python3"
  },
  "language_info": {
   "codemirror_mode": {
    "name": "ipython",
    "version": 3
   },
   "file_extension": ".py",
   "mimetype": "text/x-python",
   "name": "python",
   "nbconvert_exporter": "python",
   "pygments_lexer": "ipython3",
   "version": "3.7.13"
  },
  "orig_nbformat": 4
 },
 "nbformat": 4,
 "nbformat_minor": 2
}
