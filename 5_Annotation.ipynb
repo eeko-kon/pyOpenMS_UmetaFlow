{
 "cells": [
  {
   "cell_type": "code",
   "execution_count": null,
   "metadata": {},
   "outputs": [],
   "source": [
    "import numpy as np\n",
    "import pandas as pd\n",
    "import glob\n",
    "import os"
   ]
  },
  {
   "cell_type": "markdown",
   "metadata": {},
   "source": [
    "#### `1) GNPS annotations`\n",
    "\n",
    "This step requires an independent job at GNPS Spectral Library Search (input: raw mzML files)\n",
    "See documentation: https://ccms-ucsd.github.io/GNPSDocumentation/librarysearch/ \n",
    "\n",
    "When the job is finished, import all identifications from GNPS, save the .TSV table under the resources directory and \"clean up\" the table:"
   ]
  },
  {
   "cell_type": "code",
   "execution_count": null,
   "metadata": {},
   "outputs": [],
   "source": [
    "df= pd.read_csv(os.path.join(\"resources\", \"MS2_LIBRARYSEARCH_all_identifications.tsv\"), sep=\"\\t\", encoding=\"latin-1\")\n",
    "df.drop(df.index[df[\"IonMode\"] == \"negative\"], inplace=True)\n",
    "df.drop(df.index[df[\"MZErrorPPM\"] > 20.0], inplace=True)\n",
    "GNPS=df.filter([\"Compound_Name\", \"RT_Query\", \"Precursor_MZ\"])\n",
    "GNPS=GNPS.rename(columns= {\"RT_Query\": \"RetentionTime\"})\n",
    "GNPS=GNPS.drop_duplicates(subset=\"Compound_Name\", keep=\"first\")\n",
    "GNPS"
   ]
  },
  {
   "cell_type": "code",
   "execution_count": null,
   "metadata": {},
   "outputs": [],
   "source": [
    "FeatureMatrix= pd.read_csv(os.path.join(\"results\", \"features\", \"FeatureMatrix.tsv\"), sep=\"\\t\")\n",
    "FeatureMatrix"
   ]
  },
  {
   "cell_type": "markdown",
   "metadata": {},
   "source": [
    "Annotate the features detected by GNPS according to mz and RT (mz tolerance 10 ppm and RT tolerance 20 seconds: instrument and method-dependent)"
   ]
  },
  {
   "cell_type": "code",
   "execution_count": null,
   "metadata": {},
   "outputs": [],
   "source": [
    "FeatureMatrix.insert(0, \"GNPS_IDs\", \"\")\n",
    "\n",
    "for i, mz, rt in zip(FeatureMatrix.index, FeatureMatrix[\"mz\"], FeatureMatrix[\"RT\"]):\n",
    "    hits = []\n",
    "    for name, GNPS_mz, GNPS_rt, in zip(GNPS[\"Compound_Name\"], GNPS[\"Precursor_MZ\"], GNPS[\"RetentionTime\"]):\n",
    "        mass_delta = (abs(GNPS_mz-mz)/GNPS_mz)*1000000.0 if GNPS_mz != 0 else np.nan\n",
    "        if (GNPS_rt >= rt-20.0) & (GNPS_rt <= rt+20.0) & (mass_delta<= 10.0):\n",
    "            hit = f\"{name}\"\n",
    "            if hit not in hits:\n",
    "                hits.append(hit)\n",
    "    FeatureMatrix[\"GNPS_IDs\"][i] = \" ## \".join(hits)\n",
    "\n",
    "FeatureMatrix.to_csv(os.path.join(\"results\", \"annotations\", \"GNPS_annotated_feature_matrix.tsv\"), sep=\"\\t\", index = False)\n",
    "FeatureMatrix"
   ]
  },
  {
   "cell_type": "markdown",
   "metadata": {},
   "source": [
    "Keep the unannotated features only"
   ]
  },
  {
   "cell_type": "code",
   "execution_count": null,
   "metadata": {},
   "outputs": [],
   "source": [
    "FeatureMatrix= FeatureMatrix[FeatureMatrix.GNPS_IDs == \"\"]\n",
    "FeatureMatrix= FeatureMatrix.drop(columns= \"GNPS_IDs\")\n",
    "FeatureMatrix= FeatureMatrix.set_index([\"RT\", \"mz\"])\n",
    "FeatureMatrix_tocsv= FeatureMatrix.reset_index()\n",
    "FeatureMatrix_tocsv.to_csv(os.path.join(\"results\", \"annotations\", \"FeatureMatrix_unknowns.tsv\"), sep=\"\\t\", index =None)\n",
    "FeatureMatrix"
   ]
  },
  {
   "cell_type": "markdown",
   "metadata": {},
   "source": [
    "#### `2) SIRIUS and CSI:FingerID annotations`\n",
    "\n",
    "Create a matrix with all SIRIUS and CSI:FingerID formula and structural predictions, only choose #1 rankings predictions and combine the dataframes to annotate formula and structural predictions according to RT and mz:"
   ]
  },
  {
   "cell_type": "code",
   "execution_count": 1,
   "metadata": {},
   "outputs": [],
   "source": [
    "input_formulas = glob.glob(os.path.join(\"results\", \"formulas\", \"formulas_*.csv\"))\n",
    "input_structures = glob.glob(os.path.join(\"results\", \"formulas\", \"structures_*.csv\"))"
   ]
  },
  {
   "cell_type": "markdown",
   "metadata": {},
   "source": [
    "df_formulas will likely contain duplicate formulas that could be either isomeric, isobaric compounds, or identical compounds (with identical RT and mz). Here, we want to collapse the identical, repeating compounds"
   ]
  },
  {
   "cell_type": "code",
   "execution_count": null,
   "metadata": {},
   "outputs": [],
   "source": [
    "DF_SIRIUS = pd.DataFrame()\n",
    "list_of_df=[]\n",
    "for csv in input_formulas:\n",
    "    df= pd.read_csv(csv, sep=\",\", index_col=\"Unnamed: 0\")\n",
    "    s= df[\"opt_global_rank\"]\n",
    "    pd.to_numeric(s)\n",
    "    df= df.loc[df[\"opt_global_rank\"]==1]\n",
    "    df_score=df.filter(regex=fr\"Score\")\n",
    "    df_opt=df.filter(regex=fr\"opt\")\n",
    "    cols_score= df_score.columns\n",
    "    cols_opt= df_opt.columns\n",
    "    df= df.drop(columns=cols_score)\n",
    "    df= df.drop(columns= cols_opt)\n",
    "    df=df.reset_index()\n",
    "    list_of_df.append(df)\n",
    "\n",
    "DF_SIRIUS= pd.concat(list_of_df,ignore_index=True)\n",
    "DF_SIRIUS= DF_SIRIUS.drop(columns=\"index\")\n",
    "df_formulas= DF_SIRIUS.rename(columns= {\"chemical_formula\": \"formulas\", \"exp_mass_to_charge\": \"mz\", \"retention_time\": \"RT\"})\n",
    "df_formulas = df_formulas.set_index(\"formulas\")\n",
    "df_singletons=df_formulas.reset_index().drop_duplicates(subset=\"formulas\", keep=False)\n",
    "\n",
    "df_singletons= df_singletons.set_index(\"formulas\")\n",
    "idx= df_singletons.index\n",
    "df_sirius= df_formulas.drop(idx)\n",
    "new_df= pd.DataFrame()\n",
    "df= pd.DataFrame()\n",
    "idx= df_sirius.index\n",
    "for i, index in enumerate(idx):\n",
    "    new_index= new_df.index\n",
    "    if index not in new_index:\n",
    "        s= df_sirius.iloc[i]\n",
    "        new_df= new_df.append(s)\n",
    "    else:\n",
    "        mz_0= df_sirius[\"mz\"][i]\n",
    "        mz_1= new_df[\"mz\"][index]\n",
    "        time_0= df_sirius[\"RT\"][i]\n",
    "        time_1= new_df[\"RT\"][index]\n",
    "        mass_delta = (abs(mz_0 - mz_1)/mz_0)*1000000\n",
    "        maxdeltaRT = time_0 + 30.0\n",
    "        mindeltaRT = time_0 - 30.0\n",
    "        if (mindeltaRT<= time_1 <= maxdeltaRT) & (mass_delta<= 20.0):\n",
    "            pass\n",
    "        else:\n",
    "            m= df_sirius.iloc[i]\n",
    "            df= df.append(m)\n",
    "\n",
    "DF_SIRIUS= pd.concat([new_df, df], axis=0)\n",
    "DF_SIRIUS_final= pd.concat([DF_SIRIUS, df_singletons], axis=0)\n",
    "DF_SIRIUS_final= DF_SIRIUS_final.reset_index()\n",
    "DF_SIRIUS_final= DF_SIRIUS_final.rename(columns={\"index\":\"formulas\"})\n",
    "DF_SIRIUS_final.to_csv(os.path.join(\"results\", \"annotations\", \"SIRIUS_library.csv\"), sep=\"\\t\", index=None)\n",
    "DF_SIRIUS_final"
   ]
  },
  {
   "cell_type": "markdown",
   "metadata": {},
   "source": [
    "Repeat for structral predictions (remove duplicates with the same inchi_keys, which means they represent the same structure):"
   ]
  },
  {
   "cell_type": "code",
   "execution_count": null,
   "metadata": {},
   "outputs": [],
   "source": [
    "DF_CSI= []\n",
    "for i, formulas in enumerate(input_structures):\n",
    "    df= pd.read_csv(formulas, index_col=\"Unnamed: 0\")\n",
    "    df= df.loc[df[\"opt_global_rank\"]==1]\n",
    "    df_score=df.filter(regex=fr\"best_search_engine_score\")\n",
    "    df_opt=df.filter(regex=fr\"opt\")\n",
    "    cols_score= df_score.columns\n",
    "    cols_opt= df_opt.columns\n",
    "    df= df.drop(columns=cols_score)\n",
    "    df= df.drop(columns= cols_opt)\n",
    "    df= df.drop(columns= \"identifier\")\n",
    "    df=df.reset_index()\n",
    "    df= df.drop(columns=\"index\")\n",
    "    DF_CSI.append(df)\n",
    "\n",
    "\n",
    "df_structures= pd.concat(DF_CSI, axis=0).sort_values(\"chemical_formula\")\n",
    "df_structures = df_structures.drop_duplicates(subset=[\"inchi_key\"], keep=\"first\")\n",
    "df_structures= df_structures.drop(columns=[\"inchi_key\"]) #leave smiles for visualisationdf_structures= df_structures.rename(columns={\"chemical_formula\": \"formulas\", \"exp_mass_to_charge\": \"mz\", \"retention_time\": \"RT\"})\n",
    "df_structures= df_structures.rename(columns={\"chemical_formula\":\"formulas\"})\n",
    "df_structures= df_structures.set_index(\"formulas\")\n",
    "df_singletons=df_structures.reset_index().drop_duplicates(subset=\"formulas\", keep=False)\n",
    "df_singletons= df_singletons.set_index(\"formulas\")\n",
    "idx= df_singletons.index\n",
    "df_CSI= df_structures.drop(labels=idx, axis=0)\n",
    "new_df= pd.DataFrame()\n",
    "df= pd.DataFrame()\n",
    "idx= df_CSI.index\n",
    "for i, index in enumerate(idx):\n",
    "    new_index= new_df.index\n",
    "    if index not in new_index:\n",
    "        s= df_CSI.iloc[i]\n",
    "        new_df= new_df.append(s)\n",
    "    else:\n",
    "        #print(index)\n",
    "        mz_0= df_CSI[\"exp_mass_to_charge\"][i]\n",
    "        mz_1= new_df[\"exp_mass_to_charge\"][index]\n",
    "        time_0= df_CSI[\"retention_time\"][i]\n",
    "        time_1= new_df[\"retention_time\"][index]\n",
    "        #(print(mz_0, time_0, mz_1, time_1))\n",
    "        mass_delta = (abs(mz_0 - mz_1)/mz_0)*1000000\n",
    "        maxdeltaRT = time_0 + 30.0\n",
    "        mindeltaRT = time_0 - 30.0\n",
    "        if (mindeltaRT<= time_1 <= maxdeltaRT) & (mass_delta<= 20.0):\n",
    "            pass\n",
    "        else:\n",
    "            m= df_CSI.iloc[i]\n",
    "            df= df.append(m)\n",
    "\n",
    "\n",
    "DF_CSI= pd.concat([new_df, df], axis=0)\n",
    "DF_CSI_final= pd.concat([DF_CSI, df_singletons], axis=0)\n",
    "DF_CSI_final= DF_CSI_final.reset_index()\n",
    "DF_CSI_final= DF_CSI_final.rename(columns={\"index\":\"formulas\"})\n",
    "DF_CSI_final.to_csv(os.path.join(\"results\", \"annotations\", \"CSI_library.csv\"), sep=\"\\t\", index= None)\n",
    "DF_CSI_final"
   ]
  },
  {
   "cell_type": "markdown",
   "metadata": {},
   "source": [
    "Annotate the formulas and structural predictions to the feature matrix according to SIRIUS and CSI (you can also only choose the feature matrix with unknown features generated above):"
   ]
  },
  {
   "cell_type": "code",
   "execution_count": null,
   "metadata": {},
   "outputs": [],
   "source": [
    "DF_features= pd.read_csv(os.path.join(\"results\", \"features\", \"FeatureMatrix.tsv\"), sep=\"\\t\")\n",
    "DF_features"
   ]
  },
  {
   "cell_type": "code",
   "execution_count": null,
   "metadata": {},
   "outputs": [],
   "source": [
    "DF_features.insert(0, \"CSI_predictions_name\", \"\")\n",
    "DF_features.insert(0, \"CSI_predictions_formula\", \"\")\n",
    "DF_features.insert(0, \"CSI_predictions_smiles\", \"\")\n",
    "\n",
    "\n",
    "for i, mz, rt in zip(DF_features.index, DF_features[\"mz\"], DF_features[\"RT\"]):\n",
    "    hits1 = []\n",
    "    hits2= []\n",
    "    hits3=[]\n",
    "    for name, smiles, formula, Pred_mz, Pred_rt, in zip(DF_CSI_final[\"description\"], DF_CSI_final[\"smiles\"], DF_CSI_final[\"formulas\"], DF_CSI_final[\"exp_mass_to_charge\"], DF_CSI_final[\"retention_time\"]):\n",
    "        mass_delta = (abs(Pred_mz-mz)/Pred_mz)*1000000.0 if Pred_mz != 0 else 0\n",
    "        if (Pred_rt >= rt-30.0) & (Pred_rt <= rt+30.0) & (mass_delta<= 20.0):\n",
    "            hit1 = f\"{name}\"\n",
    "            hit2 = f\"{formula}\"\n",
    "            hit3= f\"{smiles}\"\n",
    "            if hit1 not in hits1:\n",
    "                hits1.append(hit1)\n",
    "                hits2.append(hit2)\n",
    "                hits3.append(hit3)\n",
    "    DF_features[\"CSI_predictions_name\"][i] = \" ## \".join(hits1)\n",
    "    DF_features[\"CSI_predictions_formula\"][i] = \" ## \".join(hits2)\n",
    "    DF_features[\"CSI_predictions_smiles\"][i] = \" ## \".join(hits3)\n",
    "DF_features"
   ]
  },
  {
   "cell_type": "code",
   "execution_count": null,
   "metadata": {},
   "outputs": [],
   "source": [
    "DF_features.insert(0, \"SIRIUS_predictions\", \"\")\n",
    "\n",
    "for i, mz, rt in zip(DF_features.index, DF_features[\"mz\"], DF_features[\"RT\"]):\n",
    "    hits = []\n",
    "    for name, Pred_mz, Pred_rt, in zip(DF_SIRIUS_final[\"formulas\"], DF_SIRIUS_final[\"mz\"], DF_SIRIUS_final[\"RT\"]):\n",
    "        mass_delta = (abs(Pred_mz-mz)/Pred_mz)*1000000.0 if Pred_mz != 0 else 0\n",
    "        if (Pred_rt >= rt-30.0) & (Pred_rt <= rt+30.0) & (mass_delta<= 20.0):\n",
    "            hit = f\"{name}\"\n",
    "            if hit not in hits:\n",
    "                hits.append(hit)\n",
    "    DF_features[\"SIRIUS_predictions\"][i] = \" ## \".join(hits)\n",
    "DF_features"
   ]
  },
  {
   "cell_type": "code",
   "execution_count": null,
   "metadata": {},
   "outputs": [],
   "source": [
    "DF_features.to_csv(os.path.join(\"results\", \"annotations\", \"FeatureMatrix_SIRIUS_CSI.csv\"), sep=\"\\t\", index= None)"
   ]
  }
 ],
 "metadata": {
  "interpreter": {
   "hash": "edde62aa2661007f0756e9790e7a328c288a583bf6ce768a355147dac67c8db8"
  },
  "kernelspec": {
   "display_name": "Python 3.8.12 ('pyopenms')",
   "language": "python",
   "name": "python3"
  },
  "language_info": {
   "codemirror_mode": {
    "name": "ipython",
    "version": 3
   },
   "file_extension": ".py",
   "mimetype": "text/x-python",
   "name": "python",
   "nbconvert_exporter": "python",
   "pygments_lexer": "ipython3",
   "version": "3.8.12"
  },
  "orig_nbformat": 4
 },
 "nbformat": 4,
 "nbformat_minor": 2
}
