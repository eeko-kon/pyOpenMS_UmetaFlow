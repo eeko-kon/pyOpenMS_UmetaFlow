{
 "cells": [
  {
   "cell_type": "markdown",
   "id": "e2c6dd9e",
   "metadata": {},
   "source": [
    "## LOOP THROUGH DIRECTORY and run pyOpenMS workflow"
   ]
  },
  {
   "cell_type": "code",
   "execution_count": 24,
   "id": "9a827f1d",
   "metadata": {},
   "outputs": [],
   "source": [
    "from pyopenms import *\n",
    "\n",
    "def pyopenms_WF(filename):\n",
    "    exp = MSExperiment()\n",
    "    MzMLFile().load(filename, exp)\n",
    "    exp.sortSpectra(True)\n",
    "    \n",
    "    mass_traces = []\n",
    "    mtd = MassTraceDetection()\n",
    "    mtd_par = mtd.getDefaults()\n",
    "    mtd_par.setValue(\"mass_error_ppm\", 10.0) \n",
    "    mtd_par.setValue(\"noise_threshold_int\", 1.0e04)\n",
    "    mtd.setParameters(mtd_par)\n",
    "    mtd.run(exp, mass_traces, 0)\n",
    "    \n",
    "    mass_traces_split = []\n",
    "    mass_traces_final = []\n",
    "    epd = ElutionPeakDetection()\n",
    "    epd_par = epd.getDefaults()\n",
    "    epd_par.setValue(\"width_filtering\", \"fixed\")\n",
    "    epd.setParameters(epd_par)\n",
    "    epd.detectPeaks(mass_traces, mass_traces_split)\n",
    "    \n",
    "    if (epd.getParameters().getValue(\"width_filtering\") == \"auto\"):\n",
    "        epd.filterByPeakWidth(mass_traces_split, mass_traces_final)\n",
    "    else:\n",
    "        mass_traces_final = mass_traces_split\n",
    "        \n",
    "    feature_map_FFM = FeatureMap()\n",
    "    feat_chrom = []\n",
    "    ffm = FeatureFindingMetabo()\n",
    "    ffm_par = ffm.getDefaults() \n",
    "    ffm_par.setValue(\"isotope_filtering_model\", \"none\")\n",
    "    ffm_par.setValue(\"remove_single_traces\", \"true\")\n",
    "    ffm_par.setValue(\"mz_scoring_by_elements\", \"true\")\n",
    "    ffm.setParameters(ffm_par)\n",
    "    ffm.run(mass_traces_final, feature_map_FFM, feat_chrom)\n",
    "    feature_map_FFM.setUniqueIds()\n",
    "    fh = FeatureXMLFile()\n",
    "    fh.store('./wf_testing/FeatureFindingMetabo.featureXML', feature_map_FFM)\n",
    "    \n",
    "    mfd = MetaboliteFeatureDeconvolution()\n",
    "    mdf_par = mfd.getDefaults()\n",
    "    mdf_par.setValue(\"potential_adducts\",  [b\"H:+:0.6\",b\"Na:+:0.2\",b\"NH4:+:0.1\", b\"H2O:-:0.1\"])\n",
    "    mdf_par.setValue(\"charge_min\", 1, \"Minimal possible charge\")\n",
    "    mdf_par.setValue(\"charge_max\", 1, \"Maximal possible charge\")\n",
    "    mdf_par.setValue(\"charge_span_max\", 1)\n",
    "    mdf_par.setValue(\"max_neutrals\", 1)\n",
    "    mfd.setParameters(mdf_par)\n",
    "    \n",
    "    feature_map_DEC = FeatureMap()\n",
    "    cons_map0 = ConsensusMap()\n",
    "    cons_map1 = ConsensusMap()\n",
    "    mfd.compute(feature_map_FFM, feature_map_DEC, cons_map0, cons_map1)\n",
    "    fxml = FeatureXMLFile()\n",
    "    fxml.store(\"./wf_testing/devoncoluted.featureXML\", feature_map_DEC)\n",
    "    \n",
    "    features= feature_map_FFM\n",
    "    PrecursorCorrection.correctToNearestFeature(features, exp, 0.0, 0.0, True, False, False, False, 3, 0)\n",
    "    fxml = FeatureXMLFile()\n",
    "    fxml.store(\"./wf_testing/precursorcorrection.featureXML\", feature_map_DEC)\n",
    "    \n",
    "    sirius_algo = SiriusAdapterAlgorithm()\n",
    "    sirius_algo_par = sirius_algo.getDefaults()\n",
    "    sirius_algo_par.setValue(\"preprocessing:filter_by_num_masstraces\", 2) \n",
    "    sirius_algo_par.setValue(\"preprocessing:precursor_mz_tolerance\", 10.0)\n",
    "    sirius_algo_par.setValue(\"preprocessing:precursor_mz_tolerance_unit\", \"ppm\")\n",
    "    sirius_algo_par.setValue(\"preprocessing:precursor_rt_tolerance\", 5.0)\n",
    "    sirius_algo_par.setValue(\"preprocessing:feature_only\", \"true\")\n",
    "    sirius_algo_par.setValue(\"sirius:profile\", \"orbitrap\")\n",
    "    sirius_algo_par.setValue(\"sirius:db\", \"all\")\n",
    "    sirius_algo_par.setValue(\"sirius:ions_considered\", \"[M+H]+, [M-H2O+H]+, [M+Na]+, [M+NH4]+\")\n",
    "    sirius_algo_par.setValue(\"sirius:candidates\", 5)\n",
    "    sirius_algo_par.setValue(\"sirius:elements_enforced\", \"CHNOP\") \n",
    "    sirius_algo_par.setValue(\"project:processors\", 2)\n",
    "    sirius_algo.setParameters(sirius_algo_par)\n",
    "    \n",
    "    featureinfo = \"./wf_testing/precursorcorrection.featureXML\"\n",
    "    fm_info = FeatureMapping_FeatureMappingInfo()\n",
    "    feature_mapping = FeatureMapping_FeatureToMs2Indices() \n",
    "    sirius_algo.preprocessingSirius(featureinfo,\n",
    "                                    exp,\n",
    "                                    fm_info,\n",
    "                                    feature_mapping)\n",
    "    sirius_algo.logFeatureSpectraNumber(featureinfo, \n",
    "                                    feature_mapping,\n",
    "                                    exp)\n",
    "    msfile = SiriusMSFile()\n",
    "    debug_level = 10\n",
    "    sirius_tmp = SiriusTemporaryFileSystemObjects(debug_level)\n",
    "    siriusstring= String(sirius_tmp.getTmpMsFile())\n",
    "    feature_only = sirius_algo.isFeatureOnly()\n",
    "    isotope_pattern_iterations = sirius_algo.getIsotopePatternIterations()\n",
    "    no_mt_info = sirius_algo.isNoMasstraceInfoIsotopePattern()\n",
    "    compound_info = []\n",
    "    msfile.store(exp, \n",
    "                 String(sirius_tmp.getTmpMsFile()),\n",
    "                 feature_mapping, \n",
    "                 feature_only,\n",
    "                 isotope_pattern_iterations, \n",
    "                 no_mt_info, \n",
    "                 compound_info)\n",
    "    out_csifingerid = \"./wf_testing/csifingerID.mzTab\" \n",
    "    executable= \"/Users/eeko/Desktop/software/THIRDPARTY/MacOS/64bit/Sirius/sirius\"\n",
    "    subdirs = sirius_algo.callSiriusQProcess(String(sirius_tmp.getTmpMsFile()),\n",
    "                                             String(sirius_tmp.getTmpOutDir()),\n",
    "                                             String(executable),\n",
    "                                             String(out_csifingerid),\n",
    "                                             False)\n",
    "    candidates = sirius_algo.getNumberOfSiriusCandidates()\n",
    "    sirius_result = MzTab()\n",
    "    siriusfile = MzTabFile()\n",
    "    SiriusMzTabWriter.read(subdirs,\n",
    "                            input_mzML,\n",
    "                            candidates,\n",
    "                            sirius_result)\n",
    "    siriusfile.store(\"./wf_testing/out_sirius_test.mzTab\", sirius_result)\n",
    "    top_hits= 5\n",
    "    csi_result=MzTab()\n",
    "    csi_file=MzTabFile()\n",
    "    CsiFingerIdMzTabWriter.read(subdirs,\n",
    "                        input_mzML,\n",
    "                        top_hits,\n",
    "                        csi_result)\n",
    "    csi_file.store(\"./wf_testing/csifingerID.mzTab\", csi_result)\n",
    "    return \"./wf_testing/out_sirius_test.mzTab\""
   ]
  },
  {
   "cell_type": "code",
   "execution_count": 25,
   "id": "b816f2a4",
   "metadata": {},
   "outputs": [
    {
     "ename": "TypeError",
     "evalue": "descriptor 'correctToNearestFeature' for 'pyopenms.pyopenms_6.PrecursorCorrection' objects doesn't apply to a 'pyopenms.pyopenms_4.FeatureMap' object",
     "output_type": "error",
     "traceback": [
      "\u001b[0;31m---------------------------------------------------------------------------\u001b[0m",
      "\u001b[0;31mTypeError\u001b[0m                                 Traceback (most recent call last)",
      "\u001b[0;32m<ipython-input-25-880e66ca678a>\u001b[0m in \u001b[0;36m<module>\u001b[0;34m\u001b[0m\n\u001b[1;32m      3\u001b[0m \u001b[0;32mfor\u001b[0m \u001b[0mfilename\u001b[0m \u001b[0;32min\u001b[0m \u001b[0mos\u001b[0m\u001b[0;34m.\u001b[0m\u001b[0mlistdir\u001b[0m\u001b[0;34m(\u001b[0m\u001b[0mdirectory\u001b[0m\u001b[0;34m)\u001b[0m\u001b[0;34m:\u001b[0m\u001b[0;34m\u001b[0m\u001b[0;34m\u001b[0m\u001b[0m\n\u001b[1;32m      4\u001b[0m     \u001b[0;32mif\u001b[0m \u001b[0mfilename\u001b[0m\u001b[0;34m.\u001b[0m\u001b[0mendswith\u001b[0m\u001b[0;34m(\u001b[0m\u001b[0;34m\".mzML\"\u001b[0m\u001b[0;34m)\u001b[0m\u001b[0;34m:\u001b[0m\u001b[0;34m\u001b[0m\u001b[0;34m\u001b[0m\u001b[0m\n\u001b[0;32m----> 5\u001b[0;31m         \u001b[0mpyopenms_WF\u001b[0m\u001b[0;34m(\u001b[0m\u001b[0mfilename\u001b[0m\u001b[0;34m)\u001b[0m\u001b[0;34m\u001b[0m\u001b[0;34m\u001b[0m\u001b[0m\n\u001b[0m\u001b[1;32m      6\u001b[0m         \u001b[0mprint\u001b[0m\u001b[0;34m(\u001b[0m\u001b[0mos\u001b[0m\u001b[0;34m.\u001b[0m\u001b[0mpath\u001b[0m\u001b[0;34m.\u001b[0m\u001b[0mjoin\u001b[0m\u001b[0;34m(\u001b[0m\u001b[0mdirectory\u001b[0m\u001b[0;34m,\u001b[0m \u001b[0mfilename\u001b[0m\u001b[0;34m)\u001b[0m\u001b[0;34m)\u001b[0m\u001b[0;34m\u001b[0m\u001b[0;34m\u001b[0m\u001b[0m\n\u001b[1;32m      7\u001b[0m         \u001b[0;32mcontinue\u001b[0m\u001b[0;34m\u001b[0m\u001b[0;34m\u001b[0m\u001b[0m\n",
      "\u001b[0;32m<ipython-input-24-79170187ef11>\u001b[0m in \u001b[0;36mpyopenms_WF\u001b[0;34m(filename)\u001b[0m\n\u001b[1;32m     57\u001b[0m \u001b[0;34m\u001b[0m\u001b[0m\n\u001b[1;32m     58\u001b[0m     \u001b[0mfeatures\u001b[0m\u001b[0;34m=\u001b[0m \u001b[0mfeature_map_FFM\u001b[0m\u001b[0;34m\u001b[0m\u001b[0;34m\u001b[0m\u001b[0m\n\u001b[0;32m---> 59\u001b[0;31m     \u001b[0mPrecursorCorrection\u001b[0m\u001b[0;34m.\u001b[0m\u001b[0mcorrectToNearestFeature\u001b[0m\u001b[0;34m(\u001b[0m\u001b[0mfeatures\u001b[0m\u001b[0;34m,\u001b[0m \u001b[0mexp\u001b[0m\u001b[0;34m,\u001b[0m \u001b[0;36m0.0\u001b[0m\u001b[0;34m,\u001b[0m \u001b[0;36m0.0\u001b[0m\u001b[0;34m,\u001b[0m \u001b[0;32mTrue\u001b[0m\u001b[0;34m,\u001b[0m \u001b[0;32mFalse\u001b[0m\u001b[0;34m,\u001b[0m \u001b[0;32mFalse\u001b[0m\u001b[0;34m,\u001b[0m \u001b[0;32mFalse\u001b[0m\u001b[0;34m,\u001b[0m \u001b[0;36m3\u001b[0m\u001b[0;34m,\u001b[0m \u001b[0;36m0\u001b[0m\u001b[0;34m)\u001b[0m\u001b[0;34m\u001b[0m\u001b[0;34m\u001b[0m\u001b[0m\n\u001b[0m\u001b[1;32m     60\u001b[0m     \u001b[0mfxml\u001b[0m \u001b[0;34m=\u001b[0m \u001b[0mFeatureXMLFile\u001b[0m\u001b[0;34m(\u001b[0m\u001b[0;34m)\u001b[0m\u001b[0;34m\u001b[0m\u001b[0;34m\u001b[0m\u001b[0m\n\u001b[1;32m     61\u001b[0m     \u001b[0mfxml\u001b[0m\u001b[0;34m.\u001b[0m\u001b[0mstore\u001b[0m\u001b[0;34m(\u001b[0m\u001b[0;34m\"./wf_testing/precursorcorrection.featureXML\"\u001b[0m\u001b[0;34m,\u001b[0m \u001b[0mfeature_map_DEC\u001b[0m\u001b[0;34m)\u001b[0m\u001b[0;34m\u001b[0m\u001b[0;34m\u001b[0m\u001b[0m\n",
      "\u001b[0;31mTypeError\u001b[0m: descriptor 'correctToNearestFeature' for 'pyopenms.pyopenms_6.PrecursorCorrection' objects doesn't apply to a 'pyopenms.pyopenms_4.FeatureMap' object"
     ]
    }
   ],
   "source": [
    "import os\n",
    "directory= \"./\"\n",
    "for filename in os.listdir(directory):\n",
    "    if filename.endswith(\".mzML\"): \n",
    "        pyopenms_WF(filename)\n",
    "        print(os.path.join(directory, filename))\n",
    "        continue\n",
    "    else:\n",
    "        continue"
   ]
  },
  {
   "cell_type": "code",
   "execution_count": 1,
   "id": "f9d79ccf",
   "metadata": {},
   "outputs": [],
   "source": [
    "import pandas as pd\n",
    "from pyteomics import mztab\n",
    "tables = mztab.MzTab(\"./wf_testing/out_sirius_test.mzTab\")\n",
    "DF1 = tables.spectrum_match_table"
   ]
  },
  {
   "cell_type": "code",
   "execution_count": 2,
   "id": "c7725870",
   "metadata": {},
   "outputs": [
    {
     "name": "stdout",
     "output_type": "stream",
     "text": [
      "Empty DataFrame\n",
      "Columns: []\n",
      "Index: []\n"
     ]
    }
   ],
   "source": [
    "print(DF1.head())"
   ]
  },
  {
   "cell_type": "code",
   "execution_count": 5,
   "id": "7eb35e63",
   "metadata": {},
   "outputs": [
    {
     "ename": "NameError",
     "evalue": "name 'pyteomics' is not defined",
     "output_type": "error",
     "traceback": [
      "\u001b[0;31m---------------------------------------------------------------------------\u001b[0m",
      "\u001b[0;31mNameError\u001b[0m                                 Traceback (most recent call last)",
      "\u001b[0;32m<ipython-input-5-2de6a3d2b18b>\u001b[0m in \u001b[0;36m<module>\u001b[0;34m\u001b[0m\n\u001b[1;32m      1\u001b[0m \u001b[0;32mfrom\u001b[0m \u001b[0mpyteomics\u001b[0m\u001b[0;34m.\u001b[0m\u001b[0mopenms\u001b[0m \u001b[0;32mimport\u001b[0m \u001b[0mfeaturexml\u001b[0m\u001b[0;34m\u001b[0m\u001b[0;34m\u001b[0m\u001b[0m\n\u001b[0;32m----> 2\u001b[0;31m \u001b[0mpyteomics\u001b[0m\u001b[0;34m.\u001b[0m\u001b[0mopenms\u001b[0m\u001b[0;34m.\u001b[0m\u001b[0mfeaturexml\u001b[0m\u001b[0;34m.\u001b[0m\u001b[0mread\u001b[0m\u001b[0;34m(\u001b[0m\u001b[0;34m\"./wf_testing/devoncoluted.featureXML\"\u001b[0m\u001b[0;34m,\u001b[0m \u001b[0;32mTrue\u001b[0m\u001b[0;34m,\u001b[0m \u001b[0;32mTrue\u001b[0m\u001b[0;34m,\u001b[0m \u001b[0;32mFalse\u001b[0m\u001b[0;34m)\u001b[0m\u001b[0;34m\u001b[0m\u001b[0;34m\u001b[0m\u001b[0m\n\u001b[0m",
      "\u001b[0;31mNameError\u001b[0m: name 'pyteomics' is not defined"
     ]
    }
   ],
   "source": [
    "import pyteomics\n",
    "from pyteomics.openms import featurexml\n",
    "pyteomics.openms.featurexml.read(\"./wf_testing/devoncoluted.featureXML\", True, True, False)"
   ]
  },
  {
   "cell_type": "code",
   "execution_count": null,
   "id": "d7ad232c",
   "metadata": {},
   "outputs": [],
   "source": []
  }
 ],
 "metadata": {
  "kernelspec": {
   "display_name": "Python 3",
   "language": "python",
   "name": "python3"
  },
  "language_info": {
   "codemirror_mode": {
    "name": "ipython",
    "version": 3
   },
   "file_extension": ".py",
   "mimetype": "text/x-python",
   "name": "python",
   "nbconvert_exporter": "python",
   "pygments_lexer": "ipython3",
   "version": "3.9.4"
  }
 },
 "nbformat": 4,
 "nbformat_minor": 5
}
