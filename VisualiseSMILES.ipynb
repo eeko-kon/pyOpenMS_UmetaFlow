{
 "cells": [
  {
   "cell_type": "markdown",
   "metadata": {},
   "source": [
    "### `Visualise annotated features with smiles`\n",
    "#### Scatter plot and PCA\n",
    "\n",
    "\n",
    "Initially, import the dataframe with features and SMILES annotations:"
   ]
  },
  {
   "cell_type": "code",
   "execution_count": null,
   "metadata": {},
   "outputs": [],
   "source": [
    "import pandas as pd\n",
    "import plotly.express as px\n",
    "import molplotly\n",
    "\n",
    "# load a DataFrame with smiles\n",
    "DF = pd.read_csv('results/annotations/commercial_std/annotated_FeatureMatrix_commercial_std.csv')\n",
    "DF= DF.rename(columns={\"CSI_predictions_smiles\":\"smiles\"})\n",
    "DF = DF[DF['smiles'].notna()]\n",
    "DF= DF.fillna(0)\n",
    "DF"
   ]
  },
  {
   "cell_type": "code",
   "execution_count": null,
   "metadata": {},
   "outputs": [],
   "source": [
    "DF_T= DF.set_index([\"smiles\", \"CSI_predictions_name\"])\n",
    "DF_T= DF_T.drop(columns=[\"m/z\", \"RT (s)\", \"CSI_predictions_formula\"])\n",
    "DF_T"
   ]
  },
  {
   "cell_type": "code",
   "execution_count": null,
   "metadata": {},
   "outputs": [],
   "source": [
    "features = ['GermicidinB', \n",
    "            'Kanamycin', \n",
    "            'Tetracycline', \n",
    "            'Thiostreptone',\n",
    "            'Globomycin', \n",
    "            'Ampicillin', \n",
    "            'Apramycin',\n",
    "            'GermicidinA']\n",
    "            \t\t\t\t\t\t\n",
    "fig_matrix = px.scatter_matrix(DF,\n",
    "                               dimensions=features,\n",
    "                               width=1800,\n",
    "                               height=1500,\n",
    "                               title='Scatter matrix of standards')\n",
    "\n",
    "app_matrix = molplotly.add_molecules(fig=fig_matrix,\n",
    "                                     df=DF,\n",
    "                                     smiles_col='smiles',\n",
    "                                     title_col='CSI_predictions_name',\n",
    "                                     caption_cols=features,\n",
    "                                     width=200,\n",
    "                                     show_coords=False)\n",
    "\n",
    "# Only show informative lower triangle\n",
    "fig_matrix.update_traces(diagonal_visible=False, showupperhalf=False)\n",
    "app_matrix.run_server(mode='inline', port=8700, height=1000)"
   ]
  },
  {
   "cell_type": "code",
   "execution_count": null,
   "metadata": {},
   "outputs": [],
   "source": [
    "DF_treat= DF.reset_index()\n",
    "DF_treat= DF_treat.drop(columns=[\"CSI_predictions_formula\", \"index\"])\n",
    "fig_scatter = px.scatter(DF_treat,\n",
    "                         x=\"RT (s)\",\n",
    "                         y=\"m/z\",\n",
    "                         title='Scatter matrix',\n",
    "                         width=1200,\n",
    "                         height=800)\n",
    "\n",
    "# This adds a dashed line for what a perfect model _should_ predict\n",
    "y = DF_treat[\"m/z\"].values\n",
    "fig_scatter.add_shape(\n",
    "    type=\"line\", line=dict(dash='dash'),\n",
    "    x0=y.min(), y0=y.min(),\n",
    "    x1=y.max(), y1=y.max()\n",
    ")\n",
    "\n",
    "fig_scatter.show()"
   ]
  },
  {
   "cell_type": "code",
   "execution_count": null,
   "metadata": {},
   "outputs": [],
   "source": [
    "fig_scatter.update_layout(\n",
    "    title='Scatter matrix w smiles')\n",
    "\n",
    "app_scatter_with_captions = molplotly.add_molecules(fig=fig_scatter,\n",
    "                                                    df=DF,\n",
    "                                                    smiles_col='smiles',\n",
    "                                                    title_col='CSI_predictions_name',\n",
    "                                                    show_coords=True)\n",
    "\n",
    "app_scatter_with_captions.run_server(mode='inline', port=8002, height=1000)"
   ]
  },
  {
   "cell_type": "code",
   "execution_count": null,
   "metadata": {},
   "outputs": [],
   "source": [
    "import numpy as np\n",
    "from rdkit import Chem\n",
    "from rdkit.Chem import AllChem, DataStructs\n",
    "from sklearn.decomposition import PCA\n",
    "\n",
    "\n",
    "def smi_to_fp(smi):\n",
    "    fp = AllChem.GetMorganFingerprintAsBitVect(\n",
    "        Chem.MolFromSmiles(smi), 2, nBits=1024)\n",
    "    arr = np.zeros((0,), dtype=np.int8)\n",
    "    DataStructs.ConvertToNumpyArray(fp, arr)\n",
    "    return arr\n",
    "\n",
    "esol_fps = np.array([smi_to_fp(smi) for smi in DF_treat['smiles']])\n",
    "pca = PCA(n_components=2)\n",
    "components = pca.fit_transform(esol_fps.reshape(-1, 1024))\n",
    "DF_treat['PCA-1'] = components[:, 0]\n",
    "DF_treat['PCA-2'] = components[:, 1]"
   ]
  },
  {
   "cell_type": "code",
   "execution_count": null,
   "metadata": {},
   "outputs": [],
   "source": [
    "fig_pca = px.scatter(DF_treat,\n",
    "                     x=\"PCA-1\",\n",
    "                     y=\"PCA-2\",\n",
    "                     color=\"m/z\",\n",
    "                     title='PCA w smiles',\n",
    "                     width=1200,\n",
    "                     height=800)\n",
    "\n",
    "app_pca = molplotly.add_molecules(fig=fig_pca,\n",
    "                                  df=DF_treat,\n",
    "                                  smiles_col='smiles',\n",
    "                                  title_col='CSI_predictions_name',\n",
    "                                  show_coords=False)\n",
    "\n",
    "app_pca.run_server(mode='inline', port=8006, height=850)"
   ]
  },
  {
   "cell_type": "code",
   "execution_count": null,
   "metadata": {},
   "outputs": [],
   "source": []
  }
 ],
 "metadata": {
  "kernelspec": {
   "display_name": "Python 3.10.5 ('rdkit-env')",
   "language": "python",
   "name": "python3"
  },
  "language_info": {
   "codemirror_mode": {
    "name": "ipython",
    "version": 3
   },
   "file_extension": ".py",
   "mimetype": "text/x-python",
   "name": "python",
   "nbconvert_exporter": "python",
   "pygments_lexer": "ipython3",
   "version": "3.10.5"
  },
  "vscode": {
   "interpreter": {
    "hash": "b92130802f101d6596f15104b4415d3930ed4dff18261b6fa12d3ab34bae6e28"
   }
  }
 },
 "nbformat": 4,
 "nbformat_minor": 2
}
