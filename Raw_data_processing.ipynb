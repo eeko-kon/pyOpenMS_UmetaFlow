{
 "cells": [
  {
   "cell_type": "markdown",
   "id": "7d415737",
   "metadata": {},
   "source": [
    "# Convert files from Thermo\n",
    "\n",
    "Download proteowizard (Windows only)\n",
    "Run:\n",
    "\n",
    "msconvert *.raw --filter \"peakPicking true 1- \" --filter \"msLevel 1-\" --ignoreUnknownInstrumentError"
   ]
  },
  {
   "cell_type": "markdown",
   "id": "871ba4dd",
   "metadata": {},
   "source": [
    "## Import functions and libraries"
   ]
  },
  {
   "cell_type": "code",
   "execution_count": 1,
   "id": "b8706108",
   "metadata": {},
   "outputs": [
    {
     "name": "stderr",
     "output_type": "stream",
     "text": [
      "Determination of memory status is not supported on this \n",
      " platform, measuring for memoryleaks will never fail\n"
     ]
    }
   ],
   "source": [
    "import pyOpenMSfunctions\n",
    "import glob\n",
    "import os\n",
    "from pyOpenMSfunctions import FFM"
   ]
  },
  {
   "cell_type": "markdown",
   "id": "ed0ab869",
   "metadata": {},
   "source": [
    "## Constants"
   ]
  },
  {
   "cell_type": "code",
   "execution_count": 2,
   "id": "d098e29e",
   "metadata": {},
   "outputs": [],
   "source": [
    "#SIRIUS_EXECUTABLE_PATH= \"sirius\" this is currently not working"
   ]
  },
  {
   "cell_type": "markdown",
   "id": "3ca72c1f",
   "metadata": {},
   "source": [
    "## Loop through a directory that contains your mzML files"
   ]
  },
  {
   "cell_type": "code",
   "execution_count": 3,
   "id": "48292de4",
   "metadata": {},
   "outputs": [
    {
     "name": "stdout",
     "output_type": "stream",
     "text": [
      "./mzML_files/wf_testing/PrecursorCorrected.mzML\n",
      "./mzML_files/wf_testing/PrecursorCorrectedEpemicins.mzML\n",
      "./mzML_files/FileFiltered Std/Agnes_POS_MDNA_WGS_103_Filtered.mzML\n",
      "./mzML_files/FileFiltered Std/20210129_DR_UMETAB179_ISP2S_collinus3.mzML\n",
      "./mzML_files/FileFiltered Std/Epemicins_flt.mzML\n",
      "./mzML_files/FileFiltered Std/GermAzlibFileFiltered.mzML\n",
      "./mzML_files/FileFiltered Std/20201204_DR_UMETAB169_EEK_POS_GermicidinBstandard_1FileFilter.mzML\n",
      "./mzML_files/FileFiltered Std/Epemicins.mzML\n",
      "./mzML_files/FileFiltered Std/GermBzlibFileFiltered.mzML\n",
      "./mzML_files/FileFiltered Std/Agnes_POS_MDNA_WGS_103.mzML\n",
      "./mzML_files/FileFiltered Std/S.collinus.mzML\n"
     ]
    }
   ],
   "source": [
    "import glob\n",
    "for filename in glob.glob(\"./mzML_files/**/*.mzML\"):\n",
    "    if filename.endswith(\".mzML\"): \n",
    "        FFM(filename)\n",
    "        print(filename)\n",
    "        continue\n",
    "    else:\n",
    "        continue"
   ]
  },
  {
   "cell_type": "code",
   "execution_count": null,
   "id": "ab8c018f",
   "metadata": {},
   "outputs": [],
   "source": []
  }
 ],
 "metadata": {
  "kernelspec": {
   "display_name": "Python 3",
   "language": "python",
   "name": "python3"
  },
  "language_info": {
   "codemirror_mode": {
    "name": "ipython",
    "version": 3
   },
   "file_extension": ".py",
   "mimetype": "text/x-python",
   "name": "python",
   "nbconvert_exporter": "python",
   "pygments_lexer": "ipython3",
   "version": "3.9.4"
  }
 },
 "nbformat": 4,
 "nbformat_minor": 5
}
