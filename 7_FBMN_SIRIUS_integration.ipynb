{
 "cells": [
  {
   "cell_type": "markdown",
   "metadata": {},
   "source": [
    "##### Credits to Ming Wang for sharing the Jupyter notebook for the integration.\n",
    "\n",
    "###### This notebook requires a .graphml file generated from FBMN. Once you run the job, using the GNPSexport files, save the graphml file under the directory results/GNPSexport and run the following cells to add the Sirius and CSI information to the cytoscape file:"
   ]
  },
  {
   "cell_type": "code",
   "execution_count": 1,
   "metadata": {},
   "outputs": [],
   "source": [
    "# Integrating into Graphml\n",
    "import requests\n",
    "import pandas as pd\n",
    "import networkx as nx\n",
    "import glob\n",
    "import os\n",
    "import sys"
   ]
  },
  {
   "cell_type": "code",
   "execution_count": 3,
   "metadata": {},
   "outputs": [],
   "source": [
    "file_list= glob.glob(os.path.join(\"results\", \"GNPSexport\", \"*.graphml\"))\n",
    "for file in file_list:\n",
    "    G = nx.read_graphml(file)\n",
    "    # Adding sirius information\n",
    "    input_formulas= glob.glob(os.path.join(\"results\", \"Sirius\", \"formulas_*.tsv\"))\n",
    "    DF_SIRIUS = pd.DataFrame()\n",
    "    list_of_df=[]\n",
    "    for tsv in input_formulas:\n",
    "        df= pd.read_csv(tsv, sep=\"\\t\", index_col=\"Unnamed: 0\")\n",
    "        s= df[\"opt_global_rank\"]\n",
    "        pd.to_numeric(s)\n",
    "        df= df.loc[df[\"opt_global_rank\"]==1]\n",
    "        df=df.reset_index()\n",
    "        list_of_df.append(df)\n",
    "    DF_SIRIUS= pd.concat(list_of_df,ignore_index=True)\n",
    "    DF_SIRIUS= DF_SIRIUS.drop(columns=\"index\")\n",
    "\n",
    "    for result in DF_SIRIUS.to_dict(orient=\"records\"):\n",
    "        scan = str(result[\"opt_global_compoundScanNumber\"])\n",
    "        if scan in G:\n",
    "            G.nodes[scan][\"sirius:molecularFormula\"] = result[\"chemical_formula\"]\n",
    "            G.nodes[scan][\"sirius:adduct\"] = result[\"opt_global_adduct\"]\n",
    "            G.nodes[scan][\"sirius:TreeScore\"] = result[\"TreeScore\"]\n",
    "            G.nodes[scan][\"sirius:IsotopeScore\"] = result[\"IsotopeScore\"]\n",
    "            G.nodes[scan][\"sirius:explainedPeaks\"] = result[\"opt_global_explainedPeaks\"]\n",
    "            G.nodes[scan][\"sirius:explainedIntensity\"] = result[\"opt_global_explainedIntensity\"]\n",
    "            G.nodes[scan][\"sirius:explainedPeaks\"] = result[\"opt_global_explainedPeaks\"]\n",
    "\n",
    "    input_structures= glob.glob(os.path.join(\"results\", \"Sirius\", \"structures_*.tsv\"))\n",
    "    DF_CSI = pd.DataFrame()\n",
    "    list_of_df=[]\n",
    "    for tsv in input_structures:\n",
    "        df= pd.read_csv(tsv, sep=\"\\t\", index_col=\"Unnamed: 0\")\n",
    "        s= df[\"opt_global_rank\"]\n",
    "        pd.to_numeric(s)\n",
    "        df= df.loc[df[\"opt_global_rank\"]==1]\n",
    "        df=df.reset_index()\n",
    "        list_of_df.append(df)\n",
    "    DF_CSI= pd.concat(list_of_df,ignore_index=True)\n",
    "    DF_CSI= DF_CSI.drop(columns=\"index\")\n",
    "\n",
    "    # Adding CSI:FingerID information\n",
    "    for result in DF_CSI.to_dict(orient=\"records\"):\n",
    "        scan = str(result[\"opt_global_compoundScanNumber\"])\n",
    "        if scan in G:\n",
    "            G.nodes[scan][\"csifingerid:smiles\"] = result[\"smiles\"]\n",
    "            G.nodes[scan][\"csifingerid:Confidence_Score\"] = result[\"best_search_engine_score[1]\"]\n",
    "            G.nodes[scan][\"csifingerid:dbflags\"] = result[\"opt_global_dbflags\"]\n",
    "\n",
    "    nx.write_graphml(G, os.path.join(\"results\", \"GNPSexport\", \"fbmn_sirius.graphml\"))"
   ]
  },
  {
   "cell_type": "code",
   "execution_count": null,
   "metadata": {},
   "outputs": [],
   "source": []
  }
 ],
 "metadata": {
  "kernelspec": {
   "display_name": "Python 3.10.4 ('pyopenms')",
   "language": "python",
   "name": "python3"
  },
  "language_info": {
   "codemirror_mode": {
    "name": "ipython",
    "version": 3
   },
   "file_extension": ".py",
   "mimetype": "text/x-python",
   "name": "python",
   "nbconvert_exporter": "python",
   "pygments_lexer": "ipython3",
   "version": "3.10.4"
  },
  "orig_nbformat": 4,
  "vscode": {
   "interpreter": {
    "hash": "edde62aa2661007f0756e9790e7a328c288a583bf6ce768a355147dac67c8db8"
   }
  }
 },
 "nbformat": 4,
 "nbformat_minor": 2
}
