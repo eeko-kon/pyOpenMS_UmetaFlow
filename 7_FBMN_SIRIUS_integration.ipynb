{
 "cells": [
  {
   "cell_type": "markdown",
   "metadata": {},
   "source": [
    "##### A Jupyter notebook for SIRIUS and FBMN integration.\n",
    "\n",
    "This notebook requires a .graphml file generated from FBMN. Once you run the job, using the GNPSexport files, save the graphml file under the directory results/GNPSexport and run the following cells to add the SIRIUS and CSI information to the cytoscape file:"
   ]
  },
  {
   "cell_type": "code",
   "execution_count": null,
   "metadata": {},
   "outputs": [],
   "source": [
    "# Integrating into Graphml\n",
    "import requests\n",
    "import pandas as pd\n",
    "import networkx as nx\n",
    "import glob\n",
    "import os\n",
    "import sys\n",
    "from pyteomics import mgf, auxiliary"
   ]
  },
  {
   "cell_type": "markdown",
   "metadata": {},
   "source": [
    "Add the SCAN number from the MGF file in the SIRIUS merged library."
   ]
  },
  {
   "cell_type": "code",
   "execution_count": null,
   "metadata": {},
   "outputs": [],
   "source": [
    "Matrix= pd.read_csv(os.path.join(\"results\", \"features\", \"FeatureMatrix.tsv\"), sep=\"\\t\")\n",
    "Matrix[\"id\"]= Matrix[\"id\"].astype(str)\n",
    "Matrix[\"feature_ids\"]= Matrix[\"feature_ids\"].values.tolist()\n",
    "Matrix"
   ]
  },
  {
   "cell_type": "markdown",
   "metadata": {},
   "source": [
    "Turn the mgf file to a dataframe to match the feature IDs with scans"
   ]
  },
  {
   "cell_type": "code",
   "execution_count": null,
   "metadata": {},
   "outputs": [],
   "source": [
    "path= os.path.join(\"results\", \"GNPSexport\", \"MSMS.mgf\")\n",
    "file= mgf.MGF(source=path, use_header=True, convert_arrays=2, read_charges=True, read_ions=False, dtype=None, encoding=None)\n",
    "parameters=[]\n",
    "for spectrum in file:\n",
    "    parameters.append(spectrum['params'])\n",
    "mgf_file= pd.DataFrame(parameters)\n",
    "mgf_file[\"feature_id\"]= mgf_file[\"feature_id\"].str.replace(r\"e_\", \"\")\n",
    "mgf_file"
   ]
  },
  {
   "cell_type": "markdown",
   "metadata": {},
   "source": [
    "Add a SCANS column to the feature matrix"
   ]
  },
  {
   "cell_type": "code",
   "execution_count": null,
   "metadata": {},
   "outputs": [],
   "source": [
    "Matrix.insert(0, \"SCANS\", \"\")\n",
    "for i, id in zip(Matrix.index, Matrix[\"id\"]):\n",
    "    hits = []\n",
    "    for scan, feature_id in zip(mgf_file[\"scans\"], mgf_file[\"feature_id\"]): \n",
    "        if feature_id==id:\n",
    "            hit = f\"{scan}\"\n",
    "            if hit not in hits:\n",
    "                hits.append(hit)\n",
    "    Matrix[\"SCANS\"][i] = \" ## \".join(hits)\n",
    "Matrix"
   ]
  },
  {
   "cell_type": "markdown",
   "metadata": {},
   "source": [
    "Add the scan number information to Sirius"
   ]
  },
  {
   "cell_type": "code",
   "execution_count": null,
   "metadata": {},
   "outputs": [],
   "source": [
    "input_formulas= glob.glob(os.path.join(\"results\", \"SiriusCSI\", \"formulas_*.tsv\"))\n",
    "DF_SIRIUS = pd.DataFrame()\n",
    "list_of_df=[]\n",
    "for tsv in input_formulas:\n",
    "    df= pd.read_csv(tsv, sep=\"\\t\", index_col=\"Unnamed: 0\")\n",
    "    s= df[\"opt_global_rank\"]\n",
    "    pd.to_numeric(s)\n",
    "    df= df.loc[df[\"opt_global_rank\"]==1]\n",
    "    df=df.reset_index()\n",
    "    list_of_df.append(df)\n",
    "DF_SIRIUS= pd.concat(list_of_df,ignore_index=True)\n",
    "DF_SIRIUS= DF_SIRIUS.drop(columns=\"index\")\n",
    "DF_SIRIUS[\"opt_global_featureId\"]= DF_SIRIUS[\"opt_global_featureId\"].str.replace(r\"id_\", \"\")\n",
    "DF_SIRIUS"
   ]
  },
  {
   "cell_type": "code",
   "execution_count": null,
   "metadata": {},
   "outputs": [],
   "source": [
    "DF_SIRIUS.insert(0, \"SCANS\", \"\")\n",
    "\n",
    "for i, Pred_id in zip(DF_SIRIUS.index, DF_SIRIUS[\"opt_global_featureId\"]):\n",
    "    hits = []\n",
    "    for scans, feature_id in zip(Matrix[\"SCANS\"], Matrix[\"feature_ids\"]): \n",
    "        if Pred_id in feature_id:\n",
    "            hit = f\"{scans}\"\n",
    "            if hit not in hits:\n",
    "                hits.append(hit)\n",
    "    DF_SIRIUS[\"SCANS\"][i] = \" ## \".join(hits)\n",
    "DF_SIRIUS"
   ]
  },
  {
   "cell_type": "markdown",
   "metadata": {},
   "source": [
    "Add scan information to CSI:"
   ]
  },
  {
   "cell_type": "code",
   "execution_count": null,
   "metadata": {},
   "outputs": [],
   "source": [
    "input_structures= glob.glob(os.path.join(\"results\", \"SiriusCSI\", \"structures_*.tsv\"))\n",
    "DF_CSI = pd.DataFrame()\n",
    "list_of_df=[]\n",
    "for tsv in input_structures:\n",
    "    df= pd.read_csv(tsv, sep=\"\\t\", index_col=\"Unnamed: 0\")\n",
    "    s= df[\"opt_global_rank\"]\n",
    "    pd.to_numeric(s)\n",
    "    df= df.loc[df[\"opt_global_rank\"]==1]\n",
    "    df=df.reset_index()\n",
    "    list_of_df.append(df)\n",
    "DF_CSI= pd.concat(list_of_df,ignore_index=True)\n",
    "DF_CSI= DF_CSI.drop(columns=\"index\")\n",
    "DF_CSI[\"opt_global_featureId\"]= DF_CSI[\"opt_global_featureId\"].str.replace(r\"id_\", \"\")\n",
    "DF_CSI"
   ]
  },
  {
   "cell_type": "code",
   "execution_count": null,
   "metadata": {},
   "outputs": [],
   "source": [
    "DF_CSI.insert(0, \"SCANS\", \"\")\n",
    "\n",
    "for i, Pred_id in zip(DF_CSI.index, DF_CSI[\"opt_global_featureId\"]):\n",
    "    hits = []\n",
    "    for scans, feature_id in zip(Matrix[\"SCANS\"], Matrix[\"feature_ids\"]): \n",
    "        if Pred_id in feature_id:\n",
    "            hit = f\"{scans}\"\n",
    "            if hit not in hits:\n",
    "                hits.append(hit)\n",
    "    DF_CSI[\"SCANS\"][i] = \" ## \".join(hits)\n",
    "DF_CSI"
   ]
  },
  {
   "cell_type": "markdown",
   "metadata": {},
   "source": [
    "Add the SIRIUS and CSI information at the graphml file from FBMN:"
   ]
  },
  {
   "cell_type": "code",
   "execution_count": null,
   "metadata": {},
   "outputs": [],
   "source": [
    "file_list= glob.glob(os.path.join(\"results\", \"GNPSexport\", \"*.graphml\"))\n",
    "for file in file_list:\n",
    "    G = nx.read_graphml(file)\n",
    "\n",
    "    for result in DF_SIRIUS.to_dict(orient=\"records\"):\n",
    "        scan = str(result[\"SCANS\"])\n",
    "        if scan in G:\n",
    "            G.nodes[scan][\"sirius:molecularFormula\"] = result[\"chemical_formula\"]\n",
    "            G.nodes[scan][\"sirius:adduct\"] = result[\"opt_global_adduct\"]\n",
    "            G.nodes[scan][\"sirius:TreeScore\"] = result[\"TreeScore\"]\n",
    "            G.nodes[scan][\"sirius:IsotopeScore\"] = result[\"IsotopeScore\"]\n",
    "            G.nodes[scan][\"sirius:explainedPeaks\"] = result[\"opt_global_explainedPeaks\"]\n",
    "            G.nodes[scan][\"sirius:explainedIntensity\"] = result[\"opt_global_explainedIntensity\"]\n",
    "            G.nodes[scan][\"sirius:explainedPeaks\"] = result[\"opt_global_explainedPeaks\"]\n",
    "\n",
    "\n",
    "    # Adding CSI:FingerID information\n",
    "    for result in DF_CSI.to_dict(orient=\"records\"):\n",
    "        scan = str(result[\"SCANS\"])\n",
    "        if scan in G:\n",
    "            G.nodes[scan][\"csifingerid:smiles\"] = result[\"smiles\"]\n",
    "            G.nodes[scan][\"csifingerid:Confidence_Score\"] = result[\"best_search_engine_score[1]\"]\n",
    "            G.nodes[scan][\"csifingerid:dbflags\"] = result[\"opt_global_dbflags\"]\n",
    "            G.nodes[scan][\"csifingerid:description\"] = result[\"description\"]\n",
    "\n",
    "    nx.write_graphml(G, os.path.join(\"results\", \"GNPSexport\", \"fbmn_sirius.graphml\"))"
   ]
  },
  {
   "cell_type": "code",
   "execution_count": null,
   "metadata": {},
   "outputs": [],
   "source": []
  }
 ],
 "metadata": {
  "kernelspec": {
   "display_name": "Python 3.10.4 ('pyopenms')",
   "language": "python",
   "name": "python3"
  },
  "language_info": {
   "codemirror_mode": {
    "name": "ipython",
    "version": 3
   },
   "file_extension": ".py",
   "mimetype": "text/x-python",
   "name": "python",
   "nbconvert_exporter": "python",
   "pygments_lexer": "ipython3",
   "version": "3.10.4"
  },
  "orig_nbformat": 4,
  "vscode": {
   "interpreter": {
    "hash": "edde62aa2661007f0756e9790e7a328c288a583bf6ce768a355147dac67c8db8"
   }
  }
 },
 "nbformat": 4,
 "nbformat_minor": 2
}
