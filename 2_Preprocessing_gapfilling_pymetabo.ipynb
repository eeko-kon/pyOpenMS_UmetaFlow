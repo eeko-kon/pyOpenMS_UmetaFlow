{
 "cells": [
  {
   "cell_type": "markdown",
   "metadata": {},
   "source": [
    "# `Preprocessing workflow`\n",
    "\n",
    "#### The preprocessing workflow consists of nine steps:\n",
    "\n",
    "![Preprocessing.png](images/Preprocessing.png)"
   ]
  },
  {
   "cell_type": "code",
   "execution_count": null,
   "metadata": {},
   "outputs": [],
   "source": [
    "import os\n",
    "from pymetabo.core import *\n",
    "from pymetabo.helpers import *\n",
    "from pymetabo.dataframes import *"
   ]
  },
  {
   "cell_type": "markdown",
   "metadata": {},
   "source": [
    "Specifiy input mzML, result and interim directories"
   ]
  },
  {
   "cell_type": "code",
   "execution_count": null,
   "metadata": {},
   "outputs": [],
   "source": [
    "mzML_dir = \"/home/axel/Nextcloud/workspace/Tests/CentogeneWorkflowTest/mzML\"\n",
    "\n",
    "results = Helper().reset_directory(\"results\")\n",
    "interim = Helper().reset_directory(os.path.join(results, \"interim\"))"
   ]
  },
  {
   "cell_type": "markdown",
   "metadata": {},
   "source": [
    "Precursor Peak Correction (TODO: add to pymetabo)"
   ]
  },
  {
   "cell_type": "code",
   "execution_count": null,
   "metadata": {},
   "outputs": [],
   "source": [
    "mzML_files = os.listdir(mzML_dir)\n",
    "\n",
    "Helper().reset_directory(os.path.join(interim, \"mzML_PCpeak\"))\n",
    "for filename in mzML_files:\n",
    "    exp = MSExperiment()\n",
    "    MzMLFile().load(os.path.join(mzML_dir, filename), exp)\n",
    "    exp.sortSpectra(True)\n",
    "    delta_mzs= []\n",
    "    mzs = []\n",
    "    rts= []\n",
    "    PrecursorCorrection.correctToHighestIntensityMS1Peak(exp, 100.0, True, delta_mzs, mzs, rts)\n",
    "    mzmlfile_path = os.path.join(os.path.join(interim, \"mzML_PCpeak\"), filename)\n",
    "    MzMLFile().store(mzmlfile_path, exp)"
   ]
  },
  {
   "cell_type": "markdown",
   "metadata": {},
   "source": [
    "Feature detection by FFM"
   ]
  },
  {
   "cell_type": "code",
   "execution_count": null,
   "metadata": {},
   "outputs": [],
   "source": [
    "FeatureFinderMetabo().run(os.path.join(interim, \"mzML_PCpeak\"), os.path.join(interim, \"FFM\"),\n",
    "                        {\"noise_threshold_int\": 10000.0,\n",
    "                        \"mass_error_ppm\": 10.0,\n",
    "                        \"remove_single_traces\": \"true\"})"
   ]
  },
  {
   "cell_type": "markdown",
   "metadata": {},
   "source": [
    "Precursor Correction to nearest feature (TODO: add in pymetabo)"
   ]
  },
  {
   "cell_type": "code",
   "execution_count": null,
   "metadata": {},
   "outputs": [],
   "source": [
    "Helper().reset_directory(os.path.join(interim, \"mzML_PCfeature\"))\n",
    "mzML_files = os.listdir(os.path.join(interim, \"mzML_PCpeak\"))\n",
    "feature_files = os.listdir(os.path.join(interim, \"FFM\"))\n",
    "for mzml in mzML_files:\n",
    "    exp = MSExperiment()\n",
    "    MzMLFile().load(os.path.join(interim, \"mzML_PCpeak\", mzml), exp)\n",
    "    exp.sortSpectra(True)\n",
    "    correct = PrecursorCorrection()\n",
    "\n",
    "    for filename in feature_files:\n",
    "        feature_map_MFD = FeatureMap()\n",
    "        FeatureXMLFile().load(os.path.join(interim, \"FFM\", filename), feature_map_MFD)\n",
    "        if os.path.basename(mzml)[:-5] == os.path.basename(filename)[:-11]:\n",
    "            correct.correctToNearestFeature(feature_map_MFD, exp, 0.0, 100.0, True, False, False, False, 3, 0)\n",
    "            corrected_file = os.path.join(interim, \"mzML_PCfeature\", mzml)\n",
    "            MzMLFile().store(corrected_file, exp)"
   ]
  },
  {
   "cell_type": "markdown",
   "metadata": {},
   "source": [
    "Map alignment of FetureMaps and mzML files"
   ]
  },
  {
   "cell_type": "code",
   "execution_count": null,
   "metadata": {},
   "outputs": [],
   "source": [
    "MapAligner().run(os.path.join(interim, \"FFM\"), os.path.join(interim, \"FFM_aligned\"),\n",
    "                os.path.join(interim, \"Trafo\"),\n",
    "                {\"max_num_peaks_considered\": -1,\n",
    "                \"superimposer:mz_pair_max_distance\": 0.05,\n",
    "                \"pairfinder:distance_MZ:max_difference\": 10.0,\n",
    "                \"pairfinder:distance_MZ:unit\": \"ppm\"})\n",
    "\n",
    "MapAligner().run(os.path.join(interim, \"mzML_PCfeature\"), os.path.join(interim, \"mzML_aligned\"),\n",
    "                os.path.join(interim, \"Trafo\"))"
   ]
  },
  {
   "cell_type": "markdown",
   "metadata": {},
   "source": [
    "Feature linking"
   ]
  },
  {
   "cell_type": "code",
   "execution_count": null,
   "metadata": {},
   "outputs": [],
   "source": [
    "FeatureLinker().run(os.path.join(interim, \"FFM_aligned\"),\n",
    "                os.path.join(interim,  \"FFM.consensusXML\"))\n",
    "\n",
    "DataFrames().create_consensus_table(os.path.join(\n",
    "    interim, \"FFM.consensusXML\"), os.path.join(interim, \"FFM_consensus.tsv\"))"
   ]
  },
  {
   "cell_type": "markdown",
   "metadata": {},
   "source": [
    "Gap filling with FFMID"
   ]
  },
  {
   "cell_type": "code",
   "execution_count": null,
   "metadata": {},
   "outputs": [],
   "source": [
    "FeatureMapHelper().FFMID_libraries_for_missing_features(os.path.join(interim,  \"FFM.consensusXML\"),\n",
    "                                                    os.path.join(interim,  \"FFMID_libraries\"))\n",
    "\n",
    "FeatureFinderMetaboIdent().run(os.path.join(interim, \"MzML_aligned\"),\n",
    "                            os.path.join(interim,  \"FFMID\"),\n",
    "                            os.path.join(interim,  \"FFMID_libraries\"),\n",
    "                            {\"detect:peak_width\": 60.0})\n",
    "\n",
    "FeatureMapHelper().merge_feature_maps(os.path.join(interim, \"FeatureMaps_merged\"), os.path.join(\n",
    "    interim, \"FFM\"), os.path.join(interim, \"FFMID\"))"
   ]
  },
  {
   "cell_type": "markdown",
   "metadata": {},
   "source": [
    "Adduct decharging"
   ]
  },
  {
   "cell_type": "code",
   "execution_count": null,
   "metadata": {},
   "outputs": [],
   "source": [
    "MetaboliteAdductDecharger().run(os.path.join(interim, \"FeatureMaps_merged\"), os.path.join(interim, \"FeatureMaps_decharged\"),\n",
    "                            {\"potential_adducts\": [b\"H:+:0.5\", b\"Na:+:0.3\", b\"H-1O-1:+:0.2\"],\n",
    "                            \"charge_min\": 1,\n",
    "                            \"charge_max\": 3,\n",
    "                            \"max_neutrals\": 2})"
   ]
  },
  {
   "cell_type": "markdown",
   "metadata": {},
   "source": [
    "Map MS2 spectra to features"
   ]
  },
  {
   "cell_type": "code",
   "execution_count": null,
   "metadata": {},
   "outputs": [],
   "source": [
    "MapID().run(os.path.join(interim, \"MzML_aligned\"), os.path.join(\n",
    "    interim, \"FeatureMaps_decharged\"), os.path.join(interim, \"FeatureMaps_ID_mapped\"))"
   ]
  },
  {
   "cell_type": "markdown",
   "metadata": {},
   "source": [
    "Link gap-filled features to final ConsensusMap"
   ]
  },
  {
   "cell_type": "code",
   "execution_count": null,
   "metadata": {},
   "outputs": [],
   "source": [
    "FeatureLinker().run(os.path.join(interim, \"FeatureMaps_ID_mapped\"),\n",
    "                os.path.join(interim, \"FeatureMatrix.consensusXML\"))\n",
    "\n",
    "DataFrames().create_consensus_table(os.path.join(\n",
    "    interim, \"FeatureMatrix.consensusXML\"), os.path.join(results, \"FeatureMatrix.tsv\"))"
   ]
  }
 ],
 "metadata": {
  "interpreter": {
   "hash": "916dbcbb3f70747c44a77c7bcd40155683ae19c65e1c03b4aa3499c5328201f1"
  },
  "kernelspec": {
   "display_name": "Python 3.10.4 64-bit",
   "language": "python",
   "name": "python3"
  },
  "language_info": {
   "codemirror_mode": {
    "name": "ipython",
    "version": 3
   },
   "file_extension": ".py",
   "mimetype": "text/x-python",
   "name": "python",
   "nbconvert_exporter": "python",
   "pygments_lexer": "ipython3",
   "version": "3.10.4"
  },
  "orig_nbformat": 4
 },
 "nbformat": 4,
 "nbformat_minor": 2
}
