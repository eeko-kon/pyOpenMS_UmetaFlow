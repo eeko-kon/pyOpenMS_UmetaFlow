{
 "cells": [
  {
   "cell_type": "markdown",
   "id": "132261f3",
   "metadata": {},
   "source": [
    "### Import pyOpenMS wrappers (cpp) for peak picking and metabolite deconvolution"
   ]
  },
  {
   "cell_type": "code",
   "execution_count": 1,
   "id": "fa7a0c58",
   "metadata": {},
   "outputs": [
    {
     "name": "stderr",
     "output_type": "stream",
     "text": [
      "Determination of memory status is not supported on this \n",
      " platform, measuring for memoryleaks will never fail\n"
     ]
    }
   ],
   "source": [
    "from pyopenms import *"
   ]
  },
  {
   "cell_type": "code",
   "execution_count": 2,
   "id": "48c9a679",
   "metadata": {},
   "outputs": [],
   "source": [
    "input_mzML = \"data Thermo Orbitrap ID-X/FileFiltered Std/20210129_DR_UMETAB179_ISP2S_collinus3.mzML\"\n",
    "exp = MSExperiment()\n",
    "MzMLFile().load(input_mzML, exp)"
   ]
  },
  {
   "cell_type": "code",
   "execution_count": 3,
   "id": "b55d469b",
   "metadata": {},
   "outputs": [],
   "source": [
    "#OR:\n",
    "#import sys\n",
    "#MzMLFile().load(sys.argv[1], exp)"
   ]
  },
  {
   "cell_type": "code",
   "execution_count": 4,
   "id": "8189efd1",
   "metadata": {},
   "outputs": [
    {
     "name": "stdout",
     "output_type": "stream",
     "text": [
      "MS:1000768\n",
      "Thermo nativeID format\n"
     ]
    }
   ],
   "source": [
    "print(exp.getSourceFiles()[0].getNativeIDTypeAccession())\n",
    "print(exp.getSourceFiles()[0].getNativeIDType())"
   ]
  },
  {
   "cell_type": "markdown",
   "id": "912d9b1b",
   "metadata": {},
   "source": [
    "#### Sorts the data points by retention time."
   ]
  },
  {
   "cell_type": "code",
   "execution_count": 5,
   "id": "2308ca51",
   "metadata": {},
   "outputs": [],
   "source": [
    "exp.sortSpectra(True)"
   ]
  },
  {
   "cell_type": "markdown",
   "id": "f8687587",
   "metadata": {},
   "source": [
    "### Run mass trace detection\n",
    "\n",
    "A mass trace extraction method that gathers peaks similar in m/z and moving along retention time.\n",
    "\n",
    "Peaks of a MSExperiment are sorted by their intensity and stored in a list of potential chromatographic apex positions. Only peaks that are above the noise threshold (user-defined) are analyzed and only peaks that are n times above this minimal threshold are considered as apices. This saves computational resources and decreases the noise in the resulting output.\n",
    "\n",
    "Starting with these, mass traces are extended in- and decreasingly in retention time. During this extension phase, the centroid m/z is computed on-line as an intensity-weighted mean of peaks.\n",
    "\n",
    "The extension phase ends when either the frequency of gathered peaks drops below a threshold (min_sample_rate, see MassTraceDetection parameters) or when the number of missed scans exceeds a threshold (trace_termination_outliers, see MassTraceDetection parameters).\n",
    "\n",
    "Finally, only mass traces that pass a filter (a certain minimal and maximal length as well as having the minimal sample rate criterion fulfilled) get added to the result."
   ]
  },
  {
   "cell_type": "code",
   "execution_count": 6,
   "id": "eb436b8b",
   "metadata": {},
   "outputs": [],
   "source": [
    "mass_traces = []\n",
    "mtd = MassTraceDetection()"
   ]
  },
  {
   "cell_type": "markdown",
   "id": "0c22dfc7",
   "metadata": {},
   "source": [
    "#### parameters"
   ]
  },
  {
   "cell_type": "code",
   "execution_count": 7,
   "id": "ab0db07c",
   "metadata": {},
   "outputs": [],
   "source": [
    "mtd_par = mtd.getDefaults()\n",
    "mtd_par.setValue(\"mass_error_ppm\", 10.0) \n",
    "mtd_par.setValue(\"noise_threshold_int\", 1.0e04)\n",
    "mtd.setParameters(mtd_par)"
   ]
  },
  {
   "cell_type": "code",
   "execution_count": 8,
   "id": "64f940c1",
   "metadata": {},
   "outputs": [],
   "source": [
    "mtd.run(exp, mass_traces, 0)  # 0 is default and does not restrict found mass traces"
   ]
  },
  {
   "cell_type": "markdown",
   "id": "accc5e0b",
   "metadata": {},
   "source": [
    "### Run elution peak detection\n",
    "\n",
    "Extracts chromatographic peaks from a mass trace.\n",
    "\n",
    "Mass traces may consist of several consecutively (partly overlapping) eluting peaks, e.g., stemming from (almost) isobaric compounds that are separated by retention time. Especially in metabolomics, isomeric compounds with exactly the same mass but different retentional behaviour may still be contained in the same mass trace.\n",
    "\n",
    "This method first applies smoothing on the mass trace's intensities, then detects local minima/maxima in order to separate the chromatographic peaks from each other. Detection of maxima is performed on the smoothed intensities and uses a fixed peak width (given as parameter chrom_fwhm) within which only a single maximum is expected. Currently smoothing is done using SavitzkyGolay smoothing with a second order polynomial and a frame length of the fixed peak width.\n",
    "\n",
    "Depending on the \"width_filtering\" parameters, mass traces are filtered by length in seconds (\"fixed\" filter) or by quantile.\n",
    "\n",
    "The output of the algorithm is a set of chromatographic peaks for each mass trace, i.e. a vector of split mass traces (see ElutionPeakDetection parameters).\n",
    "\n",
    "In general, a user would want to call the \"detectPeaks\" functions, potentially followed by the \"filterByPeakWidth\" function.\n",
    "\n"
   ]
  },
  {
   "cell_type": "code",
   "execution_count": 9,
   "id": "3c909c22",
   "metadata": {},
   "outputs": [],
   "source": [
    "mass_traces_split = []\n",
    "mass_traces_final = []\n",
    "epd = ElutionPeakDetection()"
   ]
  },
  {
   "cell_type": "markdown",
   "id": "34bb9ea2",
   "metadata": {},
   "source": [
    "#### parameters"
   ]
  },
  {
   "cell_type": "code",
   "execution_count": 10,
   "id": "56a75d1a",
   "metadata": {},
   "outputs": [],
   "source": [
    "epd_par = epd.getDefaults()\n",
    "epd_par.setValue(\"width_filtering\", \"fixed\")\n",
    "epd.setParameters(epd_par)"
   ]
  },
  {
   "cell_type": "code",
   "execution_count": 11,
   "id": "aa883d9e",
   "metadata": {},
   "outputs": [],
   "source": [
    "epd.detectPeaks(mass_traces, mass_traces_split)\n",
    "if (epd.getParameters().getValue(\"width_filtering\") == \"auto\"):\n",
    "    epd.filterByPeakWidth(mass_traces_split, mass_traces_final)\n",
    "else:\n",
    "    mass_traces_final = mass_traces_split"
   ]
  },
  {
   "cell_type": "markdown",
   "id": "485c1d94",
   "metadata": {},
   "source": [
    "### Run feature detection\n",
    "\n",
    "FeatureFinderMetabo assembles metabolite features from singleton mass traces.\n",
    "\n",
    "Mass traces alone would allow for further analysis such as metabolite ID or statistical evaluation. However, in general, monoisotopic mass traces are accompanied by satellite C13 peaks and thus may render the analysis more difficult. FeatureFinderMetabo fulfills a further data reduction step by assembling compatible mass traces to metabolite features (that is, all mass traces originating from one metabolite). To this end, multiple metabolite hypotheses are formulated and scored according to how well differences in RT (optional), m/z or intensity ratios match to those of theoretical isotope patterns.\n",
    "\n",
    "If the raw data scans contain the scan polarity information, it is stored as meta value \"scan_polarity\" in the output file.\n",
    "\n",
    "Mass trace clustering can be done using either 13C distances or a linear model (Kenar et al) – see parameter 'ffm:mz_scoring_13C'. Generally, for lipidomics, use 13C, since lipids contain a lot of 13C. For general metabolites, the linear model is usually more appropriate. To decide what is better, the total number of features can be used as indirect measure.\n",
    "\n",
    "the lower(!) the better (since more mass traces are assembled into single features). Detailed information is stored in the featureXML output: it contains meta-values for each feature about the mass trace differences (inspectable via TOPPView). If you want this in a tabular format, use TextExporter, i.e.,\n",
    "TextExporter.exe -feature:add_metavalues 1 -in <ff_metabo.featureXML> -out <ff_metabo.csv>\n",
    "By default, the linear model is used."
   ]
  },
  {
   "cell_type": "code",
   "execution_count": 12,
   "id": "1c4e00a7",
   "metadata": {},
   "outputs": [],
   "source": [
    "feature_map_FFM = FeatureMap()\n",
    "feat_chrom = []\n",
    "ffm = FeatureFindingMetabo()"
   ]
  },
  {
   "cell_type": "markdown",
   "id": "b49b7835",
   "metadata": {},
   "source": [
    "#### parameters"
   ]
  },
  {
   "cell_type": "code",
   "execution_count": 13,
   "id": "8d23e933",
   "metadata": {},
   "outputs": [],
   "source": [
    "ffm_par = ffm.getDefaults() \n",
    "ffm_par.setValue(\"isotope_filtering_model\", \"none\")\n",
    "#ffm_par.setValue(\"remove_single_traces\", \"true\")\n",
    "ffm_par.setValue(\"mz_scoring_by_elements\", \"true\")\n",
    "ffm.setParameters(ffm_par)"
   ]
  },
  {
   "cell_type": "code",
   "execution_count": 14,
   "id": "95103fa9",
   "metadata": {},
   "outputs": [],
   "source": [
    "ffm.run(mass_traces_final, feature_map_FFM, feat_chrom)"
   ]
  },
  {
   "cell_type": "code",
   "execution_count": 15,
   "id": "72431b07",
   "metadata": {},
   "outputs": [
    {
     "name": "stdout",
     "output_type": "stream",
     "text": [
      "# Mass traces filtered: 5726\n"
     ]
    }
   ],
   "source": [
    "print('# Mass traces filtered:', len(mass_traces_final))"
   ]
  },
  {
   "cell_type": "markdown",
   "id": "e1d4c9e0",
   "metadata": {},
   "source": [
    "#### Save FeatureXML file of FFM"
   ]
  },
  {
   "cell_type": "code",
   "execution_count": 16,
   "id": "f8978d94",
   "metadata": {},
   "outputs": [
    {
     "name": "stdout",
     "output_type": "stream",
     "text": [
      "Found 5187 features\n"
     ]
    }
   ],
   "source": [
    "feature_map_FFM.setUniqueIds()\n",
    "fh = FeatureXMLFile()\n",
    "print(\"Found\", feature_map_FFM.size(), \"features\")\n",
    "fh.store('./wf_testing/FeatureFindingMetabo.featureXML', feature_map_FFM)"
   ]
  },
  {
   "cell_type": "markdown",
   "id": "910c233e",
   "metadata": {},
   "source": [
    "#### Export it to csv -need to leave python"
   ]
  },
  {
   "cell_type": "code",
   "execution_count": 17,
   "id": "f3a46fb5",
   "metadata": {},
   "outputs": [],
   "source": [
    "# /Applications/OpenMS-2.6.0-pre-nightly-2021-04-04/bin/TextExporter -feature:add_metavalues 1 -in /Users/eeko/Desktop/py4e/wf_testing/FeatureFindingMetabo.featureXML -out /Users/eeko/Desktop/py4e/wf_testing/FeatureFindingMetabo.csv"
   ]
  },
  {
   "cell_type": "markdown",
   "id": "e85f1c37",
   "metadata": {},
   "source": [
    "### Run metabolite adduct decharging detection\n",
    "#### With SIRIUS you are only able to use singly charged adducts"
   ]
  },
  {
   "cell_type": "code",
   "execution_count": 18,
   "id": "f3f02684",
   "metadata": {},
   "outputs": [],
   "source": [
    "mfd = MetaboliteFeatureDeconvolution()"
   ]
  },
  {
   "cell_type": "markdown",
   "id": "6d324672",
   "metadata": {},
   "source": [
    "#### parameters"
   ]
  },
  {
   "cell_type": "code",
   "execution_count": 19,
   "id": "5ac61d48",
   "metadata": {},
   "outputs": [
    {
     "name": "stdout",
     "output_type": "stream",
     "text": [
      "[b'H:+:0.6', b'Na:+:0.1', b'NH4:+:0.1', b'K:+:0.1', b'H2O:-:0.1']\n"
     ]
    }
   ],
   "source": [
    "mdf_par = mfd.getDefaults()\n",
    "mdf_par.setValue(\"potential_adducts\",  [b\"H:+:0.6\",b\"Na:+:0.2\",b\"NH4:+:0.1\", b\"H2O:-:0.1\"])\n",
    "mdf_par.setValue(\"charge_min\", 1, \"Minimal possible charge\")\n",
    "mdf_par.setValue(\"charge_max\", 1, \"Maximal possible charge\")\n",
    "mdf_par.setValue(\"charge_span_max\", 1)\n",
    "mdf_par.setValue(\"max_neutrals\", 1)\n",
    "print(mdf_par.getValue(\"potential_adducts\")) # test if adducts have been set correctly\n",
    "mfd.setParameters(mdf_par)"
   ]
  },
  {
   "cell_type": "code",
   "execution_count": 20,
   "id": "1afb3bfc",
   "metadata": {},
   "outputs": [],
   "source": [
    "feature_map_DEC = FeatureMap()\n",
    "cons_map0 = ConsensusMap()\n",
    "cons_map1 = ConsensusMap()\n",
    "mfd.compute(feature_map_FFM, feature_map_DEC, cons_map0, cons_map1)"
   ]
  },
  {
   "cell_type": "markdown",
   "id": "c86adb23",
   "metadata": {},
   "source": [
    "### Save deconvoluted Feature XML file"
   ]
  },
  {
   "cell_type": "code",
   "execution_count": 21,
   "id": "74d59670",
   "metadata": {},
   "outputs": [],
   "source": [
    "fxml = FeatureXMLFile()\n",
    "fxml.store(\"./wf_testing/devoncoluted.featureXML\", feature_map_DEC)"
   ]
  },
  {
   "cell_type": "markdown",
   "id": "d52eff19",
   "metadata": {},
   "source": [
    "## SIRIUS Adapter Algorithm"
   ]
  },
  {
   "cell_type": "code",
   "execution_count": 22,
   "id": "afce8540",
   "metadata": {},
   "outputs": [],
   "source": [
    "sirius_algo = SiriusAdapterAlgorithm()"
   ]
  },
  {
   "cell_type": "markdown",
   "id": "9b702266",
   "metadata": {},
   "source": [
    "#### parameters"
   ]
  },
  {
   "cell_type": "code",
   "execution_count": 23,
   "id": "0f530137",
   "metadata": {},
   "outputs": [],
   "source": [
    "sirius_algo_par = sirius_algo.getDefaults()\n",
    "\n",
    "sirius_algo_par.setValue(\"preprocessing:filter_by_num_masstraces\", 2) \n",
    "sirius_algo_par.setValue(\"preprocessing:precursor_mz_tolerance\", 10.0)\n",
    "sirius_algo_par.setValue(\"preprocessing:precursor_mz_tolerance_unit\", \"ppm\")\n",
    "#sirius_algo_par.setValue(\"preprocessing:precursor_rt_tolerance\", 5.0)\n",
    "sirius_algo_par.setValue(\"preprocessing:feature_only\", \"true\")\n",
    "sirius_algo_par.setValue(\"sirius:profile\", \"orbitrap\")\n",
    "#sirius_algo_par.setValue(\"sirius:db\", \"all\")\n",
    "#sirius_algo_par.setValue(\"sirius:ions_considered\", \"[M+H]+, [M-H2O+H]+, [M+Na]+, [M+NH4]+\")\n",
    "sirius_algo_par.setValue(\"sirius:candidates\", 5)\n",
    "sirius_algo_par.setValue(\"sirius:elements_enforced\", \"CHNOP\") \n",
    "sirius_algo_par.setValue(\"project:processors\", 2)\n",
    "sirius_algo.setParameters(sirius_algo_par)"
   ]
  },
  {
   "cell_type": "code",
   "execution_count": 24,
   "id": "03221397",
   "metadata": {},
   "outputs": [],
   "source": [
    "featureinfo = \"./wf_testing/devoncoluted.featureXML\"\n",
    "fm_info = FeatureMapping_FeatureMappingInfo()\n",
    "feature_mapping = FeatureMapping_FeatureToMs2Indices() \n",
    "sirius_algo.preprocessingSirius(featureinfo,\n",
    "                                exp,\n",
    "                                fm_info,\n",
    "                                feature_mapping)"
   ]
  },
  {
   "cell_type": "code",
   "execution_count": 25,
   "id": "eaf62824",
   "metadata": {},
   "outputs": [],
   "source": [
    "sirius_algo.logFeatureSpectraNumber(featureinfo, \n",
    "                                    feature_mapping,\n",
    "                                    exp)"
   ]
  },
  {
   "cell_type": "code",
   "execution_count": 26,
   "id": "55f02abb",
   "metadata": {},
   "outputs": [],
   "source": [
    "msfile = SiriusMSFile()\n",
    "debug_level = 10\n",
    "sirius_tmp = SiriusTemporaryFileSystemObjects(debug_level)\n",
    "siriusstring= String(sirius_tmp.getTmpMsFile())"
   ]
  },
  {
   "cell_type": "code",
   "execution_count": 27,
   "id": "74ed7d88",
   "metadata": {},
   "outputs": [
    {
     "name": "stdout",
     "output_type": "stream",
     "text": [
      "b'/private/var/folders/c_/ysz9v_bd1yb7h3ymmkn6m199jbv7x7/T/20210416_115148_nnfcb-l0682.clients.net.dtu.dk_17687_2.ms'\n"
     ]
    }
   ],
   "source": [
    "feature_only = sirius_algo.isFeatureOnly()\n",
    "isotope_pattern_iterations = sirius_algo.getIsotopePatternIterations()\n",
    "no_mt_info = sirius_algo.isNoMasstraceInfoIsotopePattern()\n",
    "compound_info = []\n",
    "\n",
    "msfile.store(exp, \n",
    "             String(sirius_tmp.getTmpMsFile()),\n",
    "             feature_mapping, \n",
    "             feature_only,\n",
    "             isotope_pattern_iterations, \n",
    "             no_mt_info, \n",
    "             compound_info)\n",
    "print(String(sirius_tmp.getTmpMsFile())) #temp location of this file in case you want to check it"
   ]
  },
  {
   "cell_type": "code",
   "execution_count": 28,
   "id": "e8679368",
   "metadata": {},
   "outputs": [],
   "source": [
    "out_csifingerid = \"./wf_testing/csifingerID.mzTab\" # empty string \" \" : when no file is specified, no CSIFingerId Output will be generated\n",
    "executable= \"/Users/eeko/Desktop/software/THIRDPARTY/MacOS/64bit/Sirius/sirius\"\n",
    "subdirs = sirius_algo.callSiriusQProcess(String(sirius_tmp.getTmpMsFile()),\n",
    "                                         String(sirius_tmp.getTmpOutDir()),\n",
    "                                         String(executable),\n",
    "                                         String(out_csifingerid),\n",
    "                                         False)"
   ]
  },
  {
   "cell_type": "code",
   "execution_count": 29,
   "id": "9f6a37d2",
   "metadata": {},
   "outputs": [],
   "source": [
    "candidates = sirius_algo.getNumberOfSiriusCandidates()\n",
    "sirius_result = MzTab()\n",
    "siriusfile = MzTabFile()\n",
    "SiriusMzTabWriter.read(subdirs,\n",
    "                        input_mzML,\n",
    "                        candidates,\n",
    "                        sirius_result)\n",
    "siriusfile.store(\"./wf_testing/out_sirius_test.mzTab\", sirius_result)"
   ]
  },
  {
   "cell_type": "code",
   "execution_count": 30,
   "id": "2f0408d3",
   "metadata": {},
   "outputs": [],
   "source": [
    "top_hits= 5\n",
    "csi_result=MzTab()\n",
    "csi_file=MzTabFile()\n",
    "CsiFingerIdMzTabWriter.read(subdirs,\n",
    "                    input_mzML,\n",
    "                    top_hits,\n",
    "                    csi_result)\n",
    "\n",
    "csi_file.store(\"./wf_testing/csifingerID.mzTab\", csi_result)"
   ]
  },
  {
   "cell_type": "code",
   "execution_count": null,
   "id": "e85cdab4",
   "metadata": {},
   "outputs": [],
   "source": []
  }
 ],
 "metadata": {
  "kernelspec": {
   "display_name": "Python 3",
   "language": "python",
   "name": "python3"
  },
  "language_info": {
   "codemirror_mode": {
    "name": "ipython",
    "version": 3
   },
   "file_extension": ".py",
   "mimetype": "text/x-python",
   "name": "python",
   "nbconvert_exporter": "python",
   "pygments_lexer": "ipython3",
   "version": "3.9.2"
  }
 },
 "nbformat": 4,
 "nbformat_minor": 5
}
