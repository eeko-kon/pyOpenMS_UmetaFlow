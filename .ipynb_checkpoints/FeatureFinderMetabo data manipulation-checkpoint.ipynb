{
 "cells": [
  {
   "cell_type": "markdown",
   "id": "3812bae6",
   "metadata": {},
   "source": [
    "## Process Feature XML files"
   ]
  },
  {
   "cell_type": "code",
   "execution_count": 74,
   "id": "55b4287f",
   "metadata": {},
   "outputs": [],
   "source": [
    "import pandas as pd\n",
    "import numpy as np\n",
    "import sys\n",
    "from sklearn.decomposition import PCA\n",
    "from sklearn.datasets import load_iris\n",
    "import matplotlib.pyplot as plt"
   ]
  },
  {
   "cell_type": "code",
   "execution_count": 75,
   "id": "e5382376",
   "metadata": {},
   "outputs": [],
   "source": [
    "def init_df(filename):\n",
    "    FFM=pd.read_csv(filename, index_col=None, skiprows= 1, header=2, sep=',')\n",
    "    FFMnew= FFM.drop([0])\n",
    "    df= FFMnew.drop(columns= [\"#FEATURE\"])\n",
    "    df= df[df.num_of_masstraces !=1.0]\n",
    "    df[\"rt\"] = df[\"rt\"].astype(float)\n",
    "    df[\"mz\"] = df[\"mz\"].astype(float)\n",
    "    df[\"intensity\"] = df[\"intensity\"].astype(float)\n",
    "    df[\"charge\"] = df[\"charge\"].astype(float)\n",
    "    df[\"width\"] = df[\"width\"].astype(float)\n",
    "    df[\"FWHM\"] = df[\"FWHM\"].astype(float)\n",
    "    df.drop(df.columns.difference(['mz', \"rt\", \"intensity\"]), 1, inplace=True)\n",
    "    dfnew= df.sort_values(by=[\"mz\"], ascending=True)\n",
    "    DF= dfnew.apply(lambda x: round(x, 4))\n",
    "    \n",
    "    return DF    "
   ]
  },
  {
   "cell_type": "code",
   "execution_count": 77,
   "id": "93b4f3cc",
   "metadata": {},
   "outputs": [
    {
     "name": "stdout",
     "output_type": "stream",
     "text": [
      "           rt       mz   intensity\n",
      "849  280.4289  79.0219   6691181.0\n",
      "521  133.8606  79.0219  28167540.0\n",
      "824  273.4238  79.0219  17194100.0\n",
      "135   54.5256  79.0222  21422370.0\n",
      "808  270.4370  79.0223  65684950.0\n"
     ]
    }
   ],
   "source": [
    "filename1 = \"wf_testing/FeatureFindingMetaboGermA.csv\"\n",
    "DF1 = init_df(filename)\n",
    "print(DF1.head())"
   ]
  },
  {
   "cell_type": "code",
   "execution_count": 70,
   "id": "01ebb36c",
   "metadata": {},
   "outputs": [
    {
     "ename": "ModuleNotFoundError",
     "evalue": "No module named 'sklearn'",
     "output_type": "error",
     "traceback": [
      "\u001b[0;31m---------------------------------------------------------------------------\u001b[0m",
      "\u001b[0;31mModuleNotFoundError\u001b[0m                       Traceback (most recent call last)",
      "\u001b[0;32m<ipython-input-70-9e01dd32861d>\u001b[0m in \u001b[0;36m<module>\u001b[0;34m\u001b[0m\n\u001b[1;32m      1\u001b[0m \u001b[0;32mimport\u001b[0m \u001b[0mnumpy\u001b[0m \u001b[0;32mas\u001b[0m \u001b[0mnp\u001b[0m\u001b[0;34m\u001b[0m\u001b[0;34m\u001b[0m\u001b[0m\n\u001b[1;32m      2\u001b[0m \u001b[0;32mimport\u001b[0m \u001b[0mpandas\u001b[0m \u001b[0;32mas\u001b[0m \u001b[0mpd\u001b[0m\u001b[0;34m\u001b[0m\u001b[0;34m\u001b[0m\u001b[0m\n\u001b[0;32m----> 3\u001b[0;31m \u001b[0;32mfrom\u001b[0m \u001b[0msklearn\u001b[0m\u001b[0;34m.\u001b[0m\u001b[0mdecomposition\u001b[0m \u001b[0;32mimport\u001b[0m \u001b[0mPCA\u001b[0m\u001b[0;34m\u001b[0m\u001b[0;34m\u001b[0m\u001b[0m\n\u001b[0m\u001b[1;32m      4\u001b[0m \u001b[0;32mfrom\u001b[0m \u001b[0msklearn\u001b[0m\u001b[0;34m.\u001b[0m\u001b[0mdatasets\u001b[0m \u001b[0;32mimport\u001b[0m \u001b[0mload_iris\u001b[0m\u001b[0;34m\u001b[0m\u001b[0;34m\u001b[0m\u001b[0m\n\u001b[1;32m      5\u001b[0m \u001b[0;32mimport\u001b[0m \u001b[0mmatplotlib\u001b[0m\u001b[0;34m.\u001b[0m\u001b[0mpyplot\u001b[0m \u001b[0;32mas\u001b[0m \u001b[0mplt\u001b[0m\u001b[0;34m\u001b[0m\u001b[0;34m\u001b[0m\u001b[0m\n",
      "\u001b[0;31mModuleNotFoundError\u001b[0m: No module named 'sklearn'"
     ]
    }
   ],
   "source": [
    "pca = PCA(n_components=4)\n"
   ]
  }
 ],
 "metadata": {
  "kernelspec": {
   "display_name": "Python 3",
   "language": "python",
   "name": "python3"
  },
  "language_info": {
   "codemirror_mode": {
    "name": "ipython",
    "version": 3
   },
   "file_extension": ".py",
   "mimetype": "text/x-python",
   "name": "python",
   "nbconvert_exporter": "python",
   "pygments_lexer": "ipython3",
   "version": "3.9.2"
  }
 },
 "nbformat": 4,
 "nbformat_minor": 5
}
